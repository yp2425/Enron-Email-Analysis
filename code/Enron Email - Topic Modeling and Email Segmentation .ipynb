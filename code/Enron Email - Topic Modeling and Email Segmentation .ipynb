{
 "cells": [
  {
   "cell_type": "code",
   "execution_count": 1,
   "metadata": {},
   "outputs": [],
   "source": [
    "import numpy as np\n",
    "import pandas as pd\n",
    "import nltk\n",
    "import warnings\n",
    "warnings.filterwarnings('ignore')\n",
    "import gensim\n",
    "from gensim.models.phrases import Phrases, Phraser\n",
    "from gensim.utils import simple_preprocess\n",
    "from gensim.models import CoherenceModel\n",
    "import gensim.corpora as corpora\n",
    "import spacy\n",
    "from nltk.corpus import stopwords\n",
    "import warnings\n",
    "import pyLDAvis\n",
    "import pyLDAvis.gensim\n",
    "import matplotlib.pyplot as plt\n",
    "warnings.filterwarnings(\"ignore\", category=DeprecationWarning)\n",
    "warnings.simplefilter('ignore')"
   ]
  },
  {
   "cell_type": "markdown",
   "metadata": {},
   "source": [
    "# Data Preparation"
   ]
  },
  {
   "cell_type": "code",
   "execution_count": 2,
   "metadata": {},
   "outputs": [],
   "source": [
    "# Read in data\n",
    "truncated_enron_df = pd.read_csv(\"enron_test.csv\")"
   ]
  },
  {
   "cell_type": "markdown",
   "metadata": {},
   "source": [
    "### 1. Data Sanity Check"
   ]
  },
  {
   "cell_type": "code",
   "execution_count": 3,
   "metadata": {},
   "outputs": [
    {
     "name": "stdout",
     "output_type": "stream",
     "text": [
      "<class 'pandas.core.frame.DataFrame'>\n",
      "RangeIndex: 1000 entries, 0 to 999\n",
      "Data columns (total 6 columns):\n",
      " #   Column    Non-Null Count  Dtype \n",
      "---  ------    --------------  ----- \n",
      " 0   Date      1000 non-null   object\n",
      " 1   From      1000 non-null   object\n",
      " 2   To        995 non-null    object\n",
      " 3   Subject   698 non-null    object\n",
      " 4   content   1000 non-null   object\n",
      " 5   new_date  1000 non-null   object\n",
      "dtypes: object(6)\n",
      "memory usage: 47.0+ KB\n"
     ]
    }
   ],
   "source": [
    "truncated_enron_df.info()"
   ]
  },
  {
   "cell_type": "code",
   "execution_count": 4,
   "metadata": {},
   "outputs": [],
   "source": [
    "truncated_enron_df.From = [list(eval(item))[0] for item in truncated_enron_df.From]\n",
    "truncated_enron_df.To =[list(eval(item))[0] if not pd.isnull(item) else item for item in truncated_enron_df.To]\n",
    "truncated_enron_df.content = truncated_enron_df.content.apply(lambda x:x.replace(\"\\n\\n\", \" \"))"
   ]
  },
  {
   "cell_type": "code",
   "execution_count": 5,
   "metadata": {},
   "outputs": [],
   "source": [
    "# truncated_enron_df = truncated_enron_df.dropna(subset = ['To'])"
   ]
  },
  {
   "cell_type": "code",
   "execution_count": 6,
   "metadata": {},
   "outputs": [
    {
     "data": {
      "text/html": [
       "<div>\n",
       "<style scoped>\n",
       "    .dataframe tbody tr th:only-of-type {\n",
       "        vertical-align: middle;\n",
       "    }\n",
       "\n",
       "    .dataframe tbody tr th {\n",
       "        vertical-align: top;\n",
       "    }\n",
       "\n",
       "    .dataframe thead th {\n",
       "        text-align: right;\n",
       "    }\n",
       "</style>\n",
       "<table border=\"1\" class=\"dataframe\">\n",
       "  <thead>\n",
       "    <tr style=\"text-align: right;\">\n",
       "      <th></th>\n",
       "      <th>Date</th>\n",
       "      <th>From</th>\n",
       "      <th>To</th>\n",
       "      <th>Subject</th>\n",
       "      <th>content</th>\n",
       "      <th>new_date</th>\n",
       "    </tr>\n",
       "  </thead>\n",
       "  <tbody>\n",
       "    <tr>\n",
       "      <th>0</th>\n",
       "      <td>Mon, 14 May 2001 16:39:00 -0700 (PDT)</td>\n",
       "      <td>phillip.allen@enron.com</td>\n",
       "      <td>tim.belden@enron.com</td>\n",
       "      <td>NaN</td>\n",
       "      <td>Here is our forecast</td>\n",
       "      <td>2001-05-14 23:39:00</td>\n",
       "    </tr>\n",
       "    <tr>\n",
       "      <th>1</th>\n",
       "      <td>Fri, 4 May 2001 13:51:00 -0700 (PDT)</td>\n",
       "      <td>phillip.allen@enron.com</td>\n",
       "      <td>john.lavorato@enron.com</td>\n",
       "      <td>Re:</td>\n",
       "      <td>Traveling to have a business meeting takes the...</td>\n",
       "      <td>2001-05-04 20:51:00</td>\n",
       "    </tr>\n",
       "    <tr>\n",
       "      <th>2</th>\n",
       "      <td>Wed, 18 Oct 2000 03:00:00 -0700 (PDT)</td>\n",
       "      <td>phillip.allen@enron.com</td>\n",
       "      <td>leah.arsdall@enron.com</td>\n",
       "      <td>Re: test</td>\n",
       "      <td>test successful.  way to go!!!</td>\n",
       "      <td>2000-10-18 10:00:00</td>\n",
       "    </tr>\n",
       "    <tr>\n",
       "      <th>3</th>\n",
       "      <td>Mon, 23 Oct 2000 06:13:00 -0700 (PDT)</td>\n",
       "      <td>phillip.allen@enron.com</td>\n",
       "      <td>randall.gay@enron.com</td>\n",
       "      <td>NaN</td>\n",
       "      <td>Randy,  Can you send me a schedule of the sala...</td>\n",
       "      <td>2000-10-23 13:13:00</td>\n",
       "    </tr>\n",
       "    <tr>\n",
       "      <th>4</th>\n",
       "      <td>Thu, 31 Aug 2000 05:07:00 -0700 (PDT)</td>\n",
       "      <td>phillip.allen@enron.com</td>\n",
       "      <td>greg.piper@enron.com</td>\n",
       "      <td>Re: Hello</td>\n",
       "      <td>Let's shoot for Tuesday at 11:45.</td>\n",
       "      <td>2000-08-31 12:07:00</td>\n",
       "    </tr>\n",
       "    <tr>\n",
       "      <th>...</th>\n",
       "      <td>...</td>\n",
       "      <td>...</td>\n",
       "      <td>...</td>\n",
       "      <td>...</td>\n",
       "      <td>...</td>\n",
       "      <td>...</td>\n",
       "    </tr>\n",
       "    <tr>\n",
       "      <th>995</th>\n",
       "      <td>Mon, 19 Mar 2001 01:36:00 -0800 (PST)</td>\n",
       "      <td>phillip.allen@enron.com</td>\n",
       "      <td>jacquestc@aol.com</td>\n",
       "      <td>NaN</td>\n",
       "      <td>Jacques, Still trying to close the loop on the...</td>\n",
       "      <td>2001-03-19 09:36:00</td>\n",
       "    </tr>\n",
       "    <tr>\n",
       "      <th>996</th>\n",
       "      <td>Mon, 19 Mar 2001 00:45:00 -0800 (PST)</td>\n",
       "      <td>phillip.allen@enron.com</td>\n",
       "      <td>llewter@austin.rr.com</td>\n",
       "      <td>Re: Buyout</td>\n",
       "      <td>Larrry, I realize you are disappointed about t...</td>\n",
       "      <td>2001-03-19 08:45:00</td>\n",
       "    </tr>\n",
       "    <tr>\n",
       "      <th>997</th>\n",
       "      <td>Wed, 6 Dec 2000 08:04:00 -0800 (PST)</td>\n",
       "      <td>phillip.allen@enron.com</td>\n",
       "      <td>pallen70@hotmail.com</td>\n",
       "      <td>NaN</td>\n",
       "      <td>---------------------- Forwarded by Phillip K ...</td>\n",
       "      <td>2000-12-06 16:04:00</td>\n",
       "    </tr>\n",
       "    <tr>\n",
       "      <th>998</th>\n",
       "      <td>Fri, 16 Mar 2001 04:28:00 -0800 (PST)</td>\n",
       "      <td>phillip.allen@enron.com</td>\n",
       "      <td>jacquestc@aol.com</td>\n",
       "      <td>NaN</td>\n",
       "      <td>Jacques, I think we reached an agreement with ...</td>\n",
       "      <td>2001-03-16 12:28:00</td>\n",
       "    </tr>\n",
       "    <tr>\n",
       "      <th>999</th>\n",
       "      <td>Thu, 15 Mar 2001 07:42:00 -0800 (PST)</td>\n",
       "      <td>phillip.allen@enron.com</td>\n",
       "      <td>matt.smith@enron.com</td>\n",
       "      <td>Matt Smith</td>\n",
       "      <td>---------------------- Forwarded by Phillip K ...</td>\n",
       "      <td>2001-03-15 15:42:00</td>\n",
       "    </tr>\n",
       "  </tbody>\n",
       "</table>\n",
       "<p>1000 rows × 6 columns</p>\n",
       "</div>"
      ],
      "text/plain": [
       "                                      Date                     From  \\\n",
       "0    Mon, 14 May 2001 16:39:00 -0700 (PDT)  phillip.allen@enron.com   \n",
       "1     Fri, 4 May 2001 13:51:00 -0700 (PDT)  phillip.allen@enron.com   \n",
       "2    Wed, 18 Oct 2000 03:00:00 -0700 (PDT)  phillip.allen@enron.com   \n",
       "3    Mon, 23 Oct 2000 06:13:00 -0700 (PDT)  phillip.allen@enron.com   \n",
       "4    Thu, 31 Aug 2000 05:07:00 -0700 (PDT)  phillip.allen@enron.com   \n",
       "..                                     ...                      ...   \n",
       "995  Mon, 19 Mar 2001 01:36:00 -0800 (PST)  phillip.allen@enron.com   \n",
       "996  Mon, 19 Mar 2001 00:45:00 -0800 (PST)  phillip.allen@enron.com   \n",
       "997   Wed, 6 Dec 2000 08:04:00 -0800 (PST)  phillip.allen@enron.com   \n",
       "998  Fri, 16 Mar 2001 04:28:00 -0800 (PST)  phillip.allen@enron.com   \n",
       "999  Thu, 15 Mar 2001 07:42:00 -0800 (PST)  phillip.allen@enron.com   \n",
       "\n",
       "                          To     Subject  \\\n",
       "0       tim.belden@enron.com         NaN   \n",
       "1    john.lavorato@enron.com         Re:   \n",
       "2     leah.arsdall@enron.com    Re: test   \n",
       "3      randall.gay@enron.com         NaN   \n",
       "4       greg.piper@enron.com   Re: Hello   \n",
       "..                       ...         ...   \n",
       "995        jacquestc@aol.com         NaN   \n",
       "996    llewter@austin.rr.com  Re: Buyout   \n",
       "997     pallen70@hotmail.com         NaN   \n",
       "998        jacquestc@aol.com         NaN   \n",
       "999     matt.smith@enron.com  Matt Smith   \n",
       "\n",
       "                                               content             new_date  \n",
       "0                               Here is our forecast    2001-05-14 23:39:00  \n",
       "1    Traveling to have a business meeting takes the...  2001-05-04 20:51:00  \n",
       "2                       test successful.  way to go!!!  2000-10-18 10:00:00  \n",
       "3    Randy,  Can you send me a schedule of the sala...  2000-10-23 13:13:00  \n",
       "4                  Let's shoot for Tuesday at 11:45.    2000-08-31 12:07:00  \n",
       "..                                                 ...                  ...  \n",
       "995  Jacques, Still trying to close the loop on the...  2001-03-19 09:36:00  \n",
       "996  Larrry, I realize you are disappointed about t...  2001-03-19 08:45:00  \n",
       "997  ---------------------- Forwarded by Phillip K ...  2000-12-06 16:04:00  \n",
       "998  Jacques, I think we reached an agreement with ...  2001-03-16 12:28:00  \n",
       "999  ---------------------- Forwarded by Phillip K ...  2001-03-15 15:42:00  \n",
       "\n",
       "[1000 rows x 6 columns]"
      ]
     },
     "execution_count": 6,
     "metadata": {},
     "output_type": "execute_result"
    }
   ],
   "source": [
    "truncated_enron_df"
   ]
  },
  {
   "cell_type": "markdown",
   "metadata": {},
   "source": [
    "### 2. Text Preprocessing"
   ]
  },
  {
   "cell_type": "code",
   "execution_count": 7,
   "metadata": {},
   "outputs": [],
   "source": [
    "def sent_to_words(sentences):\n",
    "    for sentence in sentences:\n",
    "        yield(simple_preprocess(str(sentence), deacc=True))  # deacc=True removes punctuations\n",
    "def remove_stopwords(texts):\n",
    "    return [[word for word in simple_preprocess(str(doc)) if word not in stop_words] for doc in texts]\n",
    "\n",
    "def make_bigrams(texts):\n",
    "    return [bigram_mod[doc] for doc in texts]\n",
    "\n",
    "def make_trigrams(texts):\n",
    "    return [trigram_mod[bigram_mod[doc]] for doc in texts]\n",
    "\n",
    "def lemmatization(texts, allowed_postags=[\"NOUN\", \"ADJ\", \"VERB\", \"ADV\"]):\n",
    "    texts_out = []\n",
    "    for sent in texts:\n",
    "        doc = nlp(\" \".join(sent))\n",
    "        texts_out.append([token.lemma_ for token in doc if token.pos_ in allowed_postags])\n",
    "    return texts_out"
   ]
  },
  {
   "cell_type": "code",
   "execution_count": 8,
   "metadata": {},
   "outputs": [],
   "source": [
    "#Convert sentence to words\n",
    "content_data = truncated_enron_df.content.values.tolist()\n",
    "data_words = list(sent_to_words(content_data))\n",
    "\n",
    "# Build the bigram and trigram models\n",
    "bigram = Phrases(data_words, min_count=5, threshold=100) # higher threshold fewer phrases.\n",
    "# trigram = Phrases(bigram[data_words], threshold=100)\n",
    "\n",
    "# Get a sentence clubbed as a trigram/bigram\n",
    "bigram_mod = Phraser(bigram)\n",
    "# trigram_mod = Phraser(trigram)\n",
    "\n",
    "# Remove Stop Words\n",
    "# nltk.download('stopwords')\n",
    "stop_words = stopwords.words(\"english\")\n",
    "stop_words.extend([\"from\", \"subject\", \"re\", \"edu\", \"use\", \"ect\", \"ECT\", \"i\", \"cc\", \"thank\", \"sent\", \"http\", \"com\", \"hou\", \"pm\", \"am\"])\n",
    "data_words_nostops = remove_stopwords(data_words)\n",
    "\n",
    "# Form Bigrams\n",
    "data_words_bigrams = make_bigrams(data_words_nostops)\n",
    "\n",
    "# Initialize spacy 'en' model, keeping only tagger component (for efficiency)\n",
    "nlp = spacy.load(\"en_core_web_sm\", disable=[\"parser\", \"ner\"])\n",
    "\n",
    "# Do lemmatization keeping only noun, adj, vb, adv\n",
    "data_lemmatized = lemmatization(data_words_bigrams, allowed_postags=[\"NOUN\", \"ADJ\", \"VERB\", \"ADV\"])"
   ]
  },
  {
   "cell_type": "markdown",
   "metadata": {},
   "source": [
    "# Topic Modeling with LDA"
   ]
  },
  {
   "cell_type": "markdown",
   "metadata": {},
   "source": [
    "### 1. Build a Baseline LDA"
   ]
  },
  {
   "cell_type": "code",
   "execution_count": 9,
   "metadata": {},
   "outputs": [],
   "source": [
    "# Create Dictionary\n",
    "id2word = corpora.Dictionary(data_lemmatized)\n",
    "# Create Corpus\n",
    "texts = data_lemmatized\n",
    "# Term Document Frequency\n",
    "corpus = [id2word.doc2bow(text) for text in texts]"
   ]
  },
  {
   "cell_type": "code",
   "execution_count": 10,
   "metadata": {},
   "outputs": [],
   "source": [
    "# Build LDA model\n",
    "lda_model = gensim.models.ldamodel.LdaModel(corpus=corpus,\n",
    "                                           id2word=id2word,\n",
    "                                           num_topics=20,\n",
    "                                           random_state=100,\n",
    "                                           update_every=1,\n",
    "                                           chunksize=100,\n",
    "                                           passes=10,\n",
    "                                           alpha='auto',\n",
    "                                           per_word_topics=True)"
   ]
  },
  {
   "cell_type": "code",
   "execution_count": 11,
   "metadata": {},
   "outputs": [
    {
     "data": {
      "text/plain": [
       "(0,\n",
       " '0.078*\"power\" + 0.051*\"price\" + 0.035*\"energy\" + 0.033*\"market\" + 0.032*\"gas\" + 0.028*\"california\" + 0.025*\"demand\" + 0.023*\"say\" + 0.018*\"high\" + 0.017*\"load\"')"
      ]
     },
     "execution_count": 11,
     "metadata": {},
     "output_type": "execute_result"
    }
   ],
   "source": [
    "# Check a sample topic output\n",
    "lda_model.print_topics()[0]"
   ]
  },
  {
   "cell_type": "markdown",
   "metadata": {},
   "source": [
    "### 2. Model performance Metrics"
   ]
  },
  {
   "cell_type": "markdown",
   "metadata": {},
   "source": [
    "Two metrics are used here for measuring performance of LDA model. The Perplexity measures how well a probablity model predicts a sample. The low the value the better. While the Coherence measures the semantic similarity between high scoring words within a topic, the higher the score the better"
   ]
  },
  {
   "cell_type": "code",
   "execution_count": 12,
   "metadata": {},
   "outputs": [
    {
     "name": "stdout",
     "output_type": "stream",
     "text": [
      "\n",
      "Perplexity:  -12.29033557645039\n",
      "\n",
      "Coherence Score:  0.4784604923700706\n"
     ]
    }
   ],
   "source": [
    "#Compute Perplexity Score\n",
    "print(\"\\nPerplexity: \", lda_model.log_perplexity(corpus))\n",
    "\n",
    "# Compute Coherence Score\n",
    "coherence_model_lda = CoherenceModel(model=lda_model, texts=data_lemmatized, dictionary=id2word, coherence='c_v')\n",
    "coherence_lda = coherence_model_lda.get_coherence()\n",
    "print(\"\\nCoherence Score: \", coherence_lda)"
   ]
  },
  {
   "cell_type": "markdown",
   "metadata": {},
   "source": [
    "### 3.  Select best LDA Model with Grid Search"
   ]
  },
  {
   "cell_type": "code",
   "execution_count": 13,
   "metadata": {},
   "outputs": [],
   "source": [
    "# Grid search on best topic number\n",
    "def compute_coherence_values(dictionary, corpus, texts, limit, start=2, step=3):\n",
    "    perplexity_values = []\n",
    "    coherence_values = []\n",
    "    model_list = []\n",
    "    for num_topics in range(start, limit, step):\n",
    "        model = gensim.models.ldamodel.LdaModel(corpus=corpus,\n",
    "                                                id2word=id2word,\n",
    "                                                num_topics= num_topics,\n",
    "                                                random_state=100,\n",
    "                                                update_every=1,\n",
    "                                                chunksize=100,\n",
    "                                                passes=10,\n",
    "                                                alpha='auto',\n",
    "                                                per_word_topics=True)\n",
    "        model_list.append(model)\n",
    "        perplexity = model.log_perplexity(corpus)\n",
    "        perplexity_values.append(perplexity)\n",
    "        coherencemodel = CoherenceModel(model=model, texts=texts, dictionary=dictionary, coherence='c_v')\n",
    "        coherence_values.append(coherencemodel.get_coherence())\n",
    "\n",
    "    return model_list, coherence_values, perplexity_values"
   ]
  },
  {
   "cell_type": "code",
   "execution_count": 14,
   "metadata": {},
   "outputs": [],
   "source": [
    "model_list, coherence_values, perplexity_values = compute_coherence_values(dictionary=id2word, corpus=corpus, texts=data_lemmatized, start=2, limit=40, step=2)"
   ]
  },
  {
   "cell_type": "code",
   "execution_count": 15,
   "metadata": {},
   "outputs": [
    {
     "data": {
      "image/png": "[encoded data removed]",
      "text/plain": [
       "<Figure size 432x288 with 1 Axes>"
      ]
     },
     "metadata": {
      "needs_background": "light"
     },
     "output_type": "display_data"
    }
   ],
   "source": [
    "# Show changes of Coherence along with changes of topic numbers\n",
    "limit=40; start=2; step=2;\n",
    "x = range(start, limit, step)\n",
    "plt.plot(x, coherence_values, label = \"Coherence\")\n",
    "plt.xlabel(\"Num Topics\")\n",
    "plt.ylabel(\"Coherence Score\")\n",
    "plt.title(\"Coherenece VS Number of Topics\")\n",
    "plt.legend()\n",
    "plt.show()"
   ]
  },
  {
   "cell_type": "code",
   "execution_count": 16,
   "metadata": {},
   "outputs": [
    {
     "data": {
      "image/png": "[encoded data removed]",
      "text/plain": [
       "<Figure size 432x288 with 1 Axes>"
      ]
     },
     "metadata": {
      "needs_background": "light"
     },
     "output_type": "display_data"
    }
   ],
   "source": [
    "# Show changes of Perplexity along with changes of topic numbers\n",
    "plt.plot(x, perplexity_values, label = \"Perplexity\")\n",
    "plt.xlabel(\"Num Topics\")\n",
    "plt.ylabel(\"Perplexity Score\")\n",
    "plt.title(\"Perplexity VS Number of Topics\")\n",
    "plt.legend()\n",
    "plt.show()"
   ]
  },
  {
   "cell_type": "code",
   "execution_count": 17,
   "metadata": {},
   "outputs": [
    {
     "name": "stdout",
     "output_type": "stream",
     "text": [
      "Num Topics = 2  has Coherence Value of 0.3941 has Preplexity -7.3878\n",
      "Num Topics = 4  has Coherence Value of 0.4613 has Preplexity -7.2164\n",
      "Num Topics = 6  has Coherence Value of 0.4626 has Preplexity -7.2098\n",
      "Num Topics = 8  has Coherence Value of 0.4336 has Preplexity -7.2193\n",
      "Num Topics = 10  has Coherence Value of 0.4563 has Preplexity -7.3185\n",
      "Num Topics = 12  has Coherence Value of 0.4504 has Preplexity -7.8901\n",
      "Num Topics = 14  has Coherence Value of 0.4456 has Preplexity -9.733\n",
      "Num Topics = 16  has Coherence Value of 0.429 has Preplexity -11.1975\n",
      "Num Topics = 18  has Coherence Value of 0.4416 has Preplexity -11.8047\n",
      "Num Topics = 20  has Coherence Value of 0.4785 has Preplexity -12.2903\n",
      "Num Topics = 22  has Coherence Value of 0.4285 has Preplexity -12.8349\n",
      "Num Topics = 24  has Coherence Value of 0.455 has Preplexity -13.3767\n",
      "Num Topics = 26  has Coherence Value of 0.428 has Preplexity -13.9223\n",
      "Num Topics = 28  has Coherence Value of 0.4554 has Preplexity -14.444\n",
      "Num Topics = 30  has Coherence Value of 0.3841 has Preplexity -14.9566\n",
      "Num Topics = 32  has Coherence Value of 0.4465 has Preplexity -15.4429\n",
      "Num Topics = 34  has Coherence Value of 0.4325 has Preplexity -16.0017\n",
      "Num Topics = 36  has Coherence Value of 0.4243 has Preplexity -16.4971\n",
      "Num Topics = 38  has Coherence Value of 0.3922 has Preplexity -17.0867\n"
     ]
    }
   ],
   "source": [
    "# print out performance score for each topic number\n",
    "for m, cv, per in zip(x, coherence_values, perplexity_values):\n",
    "    print(\"Num Topics =\", m, \" has Coherence Value of\", round(cv, 4), \"has Preplexity\", round(per, 4))"
   ]
  },
  {
   "cell_type": "markdown",
   "metadata": {},
   "source": [
    "Since we have limited amount of data to simulate distribution, we value less on model preplexity and mainly look at the coherence score. When topic number = 20 the model has highest coherence score. So in such case the best model is the one we built beofre. "
   ]
  },
  {
   "cell_type": "markdown",
   "metadata": {},
   "source": [
    "   ### 4. Visualize the Best model Output: Topics Distinctiveness and Most Salient Words"
   ]
  },
  {
   "cell_type": "markdown",
   "metadata": {},
   "source": [
    "Use pyLDAvis library to visualize the distinctiveness of the top 20 topic as well as the most significant terms covered in each topic which is more explanable than other visualization such as word clouds. Each bubble represent a topic. The larger the bubble, the higher percentage the number of tweets in the corpus is about the topic. "
   ]
  },
  {
   "cell_type": "code",
   "execution_count": 18,
   "metadata": {},
   "outputs": [
    {
     "data": {
      "text/html": [
       "\n",
       "<link rel=\"stylesheet\" type=\"text/css\" href=\"https://cdn.jsdelivr.net/gh/bmabey/pyLDAvis/pyLDAvis/js/ldavis.v1.0.0.css\">\n",
       "\n",
       "\n",
       "<div id=\"ldavis_el6709649215160961085889673\"></div>\n",
       "<script type=\"text/javascript\">\n",
       "\n",
       "var ldavis_el6709649215160961085889673_data = {\"mdsDat\": {\"x\": [0.16458124719760353, 0.23627303362294919, 0.16826465081002476, 0.14046019489918424, 0.2109647841645721, 0.14147235563068558, 0.08565472949241903, 0.10592190570050959, 0.027050813955226734, 0.03717708742643046, -0.02332040469347415, -0.03820994179540805, -0.10495375587703894, -0.08171604382535201, -0.1715643637283962, -0.15298485045003665, -0.17567667591156597, -0.17723656149462716, -0.19162267833244867, -0.20053552679125738], \"y\": [0.30408022885663843, 0.17930508077710003, -0.07082637507366984, -0.15856272926942297, -0.009064266589496823, -0.1923827325747084, -0.11635222047803802, -0.09876697669418358, 0.12605866976163269, -0.06805027397907143, -0.08355255614881778, 0.10671698013236904, 0.0006212109750710229, 0.08108790465911098, -0.006324086126300545, -0.020488513490848917, 0.0032002344649952755, 0.010456096375489238, 0.005324609429027579, 0.0075197149931243035], \"topics\": [1, 2, 3, 4, 5, 6, 7, 8, 9, 10, 11, 12, 13, 14, 15, 16, 17, 18, 19, 20], \"cluster\": [1, 1, 1, 1, 1, 1, 1, 1, 1, 1, 1, 1, 1, 1, 1, 1, 1, 1, 1, 1], \"Freq\": [15.341722063956373, 14.40751624226643, 12.004712622703712, 10.41874598394556, 9.620178441900242, 7.385801049666628, 6.888718230943805, 4.524907313046181, 4.446749011453121, 3.4031396350605494, 2.71786429338143, 1.8970746548837691, 1.759521507915602, 1.1156683144607853, 0.9126046818467731, 0.905114595199342, 0.7925450183666675, 0.7579696581769929, 0.5194481546998532, 0.17999852612617925]}, \"tinfo\": {\"Term\": [\"enron\", \"phillip\", \"allen\", \"corp\", \"enronxgate\", \"ee\", \"power\", \"gas\", \"forward\", \"price\", \"cost\", \"project\", \"meeting\", \"get\", \"loan\", \"buy\", \"market\", \"trade\", \"energy\", \"let\", \"mail\", \"new\", \"work\", \"today\", \"change\", \"go\", \"email\", \"need\", \"see\", \"pdx\", \"corp\", \"enronxgate\", \"ee\", \"hr\", \"outlook\", \"scott\", \"jame\", \"jones\", \"mailbox\", \"johnson\", \"outlook_migration\", \"stay\", \"mgusa\", \"reply\", \"owa\", \"network\", \"co\", \"rule\", \"brief\", \"miller\", \"nyc_mgusa\", \"richardson\", \"love\", \"task\", \"vote\", \"doe\", \"desktop\", \"brandon\", \"contractor\", \"danny\", \"enron\", \"communication\", \"mark\", \"david\", \"chris\", \"smith\", \"john\", \"mike\", \"available\", \"client\", \"steve\", \"team\", \"access\", \"date\", \"george\", \"note\", \"allen\", \"pdx\", \"thank\", \"forecast\", \"tim_belden\", \"link\", \"davis\", \"stock\", \"resume\", \"music\", \"alan_comne\", \"event\", \"transfer\", \"reflect\", \"clark\", \"person\", \"action\", \"mailto\", \"attorney\", \"bob\", \"update\", \"joe_hartsoe\", \"original_message\", \"receipt\", \"christi\", \"afternoon\", \"briefing\", \"forwarded\", \"john_arnold\", \"sf\", \"appreciate\", \"mail\", \"receive\", \"allen\", \"forward\", \"request\", \"information\", \"phillip\", \"phone\", \"send\", \"ask\", \"hunter_shively\", \"net\", \"service\", \"friday\", \"attach\", \"table\", \"review\", \"thursday\", \"help\", \"jeff\", \"provide\", \"call\", \"enron\", \"report\", \"gas\", \"need\", \"email\", \"want\", \"new\", \"point\", \"also\", \"desk\", \"system\", \"director\", \"central\", \"real\", \"understand\", \"associate\", \"transportation\", \"top\", \"east\", \"position\", \"appear\", \"summer\", \"model\", \"original\", \"industry\", \"position_manag\", \"brad\", \"goal\", \"result\", \"clear\", \"volume\", \"main\", \"revise\", \"exist\", \"happen\", \"change\", \"reference\", \"kipp_flore\", \"hand\", \"transport\", \"several\", \"issue\", \"let\", \"option\", \"group\", \"people\", \"manager\", \"order\", \"leave\", \"show\", \"include\", \"george\", \"list\", \"deal\", \"begin\", \"trading\", \"time\", \"set\", \"activity\", \"end\", \"know\", \"gas\", \"contact\", \"need\", \"trader\", \"meeting\", \"regard\", \"daily\", \"plan\", \"help\", \"phillip\", \"fee\", \"partnership\", \"structure\", \"engineer\", \"appraisal\", \"bond\", \"fund\", \"professional\", \"deliver\", \"cover\", \"spend\", \"own\", \"learn\", \"per_lot\", \"north\", \"phase\", \"equipment\", \"sub\", \"extension\", \"present\", \"willing\", \"reserve\", \"engineering\", \"charge\", \"completion\", \"labor\", \"track\", \"debt\", \"vendor\", \"early\", \"loan\", \"cost\", \"construction\", \"cash\", \"improvement\", \"land\", \"equity\", \"financing\", \"investor\", \"amount\", \"investment\", \"profit\", \"total\", \"agreement\", \"release\", \"expense\", \"contract\", \"purchase\", \"estimate\", \"unit\", \"design\", \"value\", \"payment\", \"rate\", \"credit\", \"include\", \"lucy\", \"do\", \"item\", \"later\", \"mention\", \"move\", \"fine\", \"june\", \"wade\", \"public\", \"july\", \"hotmail\", \"invite\", \"msn\", \"file\", \"cdt\", \"profile\", \"write\", \"progress\", \"mike_grigsby\", \"stagecoachmama_hotmail\", \"online\", \"cell_phone\", \"wide\", \"private_free\", \"monitor\", \"fax\", \"ever\", \"aug\", \"great\", \"today\", \"talk\", \"pipeline\", \"go\", \"tomorrow\", \"check\", \"office\", \"work\", \"pay\", \"get\", \"try\", \"week\", \"next\", \"pallen\", \"need\", \"email\", \"want\", \"call\", \"day\", \"phillip\", \"see\", \"time\", \"make\", \"give\", \"know\", \"follow\", \"find\", \"new\", \"demand\", \"load\", \"peak\", \"analyst\", \"inc\", \"electricity\", \"mw\", \"supply\", \"california\", \"opportunity\", \"build\", \"research\", \"actual\", \"percent\", \"electric\", \"touch\", \"american\", \"half\", \"proposal\", \"energy\", \"protect\", \"station\", \"commodity\", \"near\", \"seasonal\", \"cooper\", \"foot\", \"retail\", \"usually\", \"assure\", \"region\", \"power\", \"price\", \"low\", \"market\", \"sell\", \"say\", \"expect\", \"customer\", \"high\", \"gas\", \"generation\", \"bid\", \"utility\", \"unit\", \"year\", \"day\", \"also\", \"west\", \"number\", \"see\", \"plant\", \"house\", \"megawatt\", \"place\", \"pass\", \"greg\", \"account\", \"continue\", \"fill\", \"copy\", \"sheet\", \"facility\", \"wait\", \"los_angele\", \"column\", \"suggest\", \"commission\", \"course\", \"operate\", \"format\", \"turn\", \"suggestion\", \"mile\", \"round\", \"trip\", \"effect\", \"exodus\", \"town\", \"light\", \"capital\", \"open\", \"speak\", \"space\", \"fall\", \"line\", \"business\", \"bring\", \"area\", \"little\", \"company\", \"bill\", \"way\", \"even\", \"take\", \"internet\", \"utility\", \"plan\", \"say\", \"look\", \"last\", \"new\", \"hold\", \"well\", \"power\", \"meeting\", \"cause\", \"package\", \"mid\", \"proforma\", \"rather\", \"san_marco\", \"broker\", \"san_antonio\", \"portion\", \"highlight\", \"preferred\", \"retention\", \"quality\", \"working\", \"invest\", \"filtration_pond\", \"street_widene\", \"sanmarcos_net\", \"clearly\", \"pocket\", \"investigate\", \"introduce\", \"designate\", \"university\", \"yellow\", \"reward\", \"town_home\", \"enormous\", \"xls_enclose\", \"easement\", \"austin\", \"project\", \"proceed\", \"likely\", \"rr\", \"westgate\", \"rental\", \"property\", \"george_richard\", \"evening\", \"closing\", \"sagewood\", \"believe\", \"lot\", \"realize\", \"site\", \"idea\", \"week\", \"plan\", \"term\", \"interest\", \"long\", \"mike\", \"development\", \"deal\", \"require\", \"last\", \"back\", \"allen\", \"market\", \"land\", \"phillip\", \"regard\", \"shockwave\", \"storage\", \"center\", \"password\", \"resource\", \"feature\", \"download\", \"hope\", \"western\", \"moore\", \"strategy\", \"laura\", \"i\", \"topic\", \"kathy\", \"guest\", \"monica\", \"offline\", \"eb\", \"oct\", \"sensitive\", \"window\", \"install\", \"enrononline\", \"ward\", \"rain\", \"murphy\", \"rita\", \"john_lavorato\", \"log\", \"click\", \"page\", \"instruction\", \"web\", \"message\", \"attend\", \"www\", \"d\", \"view\", \"question\", \"access\", \"user\", \"problem\", \"west\", \"home\", \"site\", \"use\", \"follow\", \"meeting\", \"product\", \"find\", \"yahoo\", \"risk\", \"visit\", \"late\", \"hear\", \"remember\", \"night\", \"buy\", \"emergency\", \"sound\", \"general\", \"exclusive\", \"friend\", \"guess\", \"noon\", \"oil\", \"burnet\", \"past\", \"barney\", \"exercise\", \"surprised\", \"paine\", \"keep\", \"wrong\", \"play\", \"bind\", \"atty\", \"signature\", \"vague\", \"eog\", \"soon\", \"shut\", \"screen\", \"south\", \"draft\", \"run\", \"long\", \"close\", \"tell\", \"offer\", \"see\", \"come\", \"good\", \"like\", \"still\", \"line\", \"think\", \"take\", \"jeff\", \"today\", \"look\", \"smith\", \"property\", \"index\", \"natural\", \"eol\", \"trade\", \"san_diego\", \"execute\", \"conversation\", \"attempt\", \"accurate\", \"establish\", \"september\", \"indece\", \"cent\", \"el_paso\", \"anytime\", \"reliable\", \"concerned\", \"sempra\", \"indice\", \"brokerage\", \"outlier\", \"trades_submitte\", \"breakout\", \"counterparty\", \"reveal\", \"buys_vs\", \"distinguish\", \"spreadsheet_detailing\", \"average\", \"make_sense\", \"northwest\", \"spread\", \"physical\", \"san_juan\", \"calculation\", \"summary\", \"daily\", \"trader\", \"swap\", \"security\", \"financial\", \"gas\", \"yesterday\", \"socal\", \"high\", \"price\", \"point\", \"market\", \"product\", \"offer\", \"value\", \"mark\", \"follow\", \"day\", \"normal\", \"permission\", \"bath\", \"responsible\", \"address_book\", \"shared_calendar\", \"tim\", \"active\", \"pda\", \"anyone_else\", \"ina_rangel\", \"fact\", \"data\", \"messaging_maintain\", \"updating_anyone\", \"notes_database\", \"vacation_leave\", \"extension_office\", \"updating\", \"distribution_group\", \"mass_mailing\", \"palm_pilot\", \"aware\", \"please\", \"login_id\", \"lehman\", \"morning\", \"full\", \"sq\", \"location_eb\", \"else\", \"survey\", \"application\", \"room\", \"calendar\", \"exact\", \"currently\", \"short\", \"hour\", \"type\", \"access\", \"problem\", \"email\", \"phillip\", \"know\", \"plan\", \"fixed_price\", \"allen\", \"also\", \"list\", \"rentroll\", \"member\", \"save\", \"already\", \"go_ahead\", \"drop\", \"select\", \"basic\", \"rockie\", \"record\", \"specific\", \"production\", \"step\", \"college\", \"origination\", \"favorite\", \"denver\", \"paula\", \"dave\", \"delivery\", \"treat\", \"game\", \"improve\", \"finish\", \"planning\", \"book\", \"sparse\", \"hubert\", \"scrub\", \"trailblazer\", \"capacity\", \"side\", \"simply\", \"compare\", \"future\", \"schedule\", \"last\", \"new\", \"return\", \"check\", \"detail\", \"company\", \"get\", \"first\", \"rise\", \"status\", \"together\", \"date_occur\", \"kind\", \"richard_burchfield\", \"trading_vision\", \"allan_severude\", \"room_eb\", \"confirmation\", \"confirmation_chairperson\", \"meeting_date\", \"meeting_repeat\", \"description\", \"scott_mill\", \"rd\", \"amortization\", \"burchfield\", \"chairperson_richard\", \"invitation\", \"cindy_cicchetti\", \"walmart\", \"nd\", \"response\", \"lotus\", \"mtg\", \"russ_severson\", \"slot\", \"cpa\", \"fletch\", \"start\", \"meeting\", \"accept\", \"weekend\", \"hunter_shively\", \"end\", \"allen\", \"gas\", \"phillip\", \"forward\", \"scott_neal\", \"room\", \"update\", \"notice\", \"language\", \"tenant\", \"stage\", \"bidweek\", \"resolve\", \"excel\", \"roll\", \"vs_actual\", \"suzanne\", \"headcount\", \"complain\", \"socal\", \"apartment\", \"short\", \"diff\", \"posting\", \"mary\", \"perceive\", \"detail\", \"san_juan\", \"otherwise\", \"benchmark\", \"long\", \"input\", \"sell\", \"reason\", \"deal\", \"transport\", \"prior\", \"due\", \"position\", \"report\", \"add\", \"approval\", \"study\", \"multifamily\", \"individual\", \"duplex\", \"winmail_dat\", \"san_marcos\", \"student\", \"payout\", \"alliance\", \"parcel\", \"serious\", \"psf\", \"lie\", \"approve\", \"roughly\", \"enclose\", \"demographic\", \"housing\", \"square_foot\", \"deposit\", \"rent\", \"higher\", \"moratorium\", \"street\", \"location\", \"case\", \"layout\", \"room\", \"retwell_mail\", \"lease\", \"addition\", \"let\", \"month\", \"know\", \"show\", \"unit\", \"westgate\", \"investor\", \"question\", \"style\", \"participant\", \"delete\", \"participation\", \"important\", \"practice\", \"cancel\", \"cheap\", \"unique\", \"medium\", \"colleague\", \"admin\", \"gather\", \"fx\", \"combine\", \"technical\", \"immediate\", \"input\", \"fsddatasvc\", \"peer\", \"program\", \"usage\", \"attendance\", \"process\", \"assessment\", \"feedback\", \"denni\", \"epexwx\", \"evh\", \"fsd\", \"analysis\", \"commercial\", \"improve\", \"ask\", \"experience\", \"complete\", \"management\", \"datum\", \"part\", \"open\", \"kid\", \"map\", \"bruce\", \"stop\", \"patti\", \"nwpl\", \"bike\", \"adjustment\", \"ride\", \"school\", \"randy\", \"luck\", \"scheduling\", \"aeco\", \"salary\", \"print\", \"basis\", \"differently\", \"reuter\", \"studio\", \"nymex\", \"glad\", \"enough\", \"correlation\", \"page\", \"thought\", \"set\", \"example\", \"right\", \"good\", \"change\", \"list\", \"cash\", \"message\", \"mind\", \"attachment\", \"front\", \"partner\", \"store\", \"floor\", \"toss\", \"tuesday\", \"spec\", \"small\", \"trim\", \"design\", \"box\", \"builder\", \"building\", \"exterior\", \"kitchen\", \"dimension\", \"roof\", \"stucco\", \"thinking\", \"ready\", \"cary\", \"acres_near\", \"avoid_leak\", \"cabinets_maybe\", \"choose_builder\", \"detailed_sketch\", \"different_shape\", \"dormers_metal\", \"insurance\", \"job\", \"attractive\", \"picture\", \"price_cap\", \"pdf\", \"var\", \"fyi\", \"ray\", \"nile\", \"comment\", \"kv\", \"xh\", \"selling\", \"frank\", \"hebert\", \"never\", \"commissioner\", \"behind_close\", \"chairman\", \"agenda\", \"cap\", \"delay\", \"sarah\", \"becky\", \"cantrell\", \"red\", \"bumped\", \"export\", \"expressly\", \"keynote\", \"luncheon\", \"prolong\", \"ray_alvarez\", \"pira\", \"attached\", \"pkaufma\", \"matter\", \"ferc\", \"pretty\", \"relate\", \"increase\", \"weather\", \"state\"], \"Freq\": [4717.0, 1654.0, 1094.0, 837.0, 793.0, 595.0, 466.0, 484.0, 549.0, 368.0, 324.0, 240.0, 184.0, 407.0, 265.0, 148.0, 263.0, 125.0, 180.0, 185.0, 261.0, 298.0, 264.0, 201.0, 165.0, 255.0, 252.0, 349.0, 198.0, 193.0, 836.5529412979726, 792.3359755395148, 594.185744522175, 111.24814059510425, 74.01000671910467, 55.90145463420294, 44.36939895627178, 37.54631586412959, 36.397444382816815, 35.985984023176016, 35.46063072616966, 33.786947650287466, 28.345037657779823, 27.691284538749823, 25.263234120949864, 24.545602142998895, 23.961966800611805, 22.648170276495325, 21.559553851594366, 20.589901819632335, 16.641954612394407, 16.232380871585693, 15.56841829606648, 14.546940284405284, 13.64285526163105, 13.130159589239454, 13.01250859121766, 12.323799320535281, 11.863681473466528, 11.863681473466528, 4289.149984308603, 121.96325762980307, 89.40606323848107, 50.347893231654986, 28.06929243798559, 62.15069272153592, 80.01096296622629, 45.3312383315356, 48.611143850507226, 27.604616818688836, 33.94552870377586, 37.931118393070015, 40.034686716221685, 36.25789763219865, 32.02143900657192, 30.109072964263884, 33.962501268491714, 192.21295656761276, 164.8461331746352, 74.12522563224734, 54.2499977606379, 44.65466668342537, 39.028744952910245, 36.45630391799078, 35.07636664416774, 33.73533302367237, 33.612333275630306, 31.700796063911497, 31.35366504967128, 29.162526742071645, 28.93553175299862, 28.588764734162105, 28.143229974550128, 27.469018391680578, 27.27122416640896, 27.236335426238938, 126.98934816994647, 25.947320257321305, 23.318859014126833, 22.959909112983443, 22.94389989345096, 36.757299611184095, 22.35932985334369, 80.83311712202175, 20.255673236261508, 44.79964649126658, 19.39721419681938, 244.87891649914977, 186.65403630429864, 920.3270312244412, 456.0754349929444, 187.12035388581566, 166.21126504505006, 1211.771607818373, 45.24468130538432, 118.67535985250979, 56.27965805908659, 70.36334190601195, 54.073626638342915, 89.00441047023561, 82.72219187039433, 89.17119053291752, 50.44095689493319, 81.29550530737357, 52.14966095705691, 86.72009811026311, 74.44559421334223, 68.35889815661456, 106.7677808644627, 412.3021371319601, 83.40844161450664, 120.13492879549344, 94.36133521193183, 81.48140609246656, 75.30254464532808, 76.4930201187834, 59.66337248831471, 60.50230734056094, 115.16211908245138, 58.730233873443574, 54.791409790534566, 52.236499439637, 42.20798574940606, 41.61261954224908, 39.28143878710432, 38.094269120530065, 37.64761017697829, 37.00314747891803, 117.056653128718, 32.91799129756362, 32.72653836928242, 32.535158523006146, 31.523864355365014, 31.438464378519196, 30.96900019533306, 29.79149014275871, 28.57488121755374, 27.441090647370892, 26.984611309408393, 23.813818805523507, 23.461225537550593, 23.453935607560116, 22.61400047094823, 22.50387319773873, 158.55057653268105, 21.722754458684083, 20.782607449879816, 20.742423309476177, 39.29853632215467, 32.09520119930527, 137.2196640327106, 155.51132981059672, 48.463629973493624, 73.39405776984398, 34.711087521005375, 69.09299907546338, 65.5846535802175, 55.9505415459224, 69.85539055075803, 90.32190371297062, 67.9701159945144, 119.06939731793794, 87.04484814688622, 51.18757900176433, 60.83689209308218, 126.51056320938889, 59.2667507961411, 40.52988406070128, 47.320718769097134, 81.8362644236462, 104.1265828677667, 54.23530323641902, 81.71993248821924, 51.112706487726804, 57.64009518479768, 49.99595498699037, 52.0107783592502, 53.6260039450246, 51.04777678045826, 55.10402172066749, 90.67364610698486, 50.4739371020749, 45.50962038680588, 41.11782426884891, 40.046317160658965, 39.30173815452301, 38.69554099431602, 34.637935369318924, 31.658242978987694, 31.0450847061002, 29.608742352407436, 28.95040503111604, 28.40652806466064, 28.23920448099939, 28.0603657264302, 26.719411230233746, 26.645468039683042, 25.884762720116377, 25.837392269041757, 25.070591615273752, 24.863943294829664, 24.598474365072686, 24.503278374235677, 23.76583490501596, 21.9208641372531, 21.64495988117484, 21.538009282524477, 21.29012707275373, 21.180490340873117, 52.487503164744965, 247.35558811822804, 299.12931876821676, 113.58502425140398, 89.49865468541097, 56.36949846920875, 111.15683592365417, 51.400827490745954, 41.15325141680062, 37.13204654412557, 75.23487495733144, 50.6930519983491, 49.67165221605986, 67.83926833426635, 43.26272860967419, 41.68327592758929, 43.194998093265234, 68.0382959012839, 44.933937953802484, 53.544498176522154, 71.5297680273464, 41.990798540580855, 50.833993123518695, 43.631293362471894, 46.88761307662223, 43.200370359725724, 40.90672337336909, 81.44071365008051, 58.38021646202155, 57.3099671937228, 47.36007332299372, 52.39401474486337, 44.64131080917517, 39.89541205772281, 39.164116444001266, 35.01635587024697, 34.34908405485009, 26.282662336061154, 25.500394244410717, 20.828198703346786, 20.441862635638792, 136.2129032768954, 14.280432959655704, 14.090324972876774, 34.80838101530677, 13.310299939656483, 39.024226904412636, 11.927460274021495, 45.51797769274803, 11.104314931515173, 11.039334319428043, 10.910440451386668, 10.74005805514307, 66.74078044745492, 9.966525006961461, 9.904414104093055, 39.94767590480013, 172.03569428999904, 45.56972030692645, 47.941034241225424, 204.80158905162656, 78.67576638748879, 93.17385947069788, 72.37469314699297, 197.68630317063636, 134.48558430229977, 264.05492332826884, 87.38083603635519, 137.62174309370695, 63.19425323777031, 78.13703411889301, 155.95014248903584, 123.89399123924231, 120.77806096955243, 113.59184056191494, 93.4958994105329, 253.84163993193107, 87.37290041188301, 108.58883636238795, 75.72400105475816, 64.9648755388215, 73.73633503198067, 65.8344442844901, 57.65774666828494, 63.76180558609126, 121.56241130169944, 81.93970058454957, 70.81251923684304, 70.16450647790116, 65.42682958241299, 57.20016864917114, 53.91183696173793, 50.69472683189619, 137.02234531433766, 45.926636892497136, 43.06116521802144, 38.81224176519426, 37.94680541793843, 34.747583859237956, 20.08674538126193, 19.764022698425602, 18.93460404606159, 18.886659887690517, 17.567831331339246, 170.80548182196733, 15.61145293047256, 15.193708594734098, 12.269504989030553, 12.151604984460818, 12.02607698920586, 10.963035666039731, 10.53200136067684, 10.362874891104608, 8.409147065250558, 8.327930209519836, 56.13101346786517, 376.1616922870305, 247.3266786783935, 67.6788561327172, 161.1671727475169, 75.58681858097907, 109.58808010135351, 58.60750033234385, 33.47448952466961, 85.21485808235254, 152.69982881198254, 43.290342161862156, 53.09285199778244, 63.23939702809104, 63.90944170825757, 58.40900621104127, 55.00128848843328, 55.0092154837637, 45.16755177640992, 45.94965800202165, 47.03637127565052, 116.99137936713936, 75.41192493076989, 57.29574280873909, 53.49235687976519, 51.21045281078649, 43.92379427453249, 42.92077504944378, 40.82428273672362, 36.87339607737956, 35.049418619115016, 30.00182972502291, 26.415050371563147, 25.52981952967433, 24.721666751979704, 23.911295508279, 25.096692349445902, 48.735944794244105, 19.659943000281753, 19.084571889567144, 18.568220781379097, 27.905763072604476, 18.21719361816581, 16.700911943137594, 16.292369266395244, 16.264192860954143, 15.587898321753157, 15.501862519583566, 15.25418169361849, 14.323436652175843, 13.642075077905206, 58.53147450479817, 48.97084637533768, 36.60971734367027, 80.69235210675899, 107.71298288936717, 55.762535370382835, 57.88402212052499, 43.66192302446898, 36.68152183319028, 77.22187447071622, 51.806838539944316, 53.80882587828454, 41.10445528291289, 78.38329384611798, 49.69331562145726, 70.87306090586382, 88.66500730150521, 74.08059370526927, 59.649526853793766, 50.64782634693856, 63.12185810415542, 42.02199437075791, 42.15722434208498, 46.49729032814006, 42.79114366435133, 29.362574021291273, 29.04012702024558, 27.30797880838333, 25.260688960020026, 23.355974925420533, 19.787701016740485, 17.92445429178382, 15.339607237017027, 15.01643300511169, 13.038414650792179, 12.980800887801529, 11.982424481330288, 11.514435583838493, 10.909023468503232, 10.344361761934955, 10.211741297893745, 10.211741297893745, 9.519562139282355, 9.03155028985471, 8.991292965647869, 8.392536114543324, 7.946154788502576, 7.942476625603543, 7.900954911379358, 7.53516054363891, 7.2888999277939455, 6.827451976045459, 6.43337066932771, 6.213403994251882, 5.784686940512237, 50.79964840102449, 163.281674042142, 13.433967635868893, 30.02698756077456, 22.325660963696432, 13.894121584979805, 17.77955629766136, 41.13805587112306, 25.618304735251783, 14.769181399487337, 27.165885060530268, 12.76722089737757, 29.778497734425166, 30.1362815440601, 17.94236786102734, 42.818146473948865, 19.05159876700378, 44.66442034685356, 47.08995012744174, 24.153287149842093, 20.677565764032778, 22.543250365166667, 22.48284061989366, 21.732006435924397, 27.367790791927003, 22.384569417990242, 23.943089884780434, 22.620339590951673, 30.750651132682705, 24.894307849199635, 22.04829814395538, 26.91947500425297, 21.041229400447705, 55.50811776965955, 49.11164194147428, 46.93712472827982, 46.178892906752736, 43.150984549414616, 42.70713149592654, 40.920641905206296, 39.471966285526086, 33.91833481265556, 30.178117561329824, 28.21135801124219, 24.446086722285127, 14.764677347142618, 14.592908976665683, 14.01895088778062, 13.19041075016917, 12.568966394281418, 12.064283869956533, 11.331688108544913, 10.963323371250068, 9.88745345577277, 25.693932099960463, 8.68443193062034, 8.37850196338601, 8.376464207921183, 8.313504264084278, 7.739971186966706, 7.739971186966706, 7.6523145402329265, 7.1937884292115, 100.72105367675422, 38.93879579091344, 41.42627867569704, 56.32800066120455, 36.631967271044886, 20.211469795034567, 75.76540762314336, 38.66609524690164, 41.29716443206376, 88.26416450980867, 65.49170915794664, 29.729843844043593, 30.261216836658704, 55.22452934457231, 35.28826685085333, 56.43483291847982, 48.1851000458586, 55.98523002426469, 43.30577545938319, 29.806684347356956, 33.30938228352629, 87.46911012109581, 56.923726228946826, 53.6972491399314, 51.88729328812995, 30.632385183353943, 23.97110150968808, 23.2067936955063, 142.1682062485289, 21.768106748557546, 19.25358836132292, 19.08274313395888, 17.088761547705577, 15.88181596692719, 15.825829888133146, 12.763935110271998, 11.60782833229588, 9.828102497654436, 9.44444553210831, 7.963649123227228, 7.5773921048054, 5.864805643504886, 5.8421137079291405, 36.56585915559599, 5.235501172413951, 23.660852013080838, 3.7299022272661895, 3.1670526733657365, 3.1670526733657365, 3.1670526733657365, 3.164440448927768, 44.0111178163114, 9.153094587160155, 15.489412050591254, 11.569792977120573, 16.71705032310072, 20.439753200770845, 31.08537033169373, 33.78749651825838, 25.60746498662494, 43.772952972897116, 57.733799117251515, 30.78544646339924, 44.712361399786914, 26.285266659113553, 33.052131125330426, 38.81791929700958, 35.494790680697555, 31.500929220910372, 27.77692838855768, 28.821884459914006, 26.79161400818597, 23.216122809529633, 21.26712524565889, 64.0174849047992, 59.98949491370671, 24.058330972332406, 119.16079588077596, 17.08229373512867, 15.46191716394948, 14.456837318579883, 13.333926915904811, 12.194811605861211, 11.947820789064643, 21.85547617010111, 10.083199995558127, 9.342549360002316, 8.41520641098718, 7.9935958870835915, 7.953258176322814, 7.902017643721632, 6.698531094023895, 6.685416105433264, 6.153857005792187, 5.88789110946436, 5.88789110946436, 5.2921398779108895, 4.850292247408927, 4.494471761206088, 4.42885752209712, 4.42885752209712, 4.42885752209712, 38.74638025339806, 3.899098186392138, 18.24768369587803, 39.472487174866735, 46.1204966491189, 19.095557408533104, 12.460274097750926, 19.875108756478284, 62.601453307556646, 47.3042424647127, 9.698794244687901, 10.971655468783744, 22.44804234481525, 80.81919085084503, 19.73442190037877, 25.998313519807482, 41.38885231905629, 57.38144793511296, 28.88642047806497, 38.86455330772469, 19.613924168203166, 23.70767358735925, 17.79793381526456, 16.221079184397993, 16.27758953831516, 15.5939505928959, 36.17696310934438, 23.760380918868165, 19.134561497313754, 18.794635003275033, 17.585614162458118, 17.585614162458118, 11.04278647566546, 10.923747817265836, 10.69346951728159, 10.195998956931358, 9.52265958574072, 8.925475829433308, 8.921161135694105, 8.817189258483362, 8.817189258483362, 8.817189258483362, 8.817189258483362, 8.817189258483362, 8.817189258483362, 8.251832720433942, 8.251832720433942, 8.251832720433942, 7.5086001612339635, 6.035231570404288, 5.737482478052558, 4.581279678849337, 36.919933507013624, 36.43257175670067, 3.299384573145584, 8.670621329564089, 29.803386675810316, 23.36635791266722, 21.714645567559472, 13.709149407039318, 17.025667160135256, 10.987326030605486, 16.09312279354125, 14.293099780528028, 19.666314008668948, 18.456554034020904, 20.31572623187007, 14.436336987620784, 23.07566812585106, 35.034423891947505, 20.538344102632653, 16.77700521589495, 10.589238943229953, 20.385234839307905, 12.605442433295284, 11.356779766301123, 36.79488420888117, 33.895925427586604, 32.31237998521457, 30.976631795493518, 27.4453474177292, 26.76968065327537, 17.451785849722857, 15.13892258558845, 14.997248103331573, 11.037330478586394, 10.387652133331558, 8.984704888361607, 8.188094285083748, 7.700383497748343, 7.359166329508339, 7.3468415932416, 23.328026436457996, 4.98285252520981, 4.747232724692362, 25.053285993908204, 3.670922857721614, 28.90831910613555, 12.717261871200904, 17.8270433268296, 17.05436184277917, 45.821655588001285, 1.423736400372081, 1.4236418707374956, 1.4236418707374956, 1.4236418707374956, 22.660074147112205, 20.46291836918233, 6.725991305273983, 7.918521475022154, 16.33206867080276, 20.93524733722429, 24.39272040552673, 34.18277493426268, 13.890696519184157, 18.116001942293195, 12.130712183331799, 12.921991100987574, 16.02486824596818, 11.471869015940843, 25.657329726791538, 14.832904969191796, 11.638666869853957, 10.638118471667475, 9.744179745821485, 5.92887314980228, 4.751596118628519, 4.7515733656324795, 4.7514833724391865, 3.923448529824353, 3.5742915801013364, 3.5742841089683086, 3.5742841089683086, 20.201115091232193, 12.972586053272172, 2.735336657775163, 2.734667651772198, 2.3969517234907487, 2.3969517234907487, 2.3969517234907487, 2.396717571389711, 2.3962716805867195, 1.7993638093271507, 43.90026356815162, 1.2196247715644821, 1.2196247715644821, 1.2196247715644821, 1.2196247715644821, 1.2189218058659352, 1.2189218058659352, 30.321473856148227, 39.62588165692836, 11.201791007651835, 11.421349269110145, 15.336817949666646, 11.366631370006735, 36.44928358186362, 20.25537589283307, 33.65264831517517, 14.769318835184109, 3.5081163589024795, 3.1750335518892787, 3.6199789169555885, 27.892636048074408, 19.485013960423277, 19.144520854149473, 16.42372832694701, 11.493049603947226, 8.46682842465908, 7.437711083906266, 5.609243191468331, 4.558587106662024, 3.5177005008092146, 3.3175616032580026, 3.2375165445731673, 54.40710359778155, 12.515497842629593, 21.24104120392223, 1.170185461184881, 1.169401825024404, 25.825527749585344, 2.299259747117061, 24.289409757830196, 9.337886268507692, 3.581363369161555, 1.201066864992802, 7.465455859672349, 1.6006799166241088, 8.593601921488883, 2.1282816428179405, 7.652797959277906, 2.0242715125207016, 2.4126465660342573, 3.04997388300098, 2.3918517346492356, 2.2318752320224338, 1.6116891574295051, 31.095634568262064, 19.256172420233234, 8.347271818924458, 8.218752875072289, 7.898415656496238, 6.978282591609766, 6.08967686715825, 5.784913494642873, 5.323447387865002, 5.254072581948532, 5.054192428449044, 4.708885481310669, 4.122767168040196, 3.5488077945552403, 23.379955381693076, 2.607913642353665, 2.607316619207375, 2.2856223920909216, 2.2716101183390482, 2.2347291305673567, 17.918328129972302, 26.705643752138442, 1.1628875801882903, 1.1628875801882903, 7.327284635396983, 6.4951197765639535, 10.255215632979748, 2.381635533254305, 6.172922887366094, 2.3319630421789217, 4.829549176456322, 4.939810838417237, 12.091398752587478, 9.816339978395321, 8.80845139867319, 6.379916625377446, 7.4345124169301435, 3.209888471619327, 3.493481353776044, 3.984616232394098, 15.909998655532082, 11.888548347261, 10.356679075804134, 9.320124652714776, 9.082279499079311, 5.792754517080608, 4.848631904498621, 4.727496175052428, 4.523474092173522, 4.243410169310201, 3.87283230855737, 3.578156367522493, 3.378755995789876, 3.2868134237314375, 3.240870362997349, 3.210619118904948, 2.5835184376370686, 10.480595358683468, 2.0794556777137263, 2.0794556777137263, 30.77681742211607, 1.8936508516651978, 1.684361253237738, 19.116651758608395, 8.797072782698057, 21.72842275170403, 1.0580400243507784, 1.0580400243507784, 1.0580400243507784, 1.0580400243507784, 4.330226834779418, 3.8575771396437744, 4.607194659884545, 7.752941918421709, 4.646029771082449, 6.29076210685196, 4.562693260378676, 4.3408409931996275, 3.4817870077234567, 3.330512935365386, 16.39753284900947, 15.543780327264127, 14.36405629850415, 14.235335321685799, 12.820117032280134, 12.52031534824701, 10.480263349395841, 6.320577969309859, 5.562644726600125, 4.758490927086269, 4.484780622089476, 4.203233766969344, 4.184034842104378, 3.201783293762042, 2.868412446259697, 13.600889921781063, 43.43393624447622, 1.0924992067886237, 1.0923998829109784, 1.0923742732700525, 4.080729703523878, 2.9371265736262826, 8.631598887991316, 1.0896576902332733, 5.866004997134526, 2.1843408687426624, 11.53885700662092, 1.2652625366274766, 3.8412500290281484, 6.375655770394582, 5.980700196554952, 2.2318769766509248, 1.6633736335206566, 1.4874365539468735, 13.358689968195346, 9.102581201435676, 34.18130406495385, 5.699674410370174, 4.150936887643625, 23.686171188008768, 0.8419300928558848, 15.582193155578377, 12.797298515314258, 8.092540050616499, 4.812019032502793, 9.794590169170617, 3.31447130087675, 3.208644828939175, 1.8731586266174487, 0.029456227331587072, 0.029446792360325654, 0.02943982545303129, 0.029439800747686273, 0.02943692751606097, 0.02943344900348279, 0.029433493473103818, 0.029431731982004213, 0.029430583183460993, 0.029430583183460993, 0.029430583183460993, 0.029430583183460993, 0.029430583183460993, 0.029430583183460993, 0.029430583183460993, 0.029430971057377738, 0.02943080059049713, 0.02943065482896154, 0.029430583183460993, 7.5490866402097865, 5.084214027470889, 4.300336600595638, 3.155047656756261, 3.0834681935570605, 0.41927296739914005, 0.014624865226946367, 0.014619451335721506, 0.014619451335721506, 0.014619590021739601, 0.014620021489351449, 0.014618905152514444, 0.014618956517706332, 0.014617905243445715, 0.014617905243445715, 0.014617905243445715, 0.014617905243445715, 0.014618963366398582, 0.014617968593849043, 0.014617283724623887, 0.014617283724623887, 0.014617283724623887, 0.014617283724623887, 0.01461690704655005, 0.01461690704655005, 0.01461690704655005, 0.01461690704655005, 0.01461690704655005, 0.01461690704655005, 0.01461690704655005, 0.014617665539216911, 0.01461720838900912, 0.014617049156914272, 0.014617502882775937, 0.014617905243445715, 0.014616987518684007, 0.014617139902086605, 0.014617473775833868, 0.014617234071605064, 0.014617163872509484], \"Total\": [4717.0, 1654.0, 1094.0, 837.0, 793.0, 595.0, 466.0, 484.0, 549.0, 368.0, 324.0, 240.0, 184.0, 407.0, 265.0, 148.0, 263.0, 125.0, 180.0, 185.0, 261.0, 298.0, 264.0, 201.0, 165.0, 255.0, 252.0, 349.0, 198.0, 193.0, 837.5068120602612, 793.2898435984143, 595.1396125810745, 112.20200865400345, 74.96387480143972, 56.85532270725872, 45.323267052864814, 38.50018396419123, 37.35131244171599, 36.93985208207519, 36.41449878506884, 34.74081587015396, 29.298905716679002, 28.64515266885034, 26.217102179849043, 25.499470366709968, 24.9158350065129, 23.602038410558666, 22.513422115399546, 21.54376991033172, 17.595822671293586, 17.18624895495544, 16.52228636340299, 15.50080837996789, 14.596723344974794, 14.084027656812266, 13.966376765671598, 13.277667379434462, 12.817549532365708, 12.817549532365708, 4717.653697603716, 132.2348085009845, 118.55805054884854, 62.68864624265769, 33.39672938067211, 86.26449937934014, 139.22354197735345, 68.70685370956107, 78.87482220852826, 38.01819098999426, 56.97764273605686, 88.56124343108624, 126.68612883787945, 115.00904509427014, 100.87997785471025, 115.62455801660393, 1094.2682338844654, 193.16785855296627, 165.8024636300631, 75.08012766486843, 55.20489974599144, 45.60956867386063, 39.9836469600672, 37.41120591672438, 36.031268616939535, 34.690235041070615, 34.5672352484021, 32.6556980455841, 32.30856704258701, 30.117428745480876, 29.890433771145844, 29.54366672356205, 29.098131971488883, 28.42392036445238, 28.22612613918076, 28.19126155488995, 131.53177533305862, 26.902222239044434, 24.273760986898633, 23.91481109147453, 23.898801885284303, 38.29039272953982, 23.31423184525568, 84.36850115597828, 21.21057711244986, 46.989345522614926, 20.35211616959118, 261.6921754652231, 207.92815525719473, 1094.2682338844654, 549.4258351372822, 217.06189856009823, 193.5894388835151, 1654.7138217989825, 48.91612408890891, 146.56646397172136, 64.95062055725485, 86.61254949710418, 63.558420435686585, 121.07582444657521, 111.66495768886385, 134.6780487384776, 61.86247530627548, 121.16217830855066, 67.91398917338466, 162.3885522268444, 127.44644541360559, 110.06122933164836, 268.69996938894593, 4717.653697603716, 186.3531590293837, 484.2270550441677, 349.23057492436135, 252.44639004635098, 243.28833282929523, 298.61967877824, 135.44679791889422, 246.61530133087274, 116.11752626696469, 59.685641058683714, 55.74681697048744, 53.1919066239808, 43.16339296878269, 42.56802674077907, 40.23684597405819, 39.04967631872453, 38.60301736626482, 37.958554692380176, 120.36312166045529, 33.87339847751649, 33.681945570937835, 33.49056570295902, 32.479271569471415, 32.3938725925679, 31.924407375285938, 30.746897489470182, 29.530288404507615, 28.396497854313587, 27.940018517902747, 24.769225993098907, 24.416632744708732, 24.409342795135515, 23.56940765090111, 23.459280387751313, 165.44860221991658, 22.678161654762093, 21.738014651517155, 21.69783050695354, 42.237436785692594, 34.19126245068192, 160.86511992311068, 185.8234342690294, 54.65483120003109, 88.23454464607369, 38.04960832432738, 83.25821913050406, 81.62784652335273, 67.65392678785489, 89.92574619190711, 132.11972775617994, 100.87997785471025, 246.53000543195597, 156.390799075378, 69.52074242805062, 94.159533201777, 331.8619623728883, 98.00392813550842, 50.71070537245962, 69.61635850438817, 226.8324062753861, 484.2270550441677, 104.36237651775325, 349.23057492436135, 99.31967552092033, 184.1537582121233, 101.14420676794738, 133.35087269376368, 245.43963294097148, 162.3885522268444, 1654.7138217989825, 91.63019321035952, 51.430484205449524, 46.46616749780302, 42.07437137222354, 41.00286427513308, 40.25828528633746, 39.652088097690644, 35.59448248202721, 32.61479016616196, 32.00163180947484, 30.56528945578207, 29.90695216402861, 29.363075206746956, 29.195751584374026, 29.016913139264854, 27.675958339327668, 27.602015151248494, 26.841309823491013, 26.793939372416393, 26.027138735358065, 25.8204903982043, 25.555021489466395, 25.459825477610313, 24.722382012574805, 22.87741128053303, 22.60150713590403, 22.494556385899113, 22.24667419275651, 22.137037449535022, 54.9126158042264, 265.9253577165722, 324.51208659852824, 124.73654938427889, 98.31654914742452, 62.42996792740303, 134.10158863993055, 59.313707176556, 46.38134484978901, 41.54160664708784, 99.25419552222402, 62.06665049016029, 67.4077834716902, 105.44759555448512, 55.369185768483156, 53.351382527441956, 56.94001326452478, 121.93761717065505, 62.960503069100476, 91.83096784145287, 183.40096733727228, 60.226384971680865, 91.45001283262435, 68.48082214502381, 88.78298917928494, 79.92949434916808, 132.11972775617994, 82.39942234152888, 59.33886981311691, 58.26861366101688, 48.31871979592511, 53.470274323651495, 45.59995729617244, 40.85407639114483, 40.12276291726213, 35.97500587205314, 35.307730548207, 27.241308800542164, 26.45904069575619, 21.786845165304662, 21.400509086984265, 143.4302805725144, 15.239079435522157, 15.048971442913013, 37.3107701991587, 14.268946391001952, 41.87162826708663, 12.886106725366965, 49.42135308421374, 12.06296141380804, 11.997980774005105, 11.869086902732137, 11.698704519070285, 72.98017495541629, 10.92517145830693, 10.863060575534565, 44.23543690393844, 201.7600410118274, 52.429149670934684, 55.4234886083469, 255.44934512405354, 93.89103143319855, 112.19887298207932, 88.58438749209343, 264.5134554587285, 184.91693210425447, 407.90839606655385, 118.20663402825065, 203.54957215445356, 89.00559209335104, 126.34350643489616, 349.23057492436135, 252.44639004635098, 243.28833282929523, 268.69996938894593, 214.4000903244672, 1654.7138217989825, 198.7557688013823, 331.8619623728883, 164.06960841533441, 128.73762134444567, 226.8324062753861, 194.43649947202744, 113.04822885633729, 298.61967877824, 122.52155525001393, 82.89885407219548, 71.77166230999443, 71.12364955482194, 66.38597266918073, 58.159311722322485, 54.87098003488928, 51.65387000880778, 139.84194426984132, 46.885779996856556, 44.020308299363606, 39.77138484363287, 38.9059484967919, 35.70672717648632, 21.045888454413284, 20.72316582409045, 19.89374712325934, 19.84580296084187, 18.5269744044906, 180.6084453001093, 16.57059617093597, 16.152851710617647, 13.22864831424606, 13.110748163492174, 12.98522009406789, 11.922178786378671, 11.491144442019007, 11.322017964255958, 9.368290237613115, 9.287073302300575, 63.89893914429852, 466.5416012128328, 368.1851179894918, 92.52829431755269, 263.6779715925965, 121.03429456416454, 200.3021961869866, 95.07621036150553, 47.530937310798826, 187.87696022646318, 484.2270550441677, 71.9185712215083, 109.55183461320061, 157.27625435530675, 183.40096733727228, 183.3716916099415, 214.4000903244672, 246.61530133087274, 107.46394467869528, 125.61122102899878, 198.7557688013823, 117.95027920394041, 76.37082477021093, 58.25464264877171, 54.45563581588495, 52.16935264319659, 44.88269413926589, 43.87967490776016, 41.783182649562164, 37.832295914350055, 36.00831845152511, 30.960729563152302, 27.373950203973255, 26.488719401010346, 25.68056659201233, 24.870195340689104, 26.113392185821706, 51.002201411496955, 20.618842832691858, 20.04347172197725, 19.527120628033117, 29.361895497034595, 19.176093466966854, 17.65981179442654, 17.25126909880535, 17.223092693364247, 16.546798154163262, 16.460762351993672, 16.213081528499128, 15.282336498267142, 14.600974918752634, 62.81122345082809, 59.25796855034444, 42.90704441882747, 107.11130170248984, 154.39029358626388, 72.32618951091696, 77.57826342943667, 55.53580358043937, 45.76434645395043, 121.28932524605194, 75.19908321117914, 84.5110836364972, 58.55563966123208, 174.72960511678008, 81.87000883591251, 157.27625435530675, 245.43963294097148, 200.3021961869866, 160.9304713700047, 126.69107405906286, 298.61967877824, 70.68759984964804, 103.11252995093102, 466.5416012128328, 184.1537582121233, 30.322337758077264, 29.99988735911603, 28.267739154013462, 26.220449276215003, 24.315735250052835, 20.762030075593856, 18.884214607978798, 16.299367553212, 15.976193387638014, 13.998175004453707, 13.9405612039965, 12.942184804662174, 12.474195951120285, 11.868783784698204, 11.304136988526643, 11.171501614088717, 11.171501614088717, 10.530594538794224, 9.991310617963013, 9.95105329208328, 9.352296430738296, 8.905915104697549, 8.90223694787401, 8.860715235765147, 8.494920915921051, 8.248660243988917, 7.787212292240433, 7.393130985522684, 7.1731643104468565, 6.744447256707211, 65.9909856024043, 240.27601626284374, 16.530420060163223, 42.29076738079372, 31.74797355964786, 18.023231214888835, 25.050544146628177, 73.68892189715963, 40.47878123721705, 19.884011116048477, 49.00198945227524, 16.46717144507105, 62.6040173627742, 66.44181380336325, 29.812430476503568, 139.95209741130495, 35.45589707925065, 203.54957215445356, 245.43963294097148, 75.05560492587989, 51.9126041358366, 66.14713076592362, 68.70685370956107, 69.48535195586767, 156.390799075378, 79.52816600050193, 126.69107405906286, 118.661029310261, 1094.2682338844654, 263.6779715925965, 134.10158863993055, 1654.7138217989825, 101.14420676794738, 56.46889259054591, 50.07241676675157, 47.89958184388067, 47.13966774117305, 44.111759382882724, 43.667906320859295, 41.881416739434464, 40.43274118449209, 34.87910965697778, 31.138892391336995, 29.17213283589797, 25.40686156501806, 15.725452172369407, 15.553683800783647, 14.97972571778779, 14.151185581057529, 13.529741273391535, 13.025058699587511, 12.292462932084385, 11.924098195368032, 10.848228309312423, 28.330208588885714, 9.645206751506711, 9.33927678427238, 9.33723909156764, 9.274279108406505, 8.700746026094674, 8.700746026094674, 8.61308946340159, 8.15456325009787, 114.66810520295346, 45.7274936587484, 49.90093722960787, 71.17488774838915, 45.57906788626613, 24.18795468201572, 108.805793200652, 51.969143499442964, 65.32991940929527, 187.4305401483919, 126.68612883787945, 44.45836427071848, 45.60854616083565, 107.46394467869528, 62.37978002847768, 139.95209741130495, 143.8004252115687, 194.43649947202744, 184.1537582121233, 61.05161245746838, 113.04822885633729, 88.43377953171628, 57.88839566009879, 54.66191856412285, 52.851962716844696, 31.59705459935459, 24.935770920308524, 24.171463110409444, 148.1417302988076, 22.733279088386613, 20.218257774413896, 20.04741256335511, 18.05343096361329, 16.846485377547637, 16.79049934000319, 13.728604546656745, 12.572497890533178, 10.792771908274876, 10.409114948108948, 8.928318533847667, 8.54206152618028, 6.829475059505529, 6.806783118549583, 42.840620873351156, 6.200170593094096, 28.82977473456385, 4.694571637886631, 4.131722083986177, 4.131722083986177, 4.131722083986177, 4.1292642082345274, 59.34956710388984, 12.148075824499672, 23.65055740070455, 18.251074719799306, 28.732574848861738, 38.05883417370363, 66.14713076592362, 76.60061053573551, 53.43167382437858, 115.19147470355891, 198.7557688013823, 85.43820861967328, 163.80300470907582, 66.59725258793337, 109.91935253853313, 154.39029358626388, 153.34030973031415, 174.72960511678008, 127.44644541360559, 201.7600410118274, 160.9304713700047, 86.26449937934014, 73.68892189715963, 64.98565791500364, 60.957667914577456, 25.026503973203162, 125.46902565857636, 18.050466757187966, 16.430090175060677, 15.425010404496998, 14.302099916775566, 13.162984611122894, 12.915993789935397, 23.844807980130856, 11.051372996428881, 10.31072236087307, 9.383379411857934, 8.961768887954346, 8.921431198902257, 8.870190698435627, 7.6667041693729585, 7.653589110694948, 7.122030014755736, 6.856064110335115, 6.856064110335115, 6.260312915681098, 5.818465248279682, 5.462644818174139, 5.397030522967875, 5.397030522967875, 5.397030522967875, 47.43691647273982, 4.867271187262894, 23.756041423685794, 56.142313751755594, 76.57780524316671, 29.360826285482297, 18.254683772680693, 32.09755474386219, 133.35087269376368, 99.31967552092033, 14.37876674059805, 18.084474130399514, 57.6730930461427, 484.2270550441677, 48.44230803430373, 81.33279974890769, 187.87696022646318, 368.1851179894918, 135.44679791889422, 263.6779715925965, 61.05161245746838, 115.19147470355891, 91.45001283262435, 118.55805054884854, 194.43649947202744, 214.4000903244672, 37.148034228278455, 24.73146155160653, 20.105632596800437, 19.766496606507197, 18.55669412697982, 18.556694177144212, 12.013857570211071, 11.894818922665559, 11.664541095442365, 11.167070060597768, 10.493730680286331, 9.896546973625737, 9.892232230239715, 9.788261087253215, 9.788261087253215, 9.788261091813613, 9.788261091813613, 9.788261096374013, 9.788261100934411, 9.222903814979553, 9.222903814979553, 9.222903814979553, 8.479671285265553, 7.006302670237169, 6.708553572598171, 5.552350824889564, 45.13021199627919, 44.8943047623904, 4.270455689020015, 11.326219590648753, 41.477137762715614, 35.15961599782692, 36.10112625214576, 23.9451257885474, 41.99267840840859, 18.250725805070942, 45.5852345243541, 36.46442171073114, 86.84728151086631, 88.95985560654488, 126.68612883787945, 45.60854616083565, 252.44639004635098, 1654.7138217989825, 226.8324062753861, 245.43963294097148, 23.7317372038736, 1094.2682338844654, 246.61530133087274, 246.53000543195597, 37.766101480403066, 34.86714271172101, 33.283597256304446, 31.947849083879863, 28.416564709136217, 27.740897926700505, 18.423003139607864, 16.110139857110347, 15.968465372739146, 12.008547744389006, 11.358869401604704, 9.955922174368482, 9.1593115720158, 8.671600797766645, 8.330383599871348, 8.318058876617703, 26.767851264516782, 5.954069865894157, 5.718449999338076, 30.448529501435438, 4.642140158004894, 38.9736268999287, 18.258792385683666, 26.371560039474847, 26.64226118999678, 75.93977677618335, 2.394953666174693, 2.3948591365401075, 2.3948591365401075, 2.3948591365401075, 41.10332800231427, 42.13315345480428, 13.096844207998643, 16.65050444115585, 45.59236116205393, 74.67718676775688, 126.69107405906286, 298.61967877824, 50.94954820353906, 112.19887298207932, 59.94671952889028, 121.28932524605194, 407.90839606655385, 97.92492516936495, 26.635671056324437, 15.811246260073263, 12.61700818190341, 11.616459748816094, 10.72252107412466, 6.907214426950901, 5.72993739577714, 5.7299146427811, 5.729824649587807, 4.901789811019371, 4.552632857249957, 4.5526253861169295, 4.5526253861169295, 26.77296729566949, 17.605083850844398, 3.713677939107991, 3.7130089374454425, 3.375293000639368, 3.375293000639368, 3.375293000639368, 3.3750588485383304, 3.374612957735339, 2.777705095000395, 75.39630390530517, 2.1979660487131016, 2.1979660487131016, 2.1979660487131016, 2.1979660487131016, 2.1972630870609517, 2.1972630870609517, 94.10016870666162, 184.1537582121233, 36.508284030440976, 43.26302776485014, 86.61254949710418, 69.61635850438817, 1094.2682338844654, 484.2270550441677, 1654.7138217989825, 549.4258351372822, 32.84087461173574, 23.9451257885474, 131.53177533305862, 28.872699276890224, 20.465077189239093, 20.12458408296529, 17.40379160245353, 12.473112832763036, 9.446891653474891, 8.417774363617761, 6.58930642600343, 5.538650338709429, 4.497763965347686, 4.297624857767261, 4.2175799245369365, 81.33279974890769, 20.299148156666664, 36.46442171073114, 2.1502486900006925, 2.1494650570718075, 49.78686265099301, 4.969660390275289, 59.94671952889028, 29.360826285482297, 12.174946510436078, 6.650750469878895, 66.14713076592362, 15.277336596200822, 121.03429456416454, 34.73054387825643, 156.390799075378, 42.237436785692594, 53.35294511944864, 82.80863069399528, 120.36312166045529, 186.3531590293837, 62.665079354153434, 32.07594905022911, 20.236486888860302, 9.327586288458297, 9.199067345548999, 8.878756619087586, 7.958597061143605, 7.069991352299668, 6.7652279579826695, 6.303761857398841, 6.2343870452883285, 6.034507053226247, 5.689199949041394, 5.103081631379992, 4.529122276729265, 30.113890683604172, 3.588228105693461, 3.5876310878344393, 3.2659368554307173, 3.2519245816788445, 3.215043809612546, 27.261417844478597, 44.77347216331055, 2.1432020435280865, 2.1432020435280865, 13.694011896072317, 13.914948734752569, 24.503372333460387, 7.882793654696904, 23.9451257885474, 9.067583285520541, 25.273187447223638, 28.920044099104434, 185.8234342690294, 136.54052589287133, 226.8324062753861, 89.92574619190711, 183.40096733727228, 18.023231214888835, 41.54160664708784, 187.4305401483919, 16.893970868068678, 12.872520539345173, 11.340651314486083, 10.304096837176429, 10.066253423437542, 6.77672670593319, 5.832604088960275, 5.711468478262672, 5.507446276635176, 5.227382353771855, 4.856804493019024, 4.562128560214752, 4.36272820624078, 4.2707856162858855, 4.224842556930479, 4.194591303366601, 3.5674906220987213, 15.277336596200822, 3.063427862175379, 3.063427862175379, 45.39085812381754, 2.8776230500369526, 2.6683335377623822, 30.923952670396243, 14.476033746531117, 39.23127004318485, 2.042012208812431, 2.042012208812431, 2.042012208812431, 2.042012208812431, 13.675303789372583, 13.979581030184757, 18.258792385683666, 64.95062055725485, 34.31904008353346, 93.65039941540383, 38.13952848473291, 45.668845180381595, 58.57482331193381, 62.81122345082809, 17.380304547496593, 16.526551998323274, 15.346828006511409, 15.218107039342723, 13.802888708413683, 13.503087397216413, 11.463035016408591, 7.303349640663026, 6.545416393612875, 5.741262618966987, 5.467552329671784, 5.1860054339820945, 5.166806538301241, 4.1845549607747925, 3.8511841534193696, 19.13218540764688, 62.747662234513044, 2.0752708738013737, 2.0751715499237284, 2.0751459402828023, 9.651464350694148, 12.296758902081322, 44.69256153590952, 5.700506564214979, 45.7274936587484, 18.01288222065294, 98.00392813550842, 12.66375738729502, 59.45016333006868, 163.80300470907582, 165.44860221991658, 246.53000543195597, 98.31654914742452, 45.57906788626613, 14.350128665757596, 10.094019892803884, 38.63539387773542, 6.691113114126467, 5.14237567130585, 33.776058458731, 1.833368788408301, 34.80480753703431, 30.461284443194263, 25.898082543084275, 17.935468575406787, 60.226384971680865, 20.793631878686124, 41.34510188639192, 49.5917402524954, 1.0209911356066206, 1.0209766299988317, 1.0209269578457065, 1.020931923984257, 1.0209157176136698, 1.0209123631336134, 1.0209687044771274, 1.020913696183395, 1.020898884590917, 1.020898884590917, 1.020898884590917, 1.020898884590917, 1.020898884590917, 1.020898884590917, 1.020898884590917, 1.020923011278673, 1.0209784707399199, 1.020957871448042, 1.0209079805109373, 8.555324367521166, 6.09045178234759, 5.306574348289755, 4.161285380378127, 4.0897059042403, 1.4255106780823794, 1.021088526776948, 1.020864593442929, 1.020864593442929, 1.0208930243609353, 1.02093304714721, 1.0208939418575493, 1.0209378058729057, 1.0208804928846524, 1.0208902247026164, 1.0208963758504903, 1.020902010274062, 1.0209775414445659, 1.0209125307368434, 1.0208729437194914, 1.0208809030484722, 1.0208830594224994, 1.020883774902844, 1.020867054895712, 1.020867054895712, 1.020867054895712, 1.020867054895712, 1.020867054895712, 1.020867054895712, 1.020867054895712, 1.020926336423318, 1.0208949929905025, 1.0208801717144285, 1.020927836481318, 1.020980465101321, 1.0208854060148718, 1.0209241941932492, 1.0211073986816923, 1.021101744192382, 1.021187845554354], \"Category\": [\"Default\", \"Default\", \"Default\", \"Default\", \"Default\", \"Default\", \"Default\", \"Default\", \"Default\", \"Default\", \"Default\", \"Default\", \"Default\", \"Default\", \"Default\", \"Default\", \"Default\", \"Default\", \"Default\", \"Default\", \"Default\", \"Default\", \"Default\", \"Default\", \"Default\", \"Default\", \"Default\", \"Default\", \"Default\", \"Default\", \"Topic1\", \"Topic1\", \"Topic1\", \"Topic1\", \"Topic1\", \"Topic1\", \"Topic1\", \"Topic1\", \"Topic1\", \"Topic1\", \"Topic1\", \"Topic1\", \"Topic1\", \"Topic1\", \"Topic1\", \"Topic1\", \"Topic1\", \"Topic1\", \"Topic1\", \"Topic1\", \"Topic1\", \"Topic1\", \"Topic1\", \"Topic1\", \"Topic1\", \"Topic1\", \"Topic1\", \"Topic1\", \"Topic1\", \"Topic1\", \"Topic1\", \"Topic1\", \"Topic1\", \"Topic1\", \"Topic1\", \"Topic1\", \"Topic1\", \"Topic1\", \"Topic1\", \"Topic1\", \"Topic1\", \"Topic1\", \"Topic1\", \"Topic1\", \"Topic1\", \"Topic1\", \"Topic1\", \"Topic2\", \"Topic2\", \"Topic2\", \"Topic2\", \"Topic2\", \"Topic2\", \"Topic2\", \"Topic2\", \"Topic2\", \"Topic2\", \"Topic2\", \"Topic2\", \"Topic2\", \"Topic2\", \"Topic2\", \"Topic2\", \"Topic2\", \"Topic2\", \"Topic2\", \"Topic2\", \"Topic2\", \"Topic2\", \"Topic2\", \"Topic2\", \"Topic2\", \"Topic2\", \"Topic2\", \"Topic2\", \"Topic2\", \"Topic2\", \"Topic2\", \"Topic2\", \"Topic2\", \"Topic2\", \"Topic2\", \"Topic2\", \"Topic2\", \"Topic2\", \"Topic2\", \"Topic2\", \"Topic2\", \"Topic2\", \"Topic2\", \"Topic2\", \"Topic2\", \"Topic2\", \"Topic2\", \"Topic2\", \"Topic2\", \"Topic2\", \"Topic2\", \"Topic2\", \"Topic2\", \"Topic2\", \"Topic2\", \"Topic2\", \"Topic2\", \"Topic2\", \"Topic2\", \"Topic2\", \"Topic2\", \"Topic3\", \"Topic3\", \"Topic3\", \"Topic3\", \"Topic3\", \"Topic3\", \"Topic3\", \"Topic3\", \"Topic3\", \"Topic3\", \"Topic3\", \"Topic3\", \"Topic3\", \"Topic3\", \"Topic3\", \"Topic3\", \"Topic3\", \"Topic3\", \"Topic3\", \"Topic3\", \"Topic3\", \"Topic3\", \"Topic3\", \"Topic3\", \"Topic3\", \"Topic3\", \"Topic3\", \"Topic3\", \"Topic3\", \"Topic3\", \"Topic3\", \"Topic3\", \"Topic3\", \"Topic3\", \"Topic3\", \"Topic3\", \"Topic3\", \"Topic3\", \"Topic3\", \"Topic3\", \"Topic3\", \"Topic3\", \"Topic3\", \"Topic3\", \"Topic3\", \"Topic3\", \"Topic3\", \"Topic3\", \"Topic3\", \"Topic3\", \"Topic3\", \"Topic3\", \"Topic3\", \"Topic3\", \"Topic3\", \"Topic3\", \"Topic3\", \"Topic3\", \"Topic3\", \"Topic3\", \"Topic3\", \"Topic3\", \"Topic4\", \"Topic4\", \"Topic4\", \"Topic4\", \"Topic4\", \"Topic4\", \"Topic4\", \"Topic4\", \"Topic4\", \"Topic4\", \"Topic4\", \"Topic4\", \"Topic4\", \"Topic4\", \"Topic4\", \"Topic4\", \"Topic4\", \"Topic4\", \"Topic4\", \"Topic4\", \"Topic4\", \"Topic4\", \"Topic4\", \"Topic4\", \"Topic4\", \"Topic4\", \"Topic4\", \"Topic4\", \"Topic4\", \"Topic4\", \"Topic4\", \"Topic4\", \"Topic4\", \"Topic4\", \"Topic4\", \"Topic4\", \"Topic4\", \"Topic4\", \"Topic4\", \"Topic4\", \"Topic4\", \"Topic4\", \"Topic4\", \"Topic4\", \"Topic4\", \"Topic4\", \"Topic4\", \"Topic4\", \"Topic4\", \"Topic4\", \"Topic4\", \"Topic4\", \"Topic4\", \"Topic4\", \"Topic4\", \"Topic4\", \"Topic5\", \"Topic5\", \"Topic5\", \"Topic5\", \"Topic5\", \"Topic5\", \"Topic5\", \"Topic5\", \"Topic5\", \"Topic5\", \"Topic5\", \"Topic5\", \"Topic5\", \"Topic5\", \"Topic5\", \"Topic5\", \"Topic5\", \"Topic5\", \"Topic5\", \"Topic5\", \"Topic5\", \"Topic5\", \"Topic5\", \"Topic5\", \"Topic5\", \"Topic5\", \"Topic5\", \"Topic5\", \"Topic5\", \"Topic5\", \"Topic5\", \"Topic5\", \"Topic5\", \"Topic5\", \"Topic5\", \"Topic5\", \"Topic5\", \"Topic5\", \"Topic5\", \"Topic5\", \"Topic5\", \"Topic5\", \"Topic5\", \"Topic5\", \"Topic5\", \"Topic5\", \"Topic5\", \"Topic5\", \"Topic5\", \"Topic5\", \"Topic5\", \"Topic5\", \"Topic5\", \"Topic5\", \"Topic5\", \"Topic5\", \"Topic5\", \"Topic5\", \"Topic6\", \"Topic6\", \"Topic6\", \"Topic6\", \"Topic6\", \"Topic6\", \"Topic6\", \"Topic6\", \"Topic6\", \"Topic6\", \"Topic6\", \"Topic6\", \"Topic6\", \"Topic6\", \"Topic6\", \"Topic6\", \"Topic6\", \"Topic6\", \"Topic6\", \"Topic6\", \"Topic6\", \"Topic6\", \"Topic6\", \"Topic6\", \"Topic6\", \"Topic6\", \"Topic6\", \"Topic6\", \"Topic6\", \"Topic6\", \"Topic6\", \"Topic6\", \"Topic6\", \"Topic6\", \"Topic6\", \"Topic6\", \"Topic6\", \"Topic6\", \"Topic6\", \"Topic6\", \"Topic6\", \"Topic6\", \"Topic6\", \"Topic6\", \"Topic6\", \"Topic6\", \"Topic6\", \"Topic6\", \"Topic6\", \"Topic6\", \"Topic6\", \"Topic7\", \"Topic7\", \"Topic7\", \"Topic7\", \"Topic7\", \"Topic7\", \"Topic7\", \"Topic7\", \"Topic7\", \"Topic7\", \"Topic7\", \"Topic7\", \"Topic7\", \"Topic7\", \"Topic7\", \"Topic7\", \"Topic7\", \"Topic7\", \"Topic7\", \"Topic7\", \"Topic7\", \"Topic7\", \"Topic7\", \"Topic7\", \"Topic7\", \"Topic7\", \"Topic7\", \"Topic7\", \"Topic7\", \"Topic7\", \"Topic7\", \"Topic7\", \"Topic7\", \"Topic7\", \"Topic7\", \"Topic7\", \"Topic7\", \"Topic7\", \"Topic7\", \"Topic7\", \"Topic7\", \"Topic7\", \"Topic7\", \"Topic7\", \"Topic7\", \"Topic7\", \"Topic7\", \"Topic7\", \"Topic7\", \"Topic7\", \"Topic7\", \"Topic7\", \"Topic7\", \"Topic7\", \"Topic7\", \"Topic8\", \"Topic8\", \"Topic8\", \"Topic8\", \"Topic8\", \"Topic8\", \"Topic8\", \"Topic8\", \"Topic8\", \"Topic8\", \"Topic8\", \"Topic8\", \"Topic8\", \"Topic8\", \"Topic8\", \"Topic8\", \"Topic8\", \"Topic8\", \"Topic8\", \"Topic8\", \"Topic8\", \"Topic8\", \"Topic8\", \"Topic8\", \"Topic8\", \"Topic8\", \"Topic8\", \"Topic8\", \"Topic8\", \"Topic8\", \"Topic8\", \"Topic8\", \"Topic8\", \"Topic8\", \"Topic8\", \"Topic8\", \"Topic8\", \"Topic8\", \"Topic8\", \"Topic8\", \"Topic8\", \"Topic8\", \"Topic8\", \"Topic8\", \"Topic8\", \"Topic8\", \"Topic8\", \"Topic8\", \"Topic8\", \"Topic8\", \"Topic8\", \"Topic8\", \"Topic8\", \"Topic8\", \"Topic8\", \"Topic8\", \"Topic8\", \"Topic8\", \"Topic8\", \"Topic8\", \"Topic8\", \"Topic8\", \"Topic8\", \"Topic9\", \"Topic9\", \"Topic9\", \"Topic9\", \"Topic9\", \"Topic9\", \"Topic9\", \"Topic9\", \"Topic9\", \"Topic9\", \"Topic9\", \"Topic9\", \"Topic9\", \"Topic9\", \"Topic9\", \"Topic9\", \"Topic9\", \"Topic9\", \"Topic9\", \"Topic9\", \"Topic9\", \"Topic9\", \"Topic9\", \"Topic9\", \"Topic9\", \"Topic9\", \"Topic9\", \"Topic9\", \"Topic9\", \"Topic9\", \"Topic9\", \"Topic9\", \"Topic9\", \"Topic9\", \"Topic9\", \"Topic9\", \"Topic9\", \"Topic9\", \"Topic9\", \"Topic9\", \"Topic9\", \"Topic9\", \"Topic9\", \"Topic9\", \"Topic9\", \"Topic9\", \"Topic9\", \"Topic9\", \"Topic9\", \"Topic9\", \"Topic9\", \"Topic10\", \"Topic10\", \"Topic10\", \"Topic10\", \"Topic10\", \"Topic10\", \"Topic10\", \"Topic10\", \"Topic10\", \"Topic10\", \"Topic10\", \"Topic10\", \"Topic10\", \"Topic10\", \"Topic10\", \"Topic10\", \"Topic10\", \"Topic10\", \"Topic10\", \"Topic10\", \"Topic10\", \"Topic10\", \"Topic10\", \"Topic10\", \"Topic10\", \"Topic10\", \"Topic10\", \"Topic10\", \"Topic10\", \"Topic10\", \"Topic10\", \"Topic10\", \"Topic10\", \"Topic10\", \"Topic10\", \"Topic10\", \"Topic10\", \"Topic10\", \"Topic10\", \"Topic10\", \"Topic10\", \"Topic10\", \"Topic10\", \"Topic10\", \"Topic10\", \"Topic10\", \"Topic10\", \"Topic10\", \"Topic10\", \"Topic10\", \"Topic10\", \"Topic10\", \"Topic10\", \"Topic11\", \"Topic11\", \"Topic11\", \"Topic11\", \"Topic11\", \"Topic11\", \"Topic11\", \"Topic11\", \"Topic11\", \"Topic11\", \"Topic11\", \"Topic11\", \"Topic11\", \"Topic11\", \"Topic11\", \"Topic11\", \"Topic11\", \"Topic11\", \"Topic11\", \"Topic11\", \"Topic11\", \"Topic11\", \"Topic11\", \"Topic11\", \"Topic11\", \"Topic11\", \"Topic11\", \"Topic11\", \"Topic11\", \"Topic11\", \"Topic11\", \"Topic11\", \"Topic11\", \"Topic11\", \"Topic11\", \"Topic11\", \"Topic11\", \"Topic11\", \"Topic11\", \"Topic11\", \"Topic11\", \"Topic11\", \"Topic11\", \"Topic11\", \"Topic11\", \"Topic11\", \"Topic11\", \"Topic11\", \"Topic11\", \"Topic11\", \"Topic11\", \"Topic11\", \"Topic11\", \"Topic11\", \"Topic12\", \"Topic12\", \"Topic12\", \"Topic12\", \"Topic12\", \"Topic12\", \"Topic12\", \"Topic12\", \"Topic12\", \"Topic12\", \"Topic12\", \"Topic12\", \"Topic12\", \"Topic12\", \"Topic12\", \"Topic12\", \"Topic12\", \"Topic12\", \"Topic12\", \"Topic12\", \"Topic12\", \"Topic12\", \"Topic12\", \"Topic12\", \"Topic12\", \"Topic12\", \"Topic12\", \"Topic12\", \"Topic12\", \"Topic12\", \"Topic12\", \"Topic12\", \"Topic12\", \"Topic12\", \"Topic12\", \"Topic12\", \"Topic12\", \"Topic12\", \"Topic12\", \"Topic12\", \"Topic12\", \"Topic12\", \"Topic12\", \"Topic12\", \"Topic12\", \"Topic12\", \"Topic12\", \"Topic12\", \"Topic12\", \"Topic12\", \"Topic13\", \"Topic13\", \"Topic13\", \"Topic13\", \"Topic13\", \"Topic13\", \"Topic13\", \"Topic13\", \"Topic13\", \"Topic13\", \"Topic13\", \"Topic13\", \"Topic13\", \"Topic13\", \"Topic13\", \"Topic13\", \"Topic13\", \"Topic13\", \"Topic13\", \"Topic13\", \"Topic13\", \"Topic13\", \"Topic13\", \"Topic13\", \"Topic13\", \"Topic13\", \"Topic13\", \"Topic13\", \"Topic13\", \"Topic13\", \"Topic13\", \"Topic13\", \"Topic13\", \"Topic13\", \"Topic13\", \"Topic13\", \"Topic13\", \"Topic13\", \"Topic13\", \"Topic13\", \"Topic13\", \"Topic13\", \"Topic13\", \"Topic13\", \"Topic14\", \"Topic14\", \"Topic14\", \"Topic14\", \"Topic14\", \"Topic14\", \"Topic14\", \"Topic14\", \"Topic14\", \"Topic14\", \"Topic14\", \"Topic14\", \"Topic14\", \"Topic14\", \"Topic14\", \"Topic14\", \"Topic14\", \"Topic14\", \"Topic14\", \"Topic14\", \"Topic14\", \"Topic14\", \"Topic14\", \"Topic14\", \"Topic14\", \"Topic14\", \"Topic14\", \"Topic14\", \"Topic14\", \"Topic14\", \"Topic14\", \"Topic14\", \"Topic14\", \"Topic14\", \"Topic14\", \"Topic14\", \"Topic14\", \"Topic14\", \"Topic14\", \"Topic14\", \"Topic14\", \"Topic14\", \"Topic14\", \"Topic15\", \"Topic15\", \"Topic15\", \"Topic15\", \"Topic15\", \"Topic15\", \"Topic15\", \"Topic15\", \"Topic15\", \"Topic15\", \"Topic15\", \"Topic15\", \"Topic15\", \"Topic15\", \"Topic15\", \"Topic15\", \"Topic15\", \"Topic15\", \"Topic15\", \"Topic15\", \"Topic15\", \"Topic15\", \"Topic15\", \"Topic15\", \"Topic15\", \"Topic15\", \"Topic15\", \"Topic15\", \"Topic15\", \"Topic15\", \"Topic15\", \"Topic15\", \"Topic15\", \"Topic15\", \"Topic16\", \"Topic16\", \"Topic16\", \"Topic16\", \"Topic16\", \"Topic16\", \"Topic16\", \"Topic16\", \"Topic16\", \"Topic16\", \"Topic16\", \"Topic16\", \"Topic16\", \"Topic16\", \"Topic16\", \"Topic16\", \"Topic16\", \"Topic16\", \"Topic16\", \"Topic16\", \"Topic16\", \"Topic16\", \"Topic16\", \"Topic16\", \"Topic16\", \"Topic16\", \"Topic16\", \"Topic16\", \"Topic16\", \"Topic16\", \"Topic16\", \"Topic16\", \"Topic16\", \"Topic16\", \"Topic16\", \"Topic16\", \"Topic16\", \"Topic16\", \"Topic16\", \"Topic16\", \"Topic17\", \"Topic17\", \"Topic17\", \"Topic17\", \"Topic17\", \"Topic17\", \"Topic17\", \"Topic17\", \"Topic17\", \"Topic17\", \"Topic17\", \"Topic17\", \"Topic17\", \"Topic17\", \"Topic17\", \"Topic17\", \"Topic17\", \"Topic17\", \"Topic17\", \"Topic17\", \"Topic17\", \"Topic17\", \"Topic17\", \"Topic17\", \"Topic17\", \"Topic17\", \"Topic17\", \"Topic17\", \"Topic17\", \"Topic17\", \"Topic17\", \"Topic17\", \"Topic17\", \"Topic17\", \"Topic17\", \"Topic17\", \"Topic17\", \"Topic17\", \"Topic17\", \"Topic17\", \"Topic18\", \"Topic18\", \"Topic18\", \"Topic18\", \"Topic18\", \"Topic18\", \"Topic18\", \"Topic18\", \"Topic18\", \"Topic18\", \"Topic18\", \"Topic18\", \"Topic18\", \"Topic18\", \"Topic18\", \"Topic18\", \"Topic18\", \"Topic18\", \"Topic18\", \"Topic18\", \"Topic18\", \"Topic18\", \"Topic18\", \"Topic18\", \"Topic18\", \"Topic18\", \"Topic18\", \"Topic18\", \"Topic18\", \"Topic18\", \"Topic18\", \"Topic18\", \"Topic18\", \"Topic18\", \"Topic19\", \"Topic19\", \"Topic19\", \"Topic19\", \"Topic19\", \"Topic19\", \"Topic19\", \"Topic19\", \"Topic19\", \"Topic19\", \"Topic19\", \"Topic19\", \"Topic19\", \"Topic19\", \"Topic19\", \"Topic19\", \"Topic19\", \"Topic19\", \"Topic19\", \"Topic19\", \"Topic19\", \"Topic19\", \"Topic19\", \"Topic19\", \"Topic19\", \"Topic19\", \"Topic19\", \"Topic19\", \"Topic19\", \"Topic19\", \"Topic19\", \"Topic19\", \"Topic19\", \"Topic19\", \"Topic20\", \"Topic20\", \"Topic20\", \"Topic20\", \"Topic20\", \"Topic20\", \"Topic20\", \"Topic20\", \"Topic20\", \"Topic20\", \"Topic20\", \"Topic20\", \"Topic20\", \"Topic20\", \"Topic20\", \"Topic20\", \"Topic20\", \"Topic20\", \"Topic20\", \"Topic20\", \"Topic20\", \"Topic20\", \"Topic20\", \"Topic20\", \"Topic20\", \"Topic20\", \"Topic20\", \"Topic20\", \"Topic20\", \"Topic20\", \"Topic20\", \"Topic20\", \"Topic20\", \"Topic20\", \"Topic20\", \"Topic20\", \"Topic20\", \"Topic20\", \"Topic20\", \"Topic20\"], \"logprob\": [30.0, 29.0, 28.0, 27.0, 26.0, 25.0, 24.0, 23.0, 22.0, 21.0, 20.0, 19.0, 18.0, 17.0, 16.0, 15.0, 14.0, 13.0, 12.0, 11.0, 10.0, 9.0, 8.0, 7.0, 6.0, 5.0, 4.0, 3.0, 2.0, 1.0, -2.4839, -2.5382, -2.826, -4.5014, -4.909, -5.1896, -5.4206, -5.5876, -5.6187, -5.63, -5.6448, -5.6931, -5.8687, -5.8921, -5.9838, -6.0126, -6.0367, -6.0931, -6.1424, -6.1884, -6.4013, -6.4262, -6.4679, -6.5358, -6.6, -6.6383, -6.6473, -6.7016, -6.7397, -6.7397, -0.8493, -4.4095, -4.72, -5.2942, -5.8785, -5.0836, -4.831, -5.3992, -5.3293, -5.8952, -5.6884, -5.5774, -5.5234, -5.6225, -5.7468, -5.8084, -5.6879, -3.8917, -4.0453, -4.8446, -5.1567, -5.3514, -5.4861, -5.5542, -5.5928, -5.6318, -5.6355, -5.694, -5.705, -5.7775, -5.7853, -5.7973, -5.813, -5.8373, -5.8445, -5.8458, -4.3062, -5.8943, -6.0011, -6.0166, -6.0173, -5.546, -6.0431, -4.758, -6.1419, -5.3482, -6.1852, -3.6496, -3.9211, -2.3256, -3.0277, -3.9186, -4.0371, -2.0505, -5.3383, -4.374, -5.12, -4.8967, -5.16, -4.6617, -4.7349, -4.6598, -5.2295, -4.7523, -5.1962, -4.6877, -4.8403, -4.9256, -4.4797, -3.1286, -4.7266, -4.3617, -4.6032, -4.75, -4.8288, -4.8132, -5.0616, -5.0477, -4.2216, -4.8949, -4.9644, -5.0121, -5.2253, -5.2395, -5.2971, -5.3278, -5.3396, -5.3569, -4.2052, -5.4739, -5.4797, -5.4856, -5.5172, -5.5199, -5.5349, -5.5737, -5.6154, -5.6559, -5.6726, -5.7976, -5.8126, -5.8129, -5.8493, -5.8542, -3.9018, -5.8895, -5.9338, -5.9357, -5.2967, -5.4992, -4.0463, -3.9212, -5.0871, -4.6721, -5.4208, -4.7324, -4.7846, -4.9434, -4.7215, -4.4645, -4.7488, -4.1882, -4.5015, -5.0324, -4.8597, -4.1276, -4.8859, -5.2659, -5.111, -4.5632, -4.3223, -4.9746, -4.5646, -5.0339, -4.9137, -5.056, -5.0165, -4.9859, -5.0351, -4.9587, -4.3189, -4.9048, -5.0083, -5.1098, -5.1362, -5.1549, -5.1705, -5.2813, -5.3712, -5.3908, -5.4381, -5.4606, -5.4796, -5.4855, -5.4919, -5.5408, -5.5436, -5.5726, -5.5744, -5.6045, -5.6128, -5.6235, -5.6274, -5.658, -5.7388, -5.7514, -5.7564, -5.768, -5.7731, -4.8656, -3.3154, -3.1253, -4.0937, -4.332, -4.7943, -4.1153, -4.8866, -5.1089, -5.2117, -4.5056, -4.9004, -4.9208, -4.6091, -5.0589, -5.0961, -5.0605, -4.6061, -5.021, -4.8457, -4.5561, -5.0888, -4.8976, -5.0504, -4.9785, -5.0604, -5.1149, -4.3466, -4.6795, -4.698, -4.8887, -4.7877, -4.9478, -5.0602, -5.0787, -5.1907, -5.2099, -5.4776, -5.5078, -5.7102, -5.7289, -3.8322, -6.0876, -6.101, -5.1966, -6.1579, -5.0823, -6.2676, -4.9284, -6.3391, -6.345, -6.3567, -6.3725, -4.5456, -6.4472, -6.4535, -5.0589, -3.5988, -4.9272, -4.8765, -3.4244, -4.3811, -4.212, -4.4646, -3.4598, -3.845, -3.1703, -4.2762, -3.822, -4.6003, -4.388, -3.6969, -3.927, -3.9525, -4.0139, -4.2085, -3.2098, -4.2763, -4.0589, -4.4194, -4.5726, -4.446, -4.5593, -4.6919, -4.5913, -3.6817, -4.0762, -4.2221, -4.2313, -4.3012, -4.4356, -4.4948, -4.5563, -3.562, -4.6551, -4.7195, -4.8234, -4.846, -4.9341, -5.4821, -5.4983, -5.5412, -5.5437, -5.6161, -3.3416, -5.7342, -5.7613, -5.975, -5.9847, -5.9951, -6.0876, -6.1277, -6.1439, -6.3528, -6.3625, -4.4545, -2.5521, -2.9715, -4.2674, -3.3997, -4.1569, -3.7854, -4.4113, -4.9714, -4.037, -3.4537, -4.7142, -4.5101, -4.3352, -4.3247, -4.4147, -4.4748, -4.4747, -4.6718, -4.6546, -4.6312, -3.6504, -4.0895, -4.3643, -4.4329, -4.4765, -4.63, -4.6531, -4.7032, -4.805, -4.8557, -5.0112, -5.1386, -5.1726, -5.2048, -5.2381, -5.1898, -4.5261, -5.4339, -5.4636, -5.491, -5.0837, -5.5101, -5.597, -5.6218, -5.6235, -5.666, -5.6715, -5.6876, -5.7506, -5.7993, -4.3429, -4.5213, -4.8122, -4.0218, -3.733, -4.3914, -4.354, -4.636, -4.8102, -4.0658, -4.465, -4.4271, -4.6964, -4.0509, -4.5066, -4.1516, -3.9276, -4.1073, -4.324, -4.4876, -4.2674, -4.6743, -4.6711, -4.5731, -4.6562, -4.6125, -4.6235, -4.685, -4.763, -4.8413, -5.0071, -5.106, -5.2618, -5.2831, -5.4243, -5.4287, -5.5088, -5.5486, -5.6026, -5.6558, -5.6687, -5.6687, -5.7389, -5.7915, -5.7959, -5.8649, -5.9195, -5.92, -5.9252, -5.9726, -6.0058, -6.0712, -6.1307, -6.1655, -6.237, -4.0643, -2.8967, -5.3944, -4.5901, -4.8865, -5.3607, -5.1142, -4.2753, -4.7489, -5.2997, -4.6902, -5.4453, -4.5984, -4.5865, -5.105, -4.2352, -5.045, -4.193, -4.1401, -4.8078, -4.9632, -4.8768, -4.8794, -4.9134, -4.6828, -4.8838, -4.8165, -4.8734, -4.5663, -4.7776, -4.899, -4.6993, -4.9457, -3.9582, -4.0807, -4.126, -4.1423, -4.2101, -4.2204, -4.2631, -4.2992, -4.4508, -4.5677, -4.6351, -4.7783, -5.2825, -5.2942, -5.3344, -5.3953, -5.4435, -5.4845, -5.5472, -5.5802, -5.6835, -4.7285, -5.8132, -5.8491, -5.8494, -5.8569, -5.9284, -5.9284, -5.9398, -6.0016, -3.3624, -4.3128, -4.2509, -3.9436, -4.3739, -4.9685, -3.6471, -4.3198, -4.254, -3.4944, -3.7929, -4.5826, -4.5649, -3.9634, -4.4112, -3.9417, -4.0997, -3.9497, -4.2065, -4.58, -4.4689, -3.236, -3.6656, -3.7239, -3.7582, -4.2852, -4.5305, -4.5629, -2.7503, -4.6269, -4.7496, -4.7585, -4.8689, -4.9421, -4.9457, -5.1607, -5.2556, -5.4221, -5.4619, -5.6324, -5.6821, -5.9383, -5.9422, -4.1082, -6.0518, -4.5435, -6.3909, -6.5545, -6.5545, -6.5545, -6.5553, -3.9229, -5.4932, -4.9671, -5.2589, -4.8909, -4.6898, -4.2706, -4.1872, -4.4644, -3.9283, -3.6515, -4.2803, -3.9071, -4.4383, -4.2092, -4.0484, -4.1379, -4.2573, -4.3831, -4.3462, -4.4192, -4.5625, -4.6501, -3.3233, -3.3883, -4.302, -2.702, -4.6444, -4.7441, -4.8113, -4.8921, -4.9814, -5.0019, -4.398, -5.1716, -5.2479, -5.3524, -5.4038, -5.4089, -5.4153, -5.5806, -5.5825, -5.6654, -5.7096, -5.7096, -5.8162, -5.9034, -5.9796, -5.9943, -5.9943, -5.9943, -3.8254, -6.1217, -4.5784, -3.8068, -3.6512, -4.533, -4.9599, -4.493, -3.3457, -3.6258, -5.2104, -5.0871, -4.3712, -3.0902, -4.5001, -4.2244, -3.7594, -3.4327, -4.1191, -3.8224, -4.5062, -4.3167, -4.6034, -4.6961, -4.6927, -4.7356, -3.5345, -3.9549, -4.1714, -4.1893, -4.2558, -4.2558, -4.7211, -4.732, -4.7533, -4.8009, -4.8692, -4.934, -4.9345, -4.9462, -4.9462, -4.9462, -4.9462, -4.9462, -4.9462, -5.0125, -5.0125, -5.0125, -5.1069, -5.3253, -5.3759, -5.6009, -3.5142, -3.5275, -5.9292, -4.963, -3.7283, -3.9716, -4.0449, -4.5049, -4.2882, -4.7262, -4.3445, -4.4631, -4.144, -4.2075, -4.1115, -4.4532, -3.9841, -3.5666, -4.1006, -4.3029, -4.7631, -4.1081, -4.5888, -4.6931, -3.4423, -3.5243, -3.5722, -3.6144, -3.7354, -3.7604, -4.1882, -4.3304, -4.3398, -4.6464, -4.707, -4.8521, -4.945, -5.0064, -5.0517, -5.0534, -3.898, -5.4416, -5.4901, -3.8266, -5.7472, -3.6835, -4.5047, -4.1669, -4.2112, -3.2229, -6.6944, -6.6944, -6.6944, -6.6944, -3.927, -4.029, -5.1417, -4.9784, -4.2545, -4.0062, -3.8534, -3.5159, -4.4164, -4.1508, -4.5519, -4.4887, -4.2735, -4.6077, -3.3472, -3.8952, -4.1377, -4.2276, -4.3154, -4.8122, -5.0336, -5.0336, -5.0336, -5.2251, -5.3183, -5.3183, -5.3183, -3.5863, -4.0292, -5.5858, -5.586, -5.7179, -5.7179, -5.7179, -5.718, -5.7181, -6.0046, -2.8101, -6.3935, -6.3935, -6.3935, -6.3935, -6.3941, -6.3941, -3.1802, -2.9126, -4.176, -4.1566, -3.8618, -4.1614, -2.9961, -3.5836, -3.076, -3.8995, -5.337, -5.4367, -5.3056, -3.0628, -3.4215, -3.4391, -3.5924, -3.9494, -4.255, -4.3846, -4.6667, -4.8741, -5.1333, -5.1919, -5.2163, -2.3947, -3.8642, -3.3352, -6.234, -6.2347, -3.1398, -5.5586, -3.2011, -4.1571, -5.1154, -6.2079, -4.3809, -5.9207, -4.2401, -5.6358, -4.3561, -5.6859, -5.5104, -5.276, -5.5191, -5.5883, -5.9139, -2.9458, -3.4251, -4.261, -4.2765, -4.3162, -4.4401, -4.5763, -4.6277, -4.7108, -4.7239, -4.7627, -4.8335, -4.9664, -5.1163, -3.231, -5.4244, -5.4246, -5.5563, -5.5624, -5.5788, -3.4971, -3.098, -6.232, -6.232, -4.3913, -4.5119, -4.0551, -5.5151, -4.5627, -5.5362, -4.8082, -4.7856, -3.8904, -4.0989, -4.2072, -4.5298, -4.3768, -5.2167, -5.132, -5.0005, -3.4831, -3.7745, -3.9125, -4.0179, -4.0438, -4.4935, -4.6714, -4.6967, -4.7408, -4.8047, -4.8961, -4.9752, -5.0326, -5.0602, -5.0743, -5.0836, -5.3009, -3.9006, -5.518, -5.518, -2.8233, -5.6116, -5.7287, -3.2995, -4.0757, -3.1715, -6.1937, -6.1937, -6.1937, -6.1937, -4.7845, -4.9001, -4.7225, -4.202, -4.7141, -4.411, -4.7322, -4.782, -5.0026, -5.047, -3.4084, -3.4618, -3.5408, -3.5498, -3.6545, -3.6781, -3.856, -4.3617, -4.4894, -4.6456, -4.7048, -4.7696, -4.7742, -5.0418, -5.1517, -3.5954, -2.4342, -6.117, -6.1171, -6.1171, -4.7992, -5.1281, -4.0501, -6.1196, -4.4363, -5.4242, -3.7598, -5.9702, -4.8597, -4.353, -4.417, -5.4026, -5.6966, -5.8084, -3.2354, -3.6191, -2.2959, -4.0872, -4.4043, -2.6627, -5.9997, -3.0815, -3.2784, -3.7367, -4.2565, -3.5458, -4.6293, -4.6618, -5.2, -9.3525, -9.3528, -9.353, -9.353, -9.3531, -9.3532, -9.3532, -9.3533, -9.3533, -9.3533, -9.3533, -9.3533, -9.3533, -9.3533, -9.3533, -9.3533, -9.3533, -9.3533, -9.3533, -2.7464, -3.1417, -3.3091, -3.6188, -3.6417, -5.637, -8.9928, -8.9932, -8.9932, -8.9932, -8.9932, -8.9932, -8.9932, -8.9933, -8.9933, -8.9933, -8.9933, -8.9932, -8.9933, -8.9933, -8.9933, -8.9933, -8.9933, -8.9934, -8.9934, -8.9934, -8.9934, -8.9934, -8.9934, -8.9934, -8.9933, -8.9934, -8.9934, -8.9933, -8.9933, -8.9934, -8.9934, -8.9933, -8.9934, -8.9934], \"loglift\": [30.0, 29.0, 28.0, 27.0, 26.0, 25.0, 24.0, 23.0, 22.0, 21.0, 20.0, 19.0, 18.0, 17.0, 16.0, 15.0, 14.0, 13.0, 12.0, 11.0, 10.0, 9.0, 8.0, 7.0, 6.0, 5.0, 4.0, 3.0, 2.0, 1.0, 1.8735, 1.8734, 1.873, 1.8661, 1.8618, 1.8577, 1.8533, 1.8495, 1.8487, 1.8484, 1.8481, 1.8468, 1.8415, 1.8407, 1.8375, 1.8365, 1.8356, 1.8333, 1.8313, 1.8293, 1.8189, 1.8175, 1.8151, 1.8111, 1.807, 1.8045, 1.8039, 1.8, 1.7973, 1.7973, 1.7794, 1.7937, 1.5924, 1.6554, 1.7008, 1.5467, 1.3207, 1.4587, 1.3906, 1.5545, 1.3567, 1.0267, 0.7226, 0.7202, 0.7271, 0.5291, -1.598, 1.9325, 1.9316, 1.9246, 1.92, 1.9163, 1.9132, 1.9116, 1.9106, 1.9095, 1.9094, 1.9077, 1.9074, 1.9052, 1.905, 1.9046, 1.9041, 1.9032, 1.903, 1.903, 1.9023, 1.9013, 1.8973, 1.8967, 1.8966, 1.8966, 1.8956, 1.8946, 1.8914, 1.8897, 1.8894, 1.871, 1.8295, 1.7643, 1.7512, 1.789, 1.7849, 1.6259, 1.8594, 1.7263, 1.7941, 1.7296, 1.7758, 1.6297, 1.6374, 1.5251, 1.7333, 1.5384, 1.6733, 1.3101, 1.3998, 1.4612, 1.0145, -0.4999, 1.1335, 0.5435, 0.6288, 0.8066, 0.7647, 0.5754, 1.1176, 0.5323, 2.1116, 2.1037, 2.1026, 2.1017, 2.0975, 2.0972, 2.0958, 2.0951, 2.0948, 2.0944, 2.092, 2.0913, 2.0911, 2.0909, 2.09, 2.0899, 2.0895, 2.0883, 2.087, 2.0856, 2.0851, 2.0805, 2.08, 2.0799, 2.0785, 2.0783, 2.0773, 2.0768, 2.0749, 2.0748, 2.0478, 2.0566, 1.9609, 1.9418, 1.9996, 1.9357, 2.028, 1.9334, 1.901, 1.9299, 1.8673, 1.7395, 1.725, 1.3921, 1.5339, 1.8137, 1.6831, 1.1555, 1.6169, 1.8958, 1.7338, 1.1004, 0.5829, 1.4653, 0.6674, 1.4556, 0.9583, 1.4153, 1.1783, 0.5989, 0.9626, -1.2823, 2.2511, 2.2428, 2.2408, 2.2386, 2.238, 2.2375, 2.2371, 2.2343, 2.2318, 2.2312, 2.2298, 2.2291, 2.2284, 2.2283, 2.228, 2.2264, 2.2263, 2.2253, 2.2252, 2.2241, 2.2238, 2.2234, 2.2233, 2.2221, 2.2189, 2.2183, 2.2181, 2.2176, 2.2174, 2.2164, 2.1892, 2.1801, 2.1679, 2.1676, 2.1594, 2.0739, 2.1184, 2.142, 2.1493, 1.9845, 2.0591, 1.9562, 1.8205, 2.0148, 2.0148, 1.9853, 1.6781, 1.9242, 1.7221, 1.32, 1.9009, 1.6743, 1.8108, 1.6231, 1.6463, 1.0891, 2.3296, 2.325, 2.3247, 2.3213, 2.321, 2.3201, 2.3176, 2.3171, 2.3143, 2.3138, 2.3055, 2.3044, 2.2963, 2.2955, 2.2897, 2.2763, 2.2755, 2.2719, 2.2718, 2.2709, 2.264, 2.259, 2.2585, 2.258, 2.2571, 2.2558, 2.2519, 2.2495, 2.2489, 2.2394, 2.1819, 2.2011, 2.1963, 2.1203, 2.1645, 2.1555, 2.1392, 2.0501, 2.0229, 1.9064, 2.0391, 1.9499, 1.9988, 1.8608, 1.5351, 1.6295, 1.641, 1.4803, 1.5114, 0.4666, 1.5194, 1.2242, 1.5681, 1.6574, 1.2176, 1.2583, 1.668, 0.7973, 2.5978, 2.594, 2.5922, 2.592, 2.5911, 2.589, 2.588, 2.5869, 2.5852, 2.5849, 2.5836, 2.5812, 2.5806, 2.5784, 2.559, 2.5582, 2.5562, 2.5561, 2.5525, 2.5498, 2.546, 2.5444, 2.5303, 2.5296, 2.5289, 2.5217, 2.5185, 2.5171, 2.4976, 2.4966, 2.476, 2.3903, 2.2077, 2.2929, 2.1133, 2.1348, 2.0025, 2.1218, 2.255, 1.815, 1.4515, 2.098, 1.8813, 1.6945, 1.5514, 1.4616, 1.2451, 1.1053, 1.7388, 1.6, 1.1645, 2.6671, 2.6626, 2.6587, 2.6574, 2.6567, 2.6537, 2.6532, 2.6521, 2.6496, 2.6483, 2.6438, 2.6396, 2.6384, 2.6372, 2.636, 2.6356, 2.6298, 2.6277, 2.6263, 2.6249, 2.6244, 2.624, 2.6195, 2.6181, 2.618, 2.6156, 2.6153, 2.6143, 2.6105, 2.6074, 2.6047, 2.4846, 2.5166, 2.3921, 2.3153, 2.4152, 2.3824, 2.4347, 2.4541, 2.2238, 2.3027, 2.2238, 2.3214, 1.8737, 2.176, 1.8782, 1.6571, 1.6806, 1.6828, 1.7584, 1.1212, 2.1552, 1.7809, 0.3693, 1.2158, 3.0634, 3.0631, 3.061, 3.0583, 3.0553, 3.0475, 3.0434, 3.0349, 3.0336, 3.0245, 3.0242, 3.0185, 3.0155, 3.0113, 3.0068, 3.0057, 3.0057, 2.9946, 2.9946, 2.9942, 2.9873, 2.9815, 2.9815, 2.9809, 2.9757, 2.9719, 2.964, 2.9565, 2.9519, 2.9421, 2.8339, 2.7093, 2.8882, 2.7531, 2.7435, 2.8354, 2.7527, 2.5127, 2.6381, 2.7982, 2.5057, 2.8411, 2.3525, 2.305, 2.5878, 1.9112, 2.4744, 1.5788, 1.4446, 1.9618, 2.1751, 2.0191, 1.9785, 1.9332, 1.3526, 1.8278, 1.4295, 1.4382, -0.4764, 0.7355, 1.2902, -1.023, 1.5255, 3.0958, 3.0936, 3.0927, 3.0924, 3.091, 3.0907, 3.0898, 3.0889, 3.0851, 3.0817, 3.0795, 3.0744, 3.05, 3.0492, 3.0467, 3.0427, 3.0393, 3.0364, 3.0316, 3.029, 3.0203, 3.0153, 3.0081, 3.0044, 3.0044, 3.0036, 2.996, 2.996, 2.9947, 2.9876, 2.9833, 2.9523, 2.9269, 2.879, 2.8945, 2.9334, 2.7511, 2.8173, 2.6543, 2.3599, 2.4532, 2.7106, 2.7028, 2.4472, 2.5433, 2.2048, 2.0196, 1.868, 1.6655, 2.396, 1.891, 3.3695, 3.3637, 3.3627, 3.3621, 3.3495, 3.341, 3.3397, 3.3393, 3.3371, 3.3316, 3.3312, 3.3256, 3.3215, 3.3213, 3.3076, 3.3006, 3.2868, 3.2832, 3.2661, 3.2606, 3.2282, 3.2276, 3.2221, 3.2114, 3.1829, 3.1504, 3.1146, 3.1146, 3.1146, 3.1143, 3.0815, 3.0974, 2.9572, 2.9246, 2.8389, 2.7588, 2.6253, 2.562, 2.645, 2.4129, 2.1442, 2.3597, 2.0821, 2.4508, 2.1788, 1.9999, 1.9172, 1.6672, 1.857, 1.4345, 1.5876, 2.0679, 2.1378, 3.5903, 3.5893, 3.5659, 3.5537, 3.5502, 3.5446, 3.5405, 3.5352, 3.5289, 3.5274, 3.5182, 3.5136, 3.5067, 3.4964, 3.491, 3.4904, 3.4897, 3.4703, 3.4701, 3.4592, 3.4531, 3.4531, 3.4373, 3.4233, 3.4102, 3.4076, 3.4076, 3.4076, 3.403, 3.3835, 3.3415, 3.253, 3.0983, 3.1751, 3.2234, 3.126, 2.8491, 2.8636, 3.2116, 3.1056, 2.6617, 1.815, 2.7073, 2.4648, 2.0925, 1.7465, 2.0601, 1.6907, 2.4698, 2.0245, 1.9686, 1.6162, 1.125, 0.9844, 3.9384, 3.9248, 3.9154, 3.9144, 3.9111, 3.9111, 3.8806, 3.8797, 3.8779, 3.8739, 3.8678, 3.8616, 3.8615, 3.8604, 3.8604, 3.8604, 3.8604, 3.8604, 3.8604, 3.8536, 3.8536, 3.8536, 3.8432, 3.8157, 3.8085, 3.7726, 3.7641, 3.756, 3.7069, 3.6977, 3.6343, 3.5563, 3.4565, 3.4072, 3.0621, 3.4574, 2.9237, 3.0283, 2.4796, 2.3921, 2.1345, 2.8145, 1.5724, 0.1098, 1.5629, 1.2818, 3.1579, -0.0182, 0.9912, 0.8872, 4.0141, 4.0119, 4.0105, 4.0093, 4.0054, 4.0045, 3.986, 3.9779, 3.9774, 3.9558, 3.9507, 3.9375, 3.928, 3.9213, 3.9162, 3.916, 3.9026, 3.8621, 3.854, 3.8451, 3.8054, 3.7414, 3.6784, 3.6486, 3.594, 3.5349, 3.52, 3.52, 3.52, 3.52, 3.4446, 3.3179, 3.3737, 3.2969, 3.0135, 2.7684, 2.3927, 1.8727, 2.7405, 2.2167, 2.4424, 1.8009, 0.8032, 1.8958, 4.4583, 4.4318, 4.415, 4.4077, 4.4, 4.343, 4.3085, 4.3085, 4.3085, 4.2731, 4.2538, 4.2538, 4.2538, 4.2141, 4.1904, 4.1899, 4.1899, 4.1534, 4.1534, 4.1534, 4.1534, 4.1534, 4.0615, 3.9549, 3.9067, 3.9067, 3.9067, 3.9067, 3.9065, 3.9065, 3.3632, 2.9594, 3.3143, 3.1639, 2.7645, 2.6834, 1.0938, 1.3216, 0.6004, 0.8794, 2.2591, 2.4753, 0.9029, 4.6621, 4.6475, 4.6467, 4.6387, 4.6148, 4.5871, 4.5728, 4.5356, 4.5019, 4.4508, 4.4378, 4.4322, 4.2946, 4.213, 4.1562, 4.0882, 4.0879, 4.0402, 3.9259, 3.7932, 3.551, 3.473, 2.9851, 2.515, 2.4407, 2.0516, 1.9043, 1.6793, 1.6585, 1.6004, 1.3952, 0.7782, 0.2718, 1.0361, 4.6738, 4.6552, 4.5938, 4.5922, 4.5879, 4.5734, 4.5556, 4.5483, 4.5358, 4.5338, 4.5276, 4.5157, 4.4915, 4.4609, 4.4518, 4.3858, 4.3857, 4.348, 4.3461, 4.3411, 4.2852, 4.1881, 4.0935, 4.0935, 4.0795, 3.943, 3.8338, 3.508, 3.3493, 3.3469, 3.0499, 2.9377, 1.9726, 2.0723, 1.4564, 2.059, 1.4993, 2.9794, 2.2291, 0.8539, 4.7777, 4.7582, 4.7469, 4.7373, 4.7348, 4.6808, 4.6529, 4.6486, 4.6409, 4.6291, 4.6113, 4.5947, 4.5821, 4.5758, 4.5725, 4.5703, 4.515, 4.4608, 4.4502, 4.4502, 4.4491, 4.4192, 4.3776, 4.3567, 4.3396, 4.2468, 4.1802, 4.1802, 4.1802, 4.1802, 3.6877, 3.5501, 3.4606, 2.7121, 2.838, 2.1372, 2.7143, 2.4843, 2.0149, 1.9007, 4.8241, 4.821, 4.8161, 4.8155, 4.8084, 4.8067, 4.7926, 4.7378, 4.7196, 4.6945, 4.6841, 4.6722, 4.6713, 4.6146, 4.5877, 4.541, 4.5144, 4.2407, 4.2406, 4.2406, 4.0214, 3.4504, 3.2379, 3.2276, 2.8288, 2.7725, 2.743, 2.5788, 2.1429, 1.6361, 1.5622, 0.1776, 0.8029, 1.4599, 5.1886, 5.1568, 5.1377, 5.0998, 5.046, 4.9053, 4.4819, 4.4565, 4.3929, 4.0969, 3.9445, 3.4439, 3.4238, 2.7041, 1.984, 1.7145, 1.7142, 1.714, 1.714, 1.714, 1.7138, 1.7138, 1.7138, 1.7138, 1.7138, 1.7138, 1.7138, 1.7138, 1.7138, 1.7138, 1.7137, 1.7137, 1.7137, 1.7137, 6.1948, 6.1394, 6.1097, 6.0432, 6.0376, 5.0962, 2.0741, 2.0739, 2.0739, 2.0739, 2.0739, 2.0739, 2.0738, 2.0738, 2.0738, 2.0738, 2.0738, 2.0738, 2.0738, 2.0738, 2.0738, 2.0738, 2.0738, 2.0737, 2.0737, 2.0737, 2.0737, 2.0737, 2.0737, 2.0737, 2.0737, 2.0737, 2.0737, 2.0737, 2.0737, 2.0737, 2.0737, 2.0736, 2.0735, 2.0735]}, \"token.table\": {\"Topic\": [3, 4, 10, 14, 1, 9, 12, 7, 11, 2, 12, 3, 4, 6, 3, 5, 7, 15, 7, 16, 12, 18, 17, 18, 2, 15, 4, 10, 2, 14, 1, 2, 3, 4, 8, 9, 12, 14, 16, 13, 2, 3, 4, 5, 6, 8, 10, 12, 6, 14, 4, 7, 13, 4, 17, 6, 12, 11, 10, 15, 3, 9, 12, 4, 2, 16, 8, 16, 7, 8, 2, 17, 4, 17, 3, 6, 2, 5, 11, 19, 11, 9, 17, 17, 2, 10, 5, 4, 7, 8, 1, 6, 4, 11, 12, 2, 5, 7, 8, 10, 10, 13, 6, 18, 12, 2, 3, 3, 8, 12, 3, 15, 3, 4, 6, 15, 18, 1, 7, 10, 2, 4, 1, 2, 3, 13, 9, 19, 3, 1, 11, 1, 2, 3, 7, 8, 11, 18, 6, 4, 7, 19, 1, 3, 7, 8, 19, 14, 10, 3, 7, 11, 17, 5, 10, 15, 11, 4, 11, 1, 9, 12, 3, 6, 2, 4, 5, 6, 9, 17, 4, 13, 7, 4, 9, 16, 4, 9, 18, 8, 5, 5, 11, 9, 3, 14, 3, 18, 4, 17, 5, 13, 1, 10, 2, 14, 2, 3, 8, 1, 7, 9, 1, 2, 4, 5, 8, 10, 4, 8, 10, 1, 17, 13, 7, 17, 3, 6, 10, 3, 17, 7, 10, 6, 1, 3, 2, 7, 10, 13, 3, 13, 15, 2, 3, 4, 8, 17, 4, 11, 14, 14, 4, 6, 8, 1, 2, 3, 7, 4, 6, 8, 1, 11, 6, 7, 1, 3, 18, 3, 4, 8, 11, 7, 4, 14, 3, 4, 1, 3, 12, 6, 11, 2, 9, 3, 5, 11, 1, 12, 1, 5, 8, 9, 10, 12, 14, 2, 8, 11, 13, 17, 13, 1, 9, 2, 2, 3, 4, 5, 6, 7, 8, 11, 3, 4, 5, 8, 13, 15, 4, 17, 4, 1, 13, 6, 16, 17, 9, 13, 4, 10, 16, 5, 14, 3, 4, 19, 8, 3, 1, 5, 6, 13, 15, 4, 6, 8, 15, 18, 3, 11, 12, 5, 1, 9, 7, 10, 13, 3, 4, 7, 15, 16, 4, 16, 8, 3, 9, 1, 7, 11, 6, 6, 1, 12, 1, 2, 5, 9, 12, 10, 16, 3, 5, 14, 2, 6, 4, 4, 8, 2, 4, 6, 8, 18, 1, 2, 4, 8, 9, 9, 1, 10, 11, 17, 4, 4, 8, 11, 3, 4, 6, 8, 4, 7, 8, 10, 2, 5, 17, 3, 10, 12, 4, 18, 15, 10, 11, 10, 3, 7, 4, 6, 8, 10, 4, 5, 3, 4, 6, 17, 4, 12, 7, 12, 3, 7, 13, 5, 8, 9, 4, 2, 17, 4, 5, 7, 8, 3, 11, 3, 4, 2, 5, 9, 10, 5, 1, 13, 1, 3, 4, 6, 8, 13, 6, 12, 14, 6, 19, 1, 3, 4, 5, 9, 11, 6, 2, 7, 1, 2, 3, 4, 8, 9, 12, 14, 2, 5, 2, 7, 10, 7, 19, 17, 17, 9, 12, 4, 1, 3, 13, 17, 20, 7, 13, 2, 3, 6, 8, 11, 14, 17, 10, 2, 6, 1, 3, 4, 8, 2, 3, 5, 7, 8, 10, 13, 3, 4, 5, 6, 4, 5, 18, 3, 5, 7, 9, 10, 13, 3, 2, 3, 4, 5, 8, 10, 18, 5, 11, 7, 3, 6, 7, 10, 9, 6, 3, 3, 15, 10, 2, 3, 9, 2, 3, 4, 6, 7, 11, 16, 8, 2, 3, 7, 7, 9, 9, 5, 5, 7, 12, 7, 16, 1, 13, 2, 14, 9, 4, 5, 8, 17, 17, 13, 17, 4, 8, 12, 6, 3, 4, 11, 11, 11, 16, 3, 1, 2, 5, 13, 15, 17, 9, 5, 9, 4, 8, 2, 4, 7, 8, 8, 8, 4, 8, 4, 16, 14, 5, 3, 7, 5, 1, 1, 2, 10, 2, 1, 2, 2, 9, 1, 1, 5, 5, 9, 8, 10, 18, 14, 3, 3, 4, 5, 6, 8, 10, 12, 16, 4, 4, 8, 15, 1, 5, 7, 8, 10, 13, 10, 5, 9, 4, 16, 4, 5, 7, 16, 3, 7, 12, 3, 6, 7, 15, 16, 16, 7, 3, 4, 10, 5, 8, 7, 10, 11, 2, 1, 2, 3, 4, 5, 9, 11, 12, 18, 1, 7, 6, 4, 8, 1, 16, 9, 12, 9, 12, 1, 8, 10, 15, 2, 5, 7, 8, 10, 7, 3, 4, 6, 8, 14, 1, 6, 8, 11, 18, 5, 1, 2, 1, 2, 3, 1, 3, 4, 5, 6, 13, 11, 2, 4, 17, 2, 3, 17, 18, 1, 9, 11, 2, 3, 4, 6, 8, 11, 1, 15, 12, 17, 3, 7, 9, 14, 14, 14, 7, 13, 5, 9, 13, 18, 12, 1, 8, 1, 8, 5, 12, 7, 1, 19, 3, 9, 5, 2, 3, 4, 5, 7, 8, 16, 9, 16, 1, 12, 5, 5, 14, 16, 9, 2, 6, 11, 14, 6, 2, 3, 5, 10, 12, 2, 3, 15, 1, 2, 3, 4, 5, 6, 7, 8, 13, 16, 2, 5, 8, 10, 10, 12, 4, 3, 11, 1, 5, 6, 9, 14, 12, 15, 2, 3, 5, 6, 8, 18, 1, 3, 18, 9, 1, 3, 8, 10, 11, 5, 7, 9, 12, 9, 10, 5, 6, 7, 17, 7, 6, 3, 10, 3, 5, 3, 2, 13, 1, 9, 15, 11, 1, 1, 1, 4, 8, 9, 18, 10, 2, 4, 5, 9, 12, 12, 16, 3, 4, 7, 8, 17, 17, 17, 19, 4, 7, 9, 10, 18, 13, 4, 5, 7, 3, 4, 16, 12, 20, 2, 6, 17, 3, 14, 15, 4, 8, 15, 6, 12, 2, 4, 1, 2, 3, 4, 5, 8, 9, 10, 12, 14, 2, 11, 3, 11, 5, 8, 7, 1, 3, 4, 7, 8, 9, 10, 12, 17, 6, 12, 13, 7, 7, 10, 12, 8, 2, 3, 4, 11, 8, 3, 15, 3, 15, 2, 6, 7, 17, 8, 4, 2, 3, 4, 6, 8, 9, 10, 11, 20, 1, 18, 1, 3, 4, 7, 15, 5, 9, 12, 8, 10, 4, 17, 8, 9, 11, 13, 4, 5, 4, 6, 8, 8, 4, 17, 5, 2, 3, 4, 8, 4, 8, 10, 6, 6, 2, 4, 6, 16, 5, 4, 6, 8, 1, 4, 5, 6, 9, 16, 9, 18, 4, 7, 17, 8, 20, 14, 3, 4, 8, 1, 3, 7, 15, 2, 2, 4, 13, 3, 2, 3, 4, 8, 9, 3, 6, 4, 6, 11, 10, 7, 16, 4, 8, 13, 1, 2, 3, 4, 5, 6, 15, 2, 3, 2, 4, 6, 8, 6, 4, 15, 9, 3, 14, 12, 3, 2, 6, 8, 4, 13, 4, 16, 18, 11, 2, 3, 4, 8, 10, 3, 8, 14, 1, 18, 7, 9, 18, 14, 10, 9, 13, 15, 12, 14, 16, 14, 16, 7, 4, 8, 1, 3, 7, 10, 14, 8, 16, 18, 8, 11, 11, 15, 8, 16, 8, 13, 4, 6, 7, 3, 5, 8, 13, 18, 18, 1, 3, 14, 2, 14, 3, 8, 10, 13, 6, 11, 13, 2, 3, 5, 6, 10, 13, 6, 8, 10, 11, 15, 11, 1, 2, 5, 8, 9, 11, 17, 16, 2, 4, 3, 9, 18, 3, 16, 2, 6, 12, 7, 9, 12, 15, 1, 3, 4, 15, 16, 9, 10, 2, 4, 13, 10, 2, 13, 4, 6, 8, 9, 10, 14, 3, 6, 17, 19, 1, 10, 11, 15, 1, 10, 10, 5, 10, 1, 7, 13, 6, 7, 4, 19, 13, 4, 3, 4, 11, 11, 12, 16, 15, 5, 1, 2, 4, 5, 7, 8, 14, 6, 14, 1, 13, 1, 2, 2, 3, 4, 6, 10, 2, 18, 9, 19, 9, 6, 16, 8, 4, 16, 18, 16, 17, 4, 7, 7, 5, 11, 3, 6, 10, 4, 12, 17, 15, 3, 11, 3, 2, 7, 1, 4, 5, 7, 8, 10, 5, 7, 1, 1, 2, 3, 9, 17, 5, 10, 15, 3, 4, 8, 10, 2, 2, 3, 6, 7, 10, 6, 18, 2, 8, 13, 12, 2, 1, 2, 3, 4, 5, 7, 8, 9, 12, 5, 10, 14, 3, 5, 3, 9, 19, 3, 4, 5, 6, 6, 7, 8, 4, 4, 11, 3, 11, 11, 3, 6, 14, 13, 2, 3, 15, 3, 13, 4, 19, 7, 3, 5, 7, 9, 19, 3, 7, 1, 3, 4, 9, 12, 3, 17, 3, 4, 5, 6, 8, 16, 8, 2, 14, 12, 12, 17, 1, 3, 4, 6, 8, 9, 1, 9, 6, 4, 5, 6, 7, 12, 10, 3, 4, 7, 11, 20, 4, 3, 9, 10, 3, 1, 15, 5, 7, 14, 2, 3, 4, 5, 10, 9, 3, 7, 10, 1, 9, 2, 3, 5, 8, 5, 14, 2, 3, 4, 5, 6, 7, 6, 9, 12, 9, 8, 16, 5, 4, 9, 16, 16, 3, 4, 5, 7, 12, 8, 5, 10, 10, 5, 9, 8, 10, 2, 3, 4, 6, 7, 8, 8, 3, 5, 11], \"Freq\": [0.24651939248899535, 0.32869252331866045, 0.10956417443955349, 0.3013014797087721, 0.3157409604897478, 0.5130790607958402, 0.1578704802448739, 0.9799525655190169, 0.9116473470507473, 0.9622610835443024, 0.9247723795979371, 0.8085077834919372, 0.1774773183274984, 0.9767143963379635, 0.17553636113397694, 0.4946933813775714, 0.3031991692314147, 0.03191570202435944, 0.7952961593413421, 0.1728904694220309, 0.9700003608848391, 0.8215408401911451, 0.8767837090087853, 0.7169221167176483, 0.9662998303868447, 0.026116211632076884, 0.7766052435699018, 0.19866645765741672, 0.9835903784515622, 0.8726133479665894, 0.031070992419569565, 0.8407445007648235, 0.022846317955565857, 0.011880085336894245, 0.02832943426490166, 0.01279393805511688, 0.018277054364452684, 0.03289869785601483, 0.8020034629994262, 0.9703313646752474, 0.24734880468004306, 0.1703057343698657, 0.0446038828111553, 0.19058022655675447, 0.22301941405577652, 0.036494085936399794, 0.04054898437377755, 0.052713679685910814, 0.9550739678290978, 0.8079700454650686, 0.7556355638710178, 0.18135253532904427, 0.05037570425806785, 0.5849961451106481, 0.29249807255532406, 0.9842014637626851, 0.8954900386346019, 0.8926809093183519, 0.34484205671956014, 0.6404209624791831, 0.9742158001035471, 0.36009956889440015, 0.6093992704366772, 0.9755416044010057, 0.933563853590251, 0.9664562052850179, 0.19924360033845656, 0.7637671346307502, 0.7922816843060416, 0.1980704210765104, 0.8621934558829233, 0.12317049369756047, 0.34539847637465937, 0.6217172574743869, 0.9692608616774878, 0.8614123889835408, 0.6608352350933092, 0.2895794850408883, 0.04455069000629051, 0.8916170262767344, 0.908957431121826, 0.8268578415549307, 0.12402867623323961, 0.7495314853618955, 0.9565605944955099, 0.7260894946510242, 0.920550882549774, 0.12122867884107691, 0.1060750939859423, 0.7728328276118652, 0.621237533448309, 0.36767119326532577, 0.1686450257490344, 0.8221445005265426, 0.9434327972006368, 0.3792314988465106, 0.3539493989234099, 0.05899156648723498, 0.19382943274377207, 0.008427366641033569, 0.8960253792101649, 0.9310906133058567, 0.28686327679789597, 0.6852844945727515, 0.9450088132528401, 0.24453133563114457, 0.7335940068934337, 0.39933539496565246, 0.47920247395878296, 0.11181391059038269, 0.751794857233765, 0.150358971446753, 0.3468677647815597, 0.15517768424438197, 0.4837892508795438, 0.881896936834114, 0.8723693145563673, 0.30585479260976955, 0.6914977919873051, 0.8520479201379684, 0.957743588289921, 0.9687446875248686, 0.06584164731924953, 0.19752494195774858, 0.13168329463849907, 0.6057431553370957, 0.8175579956008229, 0.1442749404001452, 0.9757081998362284, 0.9037732048165766, 0.7986821213801929, 0.9771948434685832, 0.9436296312922221, 0.24491396378422345, 0.7476320999728926, 0.9531770515038943, 0.842456432726194, 0.9122406267966272, 0.9768218729313544, 0.4837332377352946, 0.4111732520750004, 0.07255998566029419, 0.14115253799039182, 0.28230507598078364, 0.3427990208338087, 0.16131718627473352, 0.04032929656868338, 0.5925411511300347, 0.9265460333070642, 0.05530500123190145, 0.7742700172466203, 0.12443625277177825, 0.027652500615950724, 0.027001169703714443, 0.9585415244818628, 0.006750292425928611, 0.7411483005288553, 0.2739023070606581, 0.6573655369455794, 0.3333914513344462, 0.23813675095317585, 0.40483247662039895, 0.014301860650197819, 0.9796774545385506, 0.398213666504429, 0.029772984411546095, 0.42426502786453185, 0.09304057628608155, 0.05582434577164893, 0.8572500248154687, 0.43792074449510593, 0.5595653957437464, 0.958840082796062, 0.3264856727119011, 0.20405354544493817, 0.40810709088987634, 0.9052392580067627, 0.06102736570832108, 0.02034245523610703, 0.9563906395137683, 0.9186906636477087, 0.9118822171982325, 0.8728777368841805, 0.9812194217725599, 0.9775923312468096, 0.5925411511300347, 0.9610235315778309, 0.03626503892746532, 0.9707802422837989, 0.8754316020528773, 0.8288853312711455, 0.1604294189557056, 0.8384054522478062, 0.11977220746397231, 0.9623913412229363, 0.5925822599704178, 0.9702100753049155, 0.9663558376920751, 0.9007827245225695, 0.08720820826594101, 0.026162462479782305, 0.8808029034860043, 0.7364895401616853, 0.2630319786291733, 0.22193034599990827, 0.234985072235197, 0.10443780988230977, 0.44386069199981654, 0.2448880164689481, 0.5509980370551333, 0.18366601235171107, 0.9632428531384357, 0.8235867854572774, 0.9225516933459835, 0.9650105144423449, 0.7100856326773092, 0.18726984400180635, 0.43306151425417716, 0.3628353227534998, 0.6437961181073432, 0.2861316080477081, 0.9607428433266487, 0.019606996802584667, 0.9071221575281492, 0.9226012529000008, 0.06806074816475416, 0.15665022425886127, 0.6348456456806483, 0.09069223509723547, 0.10718173238764192, 0.48046592391675635, 0.48046592391675635, 0.7113083933624283, 0.41644243103553913, 0.12813613262631973, 0.25627226525263946, 0.12813613262631973, 0.06406806631315987, 0.9616472655155857, 0.9018971825950601, 0.8160284618911811, 0.8786124700633606, 0.9139261953511112, 0.01603379290089669, 0.06413517160358675, 0.15331195526462751, 0.31620590773329427, 0.5174278490181179, 0.9812560317357641, 0.5576622011961422, 0.2706301858745984, 0.1640182944694536, 0.9362163937575347, 0.9076168918445883, 0.9226501461769488, 0.971997624579928, 0.9993948561934507, 0.7016920259525818, 0.17542300648814546, 0.052386338451028594, 0.9213832468739734, 0.024652394565189924, 0.8593331379745417, 0.9699865391228133, 0.9687006020368536, 0.4551116367851949, 0.4503969441209745, 0.5379741277000528, 0.24130620616031281, 0.3729277731568471, 0.35099084532409136, 0.6942846463181895, 0.27350607279201405, 0.2309062492078328, 0.7504453099254565, 0.3899487041184684, 0.134982243733316, 0.47243785306660596, 0.9362163937575347, 0.9098047630228254, 0.3130188583905872, 0.26084904865882264, 0.06086477802039195, 0.2521540803701952, 0.06086477802039195, 0.04347484144313711, 0.9469322184085456, 0.4379353128156521, 0.13138059384469564, 0.10948382820391303, 0.19707089076704346, 0.08758706256313042, 0.874362808204804, 0.7975925944621299, 0.17547037078166858, 0.9753987683752412, 0.013992531418526376, 0.07462683423214067, 0.02798506283705275, 0.43376847397431767, 0.25652974267298356, 0.09328354279017584, 0.018656708558035168, 0.07462683423214067, 0.5562987113971284, 0.05754814255832363, 0.13427899930275514, 0.17264442767497087, 0.025576952248143835, 0.05115390449628767, 0.9439613228496677, 0.881783569804885, 0.9811499579476121, 0.13136923409754248, 0.8210577131096404, 0.9957431551619659, 0.6123817111388201, 0.489713036819485, 0.11207474108976287, 0.859239681688182, 0.07336375574482715, 0.25677314510689503, 0.6602738017034443, 0.22410664958196458, 0.7470221652732153, 0.13283214663741966, 0.6973687698464531, 0.16604018329677456, 0.8986505354601375, 0.9903759035961944, 0.9308069099176183, 0.21685923937397236, 0.15013331956659626, 0.20017775942212834, 0.4003555188442567, 0.5324863292554072, 0.143915224123083, 0.3166134930707826, 0.4650624854000855, 0.48186480744475146, 0.9866034150275736, 0.7411483005288553, 0.8674057715972977, 0.977436883827859, 0.9230314166354299, 0.9789544669675765, 0.3828407324391177, 0.5916629501331819, 0.9732922153904977, 0.2173686468324278, 0.39850918585945094, 0.33812900618377656, 0.03622810780540463, 0.9010270630463695, 0.9469590774074502, 0.03642150297720963, 0.889620716365322, 0.9747473342926675, 0.8948572845632956, 0.9980851340475689, 0.9669544434476778, 0.8525713017519323, 0.9503043809873485, 0.9800666189473228, 0.2652063424175825, 0.7232900247752251, 0.04753484491418837, 0.32086020317077146, 0.4911933974466131, 0.043573607838006005, 0.09110845275219437, 0.9677442446584307, 0.8362063786806061, 0.675128676789916, 0.1436443993170034, 0.15800883924870374, 0.0498315567970539, 0.9467995791440241, 0.9744649453531037, 0.9819391740130077, 0.8115641413291974, 0.08950035224063148, 0.11187544030078936, 0.44750176120315743, 0.11187544030078936, 0.20137579254142085, 0.9091383715126343, 0.08733154792800311, 0.0012718186591456763, 0.0014837884356699556, 0.0006359093295728381, 0.8565973773763979, 0.9983740575921614, 0.7265216873305024, 0.958983325265795, 0.489713036819485, 0.9781894492865945, 0.859834976225495, 0.11801656536428362, 0.9290806572972207, 0.13067487234500377, 0.588036925552517, 0.15245401773583772, 0.13067487234500377, 0.29032216364387503, 0.7001887476116987, 0.754374955458229, 0.20116665478886106, 0.9799208687969612, 0.9153174426746887, 0.489713036819485, 0.21916936579522797, 0.16437702434642099, 0.602715755936877, 0.7896550521437304, 0.07896550521437304, 0.8315737269288797, 0.9416492651321247, 0.9129590793584677, 0.936542071896938, 0.9758412405040082, 0.9720084439504793, 0.25242907672429826, 0.6205548136138999, 0.06310726918107457, 0.0525893909842288, 0.7551807162431802, 0.2283104490967754, 0.14569172062592273, 0.6701819148792445, 0.029138344125184543, 0.14569172062592273, 0.9703686956448916, 0.919468730082607, 0.9498081134167538, 0.909408102036495, 0.24273815728817363, 0.7562227207823872, 0.8415424925251727, 0.9180575415300171, 0.06851175683059829, 0.9847048696140431, 0.9931224284454715, 0.4333278015543928, 0.5607771549527436, 0.04183217083624518, 0.9481958722882241, 0.9780003858017414, 0.8951348122609318, 0.5895296784723772, 0.3814603801880088, 0.08624157003110694, 0.8839760928188461, 0.01769156421319628, 0.5130553621826922, 0.2919108095177386, 0.1769156421319628, 0.9790944633537242, 0.30335710090813833, 0.6825534770433113, 0.18381428394117535, 0.20423809326797263, 0.2655095212483644, 0.12254285596078358, 0.09190714197058768, 0.11233095129738495, 0.5056519839618528, 0.46351431863169845, 0.4551116367851949, 0.2664609315203719, 0.7105624840543251, 0.06685987474214039, 0.14914895134785164, 0.07200294202999734, 0.3394424409985589, 0.28801176811998935, 0.08228907660571125, 0.9572588749103991, 0.9856136677112519, 0.973005716609525, 0.01820081867373665, 0.8299573315223913, 0.06916311096019927, 0.01456065493898932, 0.02912130987797864, 0.005460245602120995, 0.005460245602120995, 0.027301228010604976, 0.9600739480988209, 0.0355582943740304, 0.7432949576828385, 0.25075010620625876, 0.9497529984102322, 0.10353201038038587, 0.8800220882332799, 0.489713036819485, 0.6528634229303427, 0.17819632228054666, 0.80188345026246, 0.9835547601910876, 0.1096674941275349, 0.5264039718121675, 0.3509359812081117, 0.7024468726690543, 0.7209310887799281, 0.23092539021603, 0.7440929240294301, 0.24781762759838868, 0.21477527725193685, 0.31596747518794555, 0.012390881379919434, 0.16727689862891235, 0.041302937933064776, 0.6876431118740266, 0.9477532294980706, 0.3893292027974297, 0.5978984185817671, 0.3172086342652371, 0.6740683478136288, 0.34586021545352513, 0.6423118286994038, 0.1176734788076497, 0.05883673940382485, 0.6472041334420733, 0.03922449293588323, 0.046579085361361336, 0.04903061616985404, 0.03922449293588323, 0.20196116510833576, 0.1475870052714761, 0.5049029127708393, 0.13981926815192475, 0.40661120867822426, 0.24396672520693455, 0.24396672520693455, 0.1291841244845402, 0.8025074399797193, 0.03523203395032914, 0.01174401131677638, 0.0195733521946273, 0.9501500366551775, 0.9820425592448101, 0.11599298824673678, 0.10988809412848746, 0.05494404706424373, 0.3357691765037117, 0.06715383530074234, 0.2747202353212187, 0.03662936470949582, 0.904252400329263, 0.06781893002469473, 0.9803333076101228, 0.8273403607715949, 0.11333429599610889, 0.04533371839844356, 0.9529198432997265, 0.9186509445117813, 0.9573812678423373, 0.9678386967429806, 0.9804222303429599, 0.6980599980889411, 0.9811041058438787, 0.5357520515268074, 0.31406154744674913, 0.1477936693867055, 0.010645264845616191, 0.03725842695965667, 0.15435634026143477, 0.45242375593868817, 0.11709791330177811, 0.21822792933513194, 0.4665915670525512, 0.9286924899755773, 0.08488051670677675, 0.31122856125818144, 0.5941636169474372, 0.41680172626659556, 0.5610792468973402, 0.9645648268576553, 0.9826508942242257, 0.437549677306197, 0.32240502538351357, 0.23028930384536683, 0.9820504129117952, 0.6150204132247976, 0.989287102179159, 0.41756109357008636, 0.8081969692202674, 0.17318506483291446, 0.9538676430783929, 0.028204052989120838, 0.4230607948368126, 0.535877006793296, 0.8409272280679825, 0.8940764375199461, 0.7119857505030303, 0.2738406732703963, 0.8970051060272826, 0.0800897416095788, 0.9529499378887376, 0.9791225071584413, 0.6812003137494372, 0.3103245873747436, 0.9048649433180276, 0.9848326854474135, 0.9146035799358974, 0.8696533789233349, 0.9569711034522097, 0.1136425629769899, 0.8574847933718328, 0.020662284177634525, 0.1309128713245319, 0.1309128713245319, 0.6545643566226593, 0.9331059698221689, 0.1603176301717503, 0.8216278546302203, 0.5778943379819821, 0.4045260365873875, 0.25650418631429645, 0.12214485062585545, 0.6107242531292773, 0.8982793913878978, 0.8846318838978772, 0.8554048793520179, 0.8216973140525001, 0.161117120402451, 0.8906733028967666, 0.07221675428892702, 0.5925411511300347, 0.9638843917357202, 0.851645155055878, 0.14297692384149777, 0.9782281818407907, 0.970803802574043, 0.18831439293667324, 0.5806360448880759, 0.21970012509278544, 0.966462910348908, 0.5746154627571036, 0.41659621049890017, 0.9429257815083544, 0.92881886737544, 0.9745572321192036, 0.9870082708005643, 0.9544328501383362, 0.9720168095208848, 0.9345965516161349, 0.11671166052381446, 0.863666287876227, 0.9205822577087461, 0.9326164929749374, 0.9660495834901074, 0.3615003753054924, 0.03967687046035892, 0.3262320460073956, 0.048493952784883124, 0.057311035109407334, 0.03526832929809682, 0.09257936440750415, 0.03967687046035892, 0.9733864147958304, 0.8277306863085756, 0.16405473061971768, 0.928410864240011, 0.03946607949403776, 0.14207788617853595, 0.4025540108391852, 0.18943718157138126, 0.03157286359523021, 0.18943718157138126, 0.983880206655539, 0.9727078904098713, 0.9446267079695068, 0.634292893994604, 0.2537171575978416, 0.9535785949819808, 0.5143791232169294, 0.27697337403988503, 0.1978381243142036, 0.8277420492619952, 0.16259218824789193, 0.9005194660226553, 0.8395066026718031, 0.026907262906147537, 0.06457743097475409, 0.005381452581229507, 0.06457743097475409, 0.8831733293119711, 0.9160902851201748, 0.4204377645013132, 0.16517197891123017, 0.39040649560836227, 0.2601040529946882, 0.7093746899855132, 0.6995258412385633, 0.25260655378059227, 0.045339637858055025, 0.9866350704121002, 0.0932949316238431, 0.1460268494981892, 0.4826998636190143, 0.0608445206242455, 0.0162252054997988, 0.1014075343737425, 0.0446193151244467, 0.0446193151244467, 0.0081126027498994, 0.17480857086093995, 0.8084896402318473, 0.9891572195749211, 0.9288320682198982, 0.06768816691481039, 0.5030561113399942, 0.4311909525771379, 0.17658142542559005, 0.7946164144151553, 0.8584150720660589, 0.8943805747497737, 0.060471254817610946, 0.3477097152012629, 0.46865222483648483, 0.10582469593081915, 0.018641590833985217, 0.31069318056642026, 0.37283181667970433, 0.1242772722265681, 0.16777431750586694, 0.9734987703805564, 0.13545686796925502, 0.3010152621539, 0.105355341753865, 0.45152289323085004, 0.4549660812938831, 0.9683889776562729, 0.7349103374436715, 0.1945350893233248, 0.0648450297744416, 0.7713065577967558, 0.9830166000954648, 0.06114053647785231, 0.9362144648171135, 0.9638215539594596, 0.9499041530445193, 0.9419808308737524, 0.060949740153493116, 0.22551403856792454, 0.08532963621489036, 0.4632180251665477, 0.1645642984144314, 0.006094974015349312, 0.8218157250961389, 0.3670732323186466, 0.49817081528959173, 0.1310975829709452, 0.12010826203627277, 0.8287470080502821, 0.03603247861088183, 0.9681390287352923, 0.7506871071849316, 0.101216239171002, 0.134954985561336, 0.04171755392974532, 0.07205759315137829, 0.03034003922163296, 0.6105932893353633, 0.094812622567603, 0.14790769120546068, 0.46196925805971145, 0.5222261178066304, 0.8674057715972977, 0.7652013434819382, 0.31495420220091774, 0.23350052921792178, 0.23350052921792178, 0.2172097946213226, 0.8786139119194518, 0.8786139119194518, 0.9784627869689942, 0.9751300896981872, 0.972502959031928, 0.8117761445303454, 0.1535792705868221, 0.021939895798117445, 0.919468730939377, 0.9556670911453333, 0.9551524390717512, 0.654956493717859, 0.32020095248428665, 0.9314182804459056, 0.04776504002286695, 0.96263766555911, 0.974759760589954, 0.9059152222809482, 0.9853521225257872, 0.9608461638188633, 0.9402750519998763, 0.21239115500956238, 0.22703882087229083, 0.24168648673501925, 0.05126683051954954, 0.13182899276455595, 0.05126683051954954, 0.0732383293136422, 0.9634254045704644, 0.4665915670525512, 0.1551067387092514, 0.8198499046060431, 0.9868430294292666, 0.934557206966817, 0.4549660812938831, 0.8576709721676854, 0.919461385955521, 0.980102900996392, 0.9841267636492829, 0.9842896234823242, 0.7200188398688578, 0.9152795744650841, 0.2691631453527777, 0.23480189275455077, 0.44669628377695025, 0.01718062629911347, 0.02863437716518912, 0.8496120518703175, 0.11013489561281893, 0.015733556516116992, 0.9804125199650408, 0.25450432573949316, 0.12055468061344413, 0.023441187897058582, 0.21431943220167846, 0.026789929025209807, 0.21097069107352723, 0.020092446768907354, 0.11385719835714168, 0.010046223384453677, 0.1572934876419505, 0.7078206943887773, 0.12358774029010397, 0.9515352833604452, 0.9469279966379264, 0.9690956936987926, 0.964954468644399, 0.21047277662240416, 0.7577019958406549, 0.25946045126236883, 0.25946045126236883, 0.2162170427186407, 0.24216308784487758, 0.017297363417491256, 0.9194687305109921, 0.9697742400694509, 0.1990268050513454, 0.10349393862669962, 0.27863752707188355, 0.36620932129447553, 0.0477664332123229, 0.9627427874516963, 0.9661384021410019, 0.5180561019883363, 0.41444488159066906, 0.9225016281963359, 0.2170299500404574, 0.03472479200647318, 0.1562615640291293, 0.381972712071205, 0.20834875203883907, 0.8127843070137651, 0.022577341861493475, 0.03386601279224021, 0.11288670930746739, 0.9213010303270285, 0.9544642683166201, 0.9307717642132587, 0.060702506361734264, 0.9393225726002342, 0.04776216470848649, 0.9479395717243382, 0.9811077047898971, 0.878238921355825, 0.09148322097456511, 0.8085476073550244, 0.18376081985341464, 0.9852437709864804, 0.9475251903655917, 0.8402974384166542, 0.1642717689384218, 0.4106794223460545, 0.3285435378768436, 0.875137674245979, 0.9871421427455188, 0.9611556156953387, 0.9535760218082175, 0.9696742028724856, 0.9666702962198891, 0.8528785830915243, 0.13121208970638837, 0.8814736558373707, 0.03957464962852256, 0.06331943940563609, 0.6173645342049519, 0.2216180379197263, 0.05540450947993158, 0.8674057715972977, 0.8285680927867728, 0.5292376186081329, 0.15364963120881278, 0.10243308747254186, 0.15364963120881278, 0.05121654373627093, 0.9322183610678039, 0.8734389963736227, 0.896711787360556, 0.9721860638189762, 0.9775854484682956, 0.9758235941027299, 0.8646268241696239, 0.9418318349604402, 0.8397617281316737, 0.13519584018355457, 0.7246497033838525, 0.13519584018355457, 0.35046308219218675, 0.6425156506856756, 0.7931771715220187, 0.9430289550180403, 0.8209571602704208, 0.9939541776685067, 0.9892483706638774, 0.6528634229303427, 0.9198517814340396, 0.026281479469543987, 0.026281479469543987, 0.9590436443837257, 0.40244198656182467, 0.40244198656182467, 0.9802074501817766, 0.9704238445398705, 0.98159785890326, 0.9755759735204137, 0.004834672856785899, 0.7324529378030638, 0.03323837589040306, 0.010878013927768273, 0.1535008632029523, 0.01631702089165241, 0.0066476751780806115, 0.0006043341070982374, 0.021151693748438307, 0.020547359641340072, 0.9199420607857024, 0.061329470719046826, 0.3917584201419379, 0.6006962442176381, 0.8660587993512031, 0.12630024157205044, 0.9732693265981418, 0.032594572865597506, 0.22001336684278314, 0.09370939698859282, 0.3626146231297722, 0.19149311558538534, 0.016297286432798753, 0.012222964824599064, 0.06926346733939469, 0.008148643216399376, 0.03753435164037294, 0.2627404614826106, 0.63808397788634, 0.9919433916532122, 0.13874544760852478, 0.8324726856511487, 0.8563717958529039, 0.9044268717925663, 0.4429783569776829, 0.21410620587254672, 0.12551053447701016, 0.21410620587254672, 0.9388969973039154, 0.9720585374152835, 0.01661638525496211, 0.9710438673326303, 0.4652320337611298, 0.09216755780881311, 0.8059302729328774, 0.09859785253966054, 0.8853832034788791, 0.9325306068935834, 0.9605358565994544, 0.051604475769556415, 0.0353083255265386, 0.016296150243017817, 0.6708581850042334, 0.03802435056704157, 0.016296150243017817, 0.016296150243017817, 0.15481342730866926, 0.9350902030518725, 0.2613397211800784, 0.7317512193042195, 0.14994486212690397, 0.16868796989276696, 0.4498345863807119, 0.16868796989276696, 0.03748621553172599, 0.9267772736138546, 0.6577714600725684, 0.3069600147005319, 0.7864288961010006, 0.12098906093861549, 0.35571131922376764, 0.6144104604774169, 0.18017542137258294, 0.49138751283431714, 0.3275916752228781, 0.903984567413604, 0.9832984653639119, 0.9302961370554661, 0.7417541035301793, 0.05934032828241435, 0.19285606691784662, 0.9534542957918691, 0.308432150848761, 0.682956905450828, 0.9110693700691066, 0.020809401111971073, 0.1997702506749223, 0.09572324511506693, 0.6783864762502569, 0.13570560869320378, 0.5563929956421355, 0.2849817782557279, 0.9715563700264589, 0.9655657427741333, 0.6178379108877211, 0.2998331038131588, 0.07268681304561425, 0.7838400968158346, 0.9629619200129133, 0.7147338062183454, 0.2700105490158194, 0.9619858503924096, 0.010670619624830438, 0.14938867474762613, 0.26143018080834574, 0.08002964718622828, 0.46950726349253924, 0.021341239249660877, 0.8626007376410035, 0.7315887912571876, 0.5293806891891195, 0.43927333783778, 0.022526837837834872, 0.9458895551986248, 0.7335490791378255, 0.8078244934509821, 0.9730467674396196, 0.36897360678692614, 0.6037749929240609, 0.11517239735782714, 0.11517239735782714, 0.6622412848075061, 0.05758619867891357, 0.9617470910401357, 0.8993491033895441, 0.09618706988123467, 0.9160141787452817, 0.9700962686003392, 0.9628976047416217, 0.49434368608687346, 0.04943436860868734, 0.20762434815648684, 0.23728496932169926, 0.10954798457909275, 0.876383876632742, 0.7872335825298767, 0.2061802239959201, 0.8967171098045754, 0.9624727495572876, 0.3796891145272978, 0.6030356524845318, 0.23951575522193216, 0.7185472656657965, 0.9797145733773819, 0.9774777716736731, 0.44539089346434296, 0.12878772823065338, 0.15561850494537285, 0.05366155342943891, 0.19854774768892397, 0.010732310685887782, 0.8615054103943768, 0.13360244332319213, 0.20118658337851045, 0.4400956511404916, 0.06287080730578451, 0.2766315521454519, 0.9806045264285946, 0.9782813139212123, 0.8468393936811296, 0.9747967571813938, 0.411160738581228, 0.5835829837927107, 0.9612224350239758, 0.9508214758919135, 0.9713785093746408, 0.8832347759534017, 0.9272004828487096, 0.7065813391746497, 0.2747816319012527, 0.6616978097770578, 0.2205659365923526, 0.48188787092650454, 0.732246033403464, 0.6685254518429508, 0.04952040384021857, 0.13205441024058287, 0.057773804480255, 0.07428060576032786, 0.9422621572828097, 0.8486226602800304, 0.8686569764779434, 0.9309768549225281, 0.9166720097219329, 0.4709827262297557, 0.454161914578693, 0.06728324660425081, 0.9761345957839683, 0.9846533031366917, 0.919461385955521, 0.9393513809791341, 0.9105662435612577, 0.5846701380326844, 0.12528645814986095, 0.2505729162997219, 0.8726270533182355, 0.8360672486902055, 0.9274679971868273, 0.28348266017958174, 0.6929576137723109, 0.9744921010598246, 0.15765065142603973, 0.28902619428107285, 0.5255021714201324, 0.4549660812938831, 0.7894494839847652, 0.18218065015033044, 0.7789811861726673, 0.9202811060631648, 0.9418039006238077, 0.647120752503982, 0.30653088276504414, 0.9632969380730434, 0.8486573322396456, 0.9496139997756501, 0.9614345394693985, 0.07987930389471935, 0.5491702142761956, 0.369441780513077, 0.4954659060077952, 0.0937367930285018, 0.10712776346114491, 0.2812103790855054, 0.7741725900414945, 0.8708885713539506, 0.9849561542080646, 0.2272070973299083, 0.738423066322202, 0.8525960508370307, 0.12179943583386153, 0.169129206226693, 0.12684690467001974, 0.6342345233500988, 0.41756109357008636, 0.9241275783598021, 0.6082565586747859, 0.33177630473170144, 0.025156502526457618, 0.005031300505291524, 0.43772314396036255, 0.23647112374870163, 0.2918154293069084, 0.9227594367311087, 0.6279212042642156, 0.10740757441361583, 0.12393181663109518, 0.06609696886991744, 0.0743590899786571, 0.9130390119868826, 0.10916549097539156, 0.8119183391294748, 0.020468529557885917, 0.05458274548769578, 0.9218095079558493, 0.9226327181301658, 0.04193785082409845, 0.8788581953148753, 0.7350765555948893, 0.2560379013869839, 0.6020166856824521, 0.26529548860582636, 0.12244407166422756, 0.9359116249701913, 0.02924723828031848, 0.9576639023061622, 0.02128142005124805, 0.9700003582626329, 0.9689694145871902, 0.991696444377866, 0.3839358844371836, 0.5759038266557754, 0.04448114326973448, 0.7784200072203534, 0.07784200072203534, 0.01112028581743362, 0.06672171490460171, 0.16463512649192502, 0.7408580692136626, 0.33227989960489496, 0.1424056712592407, 0.4746855708641357, 0.7260894946510242, 0.38177135809146656, 0.5344799013280532, 0.12147013381327708, 0.06430771790114669, 0.30724798552770083, 0.4001369113849127, 0.10003422784622817, 0.4549660812938831, 0.34751607517767086, 0.23167738345178057, 0.07722579448392686, 0.30890317793570743, 0.7187197566331516, 0.2666218452026208, 0.3196742283588877, 0.6639387819761513, 0.23589051585655835, 0.7413701926920405, 0.9397446709797322, 0.32874776374078524, 0.6574955274815705, 0.11653098151421534, 0.8623292632051935, 0.41754461229190976, 0.1518783080178284, 0.8268930103192879, 0.5580854619476883, 0.4267712356070557, 0.8803693084619204, 0.9815055094897805, 0.0890593861540601, 0.19593064953893222, 0.6946632120016688, 0.7411483005288553, 0.7025011423753796, 0.6220755045453099, 0.9193398981946194, 0.931235496938527, 0.042507894034379434, 0.05313486754297429, 0.24442039069768176, 0.13815065561173318, 0.1275236821031383, 0.07438881456016401, 0.3188092052578458, 0.9286285956640182, 0.9486918205731935, 0.9786759219206939, 0.8734280886832353, 0.5967252832396305, 0.3861163597432903, 0.10917094872618816, 0.19104916027082927, 0.2729273718154704, 0.1273661068472195, 0.3002201089970174, 0.9622785237165127, 0.9199567307422926, 0.9785826841203386, 0.7778505997373474, 0.9598201186559937, 0.36512309452820674, 0.5111723323394894, 0.8951348122609318, 0.9899675931348316, 0.8868880749125778, 0.4818938179662291, 0.9388981449373528, 0.9470834373369038, 0.9686561561628891, 0.9573631729689174, 0.9386687664516854, 0.34270523370953854, 0.6231004249264337, 0.9797533794625497, 0.9873413161744458, 0.8785448292470103, 0.2844172132203623, 0.6541595904068332, 0.02844172132203623, 0.8893307943274413, 0.27818797482165913, 0.6954699370541478, 0.9885124621848397, 0.8082444123429358, 0.17781377071544588, 0.06867754317867217, 0.04578502878578144, 0.143078214955567, 0.446404030661369, 0.10873944336623093, 0.18314011514312575, 0.8773745194937077, 0.11444015471657057, 0.9676914669421307, 0.4290815996680266, 0.3274570102729677, 0.11291621043895438, 0.13549945252674525, 0.715206746743642, 0.5053182516562126, 0.4866027608541306, 0.9441188906896611, 0.4396740261115567, 0.17320491937727991, 0.31976292808113216, 0.05329382134685536, 0.9951601223980993, 0.24129336940217094, 0.19564327248824673, 0.19564327248824673, 0.1369502907417727, 0.22825048456962116, 0.8327373607540455, 0.11103164810053939, 0.7656743571231519, 0.17669408241303505, 0.04417352060325876, 0.9156093232930462, 0.9781740433994913, 0.07834582732559678, 0.04218621471378288, 0.3826892334750304, 0.03917291366279839, 0.32844981455730954, 0.03917291366279839, 0.02410640840787593, 0.05423941891772084, 0.015066505254922457, 0.8524978441589292, 0.14373510163144737, 0.951097108521465, 0.14910902336780377, 0.8414009175754641, 0.9843790095332858, 0.9644017579452303, 0.5454439970411968, 0.14225075423601719, 0.6448700858699445, 0.09483383615734478, 0.11380060338881375, 0.9651035063740223, 0.9251788423831219, 0.8989096145452654, 0.9780143970205551, 0.039850472845831236, 0.9484412537307835, 0.513493421444551, 0.4732194276057627, 0.875137674245979, 0.6478366865868107, 0.33984875361931055, 0.8726098829081291, 0.41756109357008636, 0.9594978309975141, 0.9233514855051708, 0.047351358231034396, 0.9731194617297966, 0.8616715273239673, 0.669065318787069, 0.27877721616127876, 0.9289853039091241, 0.1268964311801239, 0.7359993008447187, 0.1268964311801239, 0.5171699335169996, 0.45970660757066634, 0.034057746718054865, 0.9536169081055363, 0.2810256359966565, 0.11241025439866259, 0.10116922895879633, 0.30350768687638896, 0.20233845791759267, 0.9866560236809165, 0.9078617836386405, 0.010905067890520027, 0.39258244405872095, 0.15267095046728035, 0.34896217249664085, 0.05452533945260013, 0.03816773761682009, 0.9028616524892957, 0.9655461555081769, 0.03041090253569061, 0.919468729654222, 0.919468730939377, 0.6950180635974254, 0.02086224707323502, 0.14603572951264512, 0.24339288252107522, 0.15994389422813513, 0.09040307065068508, 0.3337959531717603, 0.3149013741205227, 0.6747886588296916, 0.8539445082391328, 0.03814943345767409, 0.10173182255379758, 0.40056905130557796, 0.4514349625824768, 0.9194687305109921, 0.7260894946510242, 0.20776377620388745, 0.5576817150735925, 0.04373974235871314, 0.19682884061420916, 0.7537819575239065, 0.9486364220087226, 0.3520592128072871, 0.6275838141347292, 0.9878906818218177, 0.9689442862157572, 0.959119363238447, 0.9027470040950553, 0.9728976869240608, 0.9815499045608183, 0.5926605584250987, 0.30827618870085405, 0.06987593610552692, 0.04110349182678054, 0.4973522511040445, 0.07809663447088303, 0.8567843151006718, 0.283986418908434, 0.6389694425439766, 0.0709966047271085, 0.19669858910760069, 0.7867943564304027, 0.06877931430569056, 0.029476848988153097, 0.6779675267275213, 0.22107636741114822, 0.7165471674450518, 0.2542586723192119, 0.09698142412720141, 0.09698142412720141, 0.05818885447632085, 0.2812461299688841, 0.05818885447632085, 0.40732198133424596, 0.41874509757244416, 0.511799563699654, 0.05583267967632589, 0.9747955247245851, 0.7767752537311247, 0.166451840085241, 0.9168209390560671, 0.9682232836963716, 0.9177482727818713, 0.07059602098322088, 0.8795520047341283, 0.15500156666471412, 0.030244208129700318, 0.7485441512100829, 0.026463682113487777, 0.0378052601621254, 0.9268009426696036, 0.9380669392021608, 0.05360382509726633, 0.8064294239853859, 0.2941019872074996, 0.6984922196178115, 0.8364509357832104, 0.9837869698738584, 0.1472419202928714, 0.1690555381140375, 0.05453404455291533, 0.3162974584069089, 0.2126827737563698, 0.08725447128466453, 0.9417391967718642, 0.4128622440086316, 0.16514489760345263, 0.4128622440086316], \"Term\": [\"accept\", \"accept\", \"accept\", \"accept\", \"access\", \"access\", \"access\", \"account\", \"accurate\", \"action\", \"active\", \"activity\", \"activity\", \"actual\", \"add\", \"add\", \"add\", \"add\", \"addition\", \"addition\", \"address_book\", \"adjustment\", \"admin\", \"aeco\", \"afternoon\", \"afternoon\", \"agreement\", \"agreement\", \"alan_comne\", \"allan_severude\", \"allen\", \"allen\", \"allen\", \"allen\", \"allen\", \"allen\", \"allen\", \"allen\", \"alliance\", \"already\", \"also\", \"also\", \"also\", \"also\", \"also\", \"also\", \"also\", \"also\", \"american\", \"amortization\", \"amount\", \"amount\", \"amount\", \"analysis\", \"analysis\", \"analyst\", \"anyone_else\", \"anytime\", \"apartment\", \"apartment\", \"appear\", \"application\", \"application\", \"appraisal\", \"appreciate\", \"approval\", \"approve\", \"approve\", \"area\", \"area\", \"ask\", \"ask\", \"assessment\", \"assessment\", \"associate\", \"assure\", \"attach\", \"attach\", \"attach\", \"attachment\", \"attempt\", \"attend\", \"attend\", \"attendance\", \"attorney\", \"atty\", \"aug\", \"austin\", \"austin\", \"austin\", \"available\", \"available\", \"average\", \"average\", \"aware\", \"back\", \"back\", \"back\", \"back\", \"back\", \"barney\", \"basic\", \"basis\", \"basis\", \"bath\", \"begin\", \"begin\", \"believe\", \"believe\", \"believe\", \"benchmark\", \"benchmark\", \"bid\", \"bid\", \"bid\", \"bidweek\", \"bike\", \"bill\", \"bill\", \"bind\", \"bob\", \"bond\", \"book\", \"book\", \"book\", \"book\", \"box\", \"box\", \"brad\", \"brandon\", \"breakout\", \"brief\", \"briefing\", \"bring\", \"bring\", \"broker\", \"brokerage\", \"bruce\", \"build\", \"builder\", \"builder\", \"builder\", \"building\", \"building\", \"building\", \"building\", \"building\", \"burchfield\", \"burnet\", \"business\", \"business\", \"business\", \"business\", \"buy\", \"buy\", \"buy\", \"buys_vs\", \"calculation\", \"calculation\", \"calendar\", \"calendar\", \"calendar\", \"california\", \"california\", \"call\", \"call\", \"call\", \"call\", \"call\", \"cancel\", \"capacity\", \"capacity\", \"capital\", \"case\", \"case\", \"case\", \"cash\", \"cash\", \"cash\", \"cause\", \"cdt\", \"cell_phone\", \"cent\", \"center\", \"central\", \"chairperson_richard\", \"change\", \"change\", \"charge\", \"cheap\", \"check\", \"check\", \"chris\", \"chris\", \"christi\", \"cindy_cicchetti\", \"clark\", \"clear\", \"clearly\", \"click\", \"click\", \"click\", \"client\", \"client\", \"close\", \"close\", \"close\", \"close\", \"closing\", \"closing\", \"closing\", \"co\", \"colleague\", \"college\", \"column\", \"combine\", \"come\", \"come\", \"come\", \"commercial\", \"commercial\", \"commission\", \"commission\", \"commodity\", \"communication\", \"communication\", \"company\", \"company\", \"company\", \"company\", \"compare\", \"compare\", \"complain\", \"complete\", \"complete\", \"complete\", \"complete\", \"complete\", \"completion\", \"concerned\", \"confirmation\", \"confirmation_chairperson\", \"construction\", \"construction\", \"construction\", \"contact\", \"contact\", \"contact\", \"continue\", \"contract\", \"contract\", \"contract\", \"contractor\", \"conversation\", \"cooper\", \"copy\", \"corp\", \"correlation\", \"correlation\", \"cost\", \"cost\", \"cost\", \"counterparty\", \"course\", \"cover\", \"cpa\", \"credit\", \"credit\", \"currently\", \"currently\", \"currently\", \"customer\", \"customer\", \"d\", \"d\", \"daily\", \"daily\", \"daily\", \"danny\", \"data\", \"date\", \"date\", \"date\", \"date\", \"date\", \"date\", \"date_occur\", \"datum\", \"datum\", \"datum\", \"datum\", \"datum\", \"dave\", \"david\", \"david\", \"davis\", \"day\", \"day\", \"day\", \"day\", \"day\", \"day\", \"day\", \"day\", \"deal\", \"deal\", \"deal\", \"deal\", \"deal\", \"deal\", \"debt\", \"delete\", \"deliver\", \"delivery\", \"delivery\", \"demand\", \"demographic\", \"denni\", \"denver\", \"denver\", \"deposit\", \"deposit\", \"deposit\", \"description\", \"description\", \"design\", \"design\", \"design\", \"designate\", \"desk\", \"desktop\", \"detail\", \"detail\", \"detail\", \"detail\", \"development\", \"development\", \"development\", \"diff\", \"differently\", \"director\", \"distinguish\", \"distribution_group\", \"do\", \"doe\", \"download\", \"draft\", \"draft\", \"drop\", \"due\", \"due\", \"due\", \"due\", \"duplex\", \"early\", \"early\", \"easement\", \"east\", \"eb\", \"ee\", \"effect\", \"el_paso\", \"electric\", \"electricity\", \"else\", \"else\", \"email\", \"email\", \"email\", \"email\", \"email\", \"emergency\", \"enclose\", \"end\", \"end\", \"end\", \"energy\", \"energy\", \"engineer\", \"engineering\", \"enormous\", \"enough\", \"enough\", \"enough\", \"enough\", \"enough\", \"enron\", \"enron\", \"enron\", \"enron\", \"enron\", \"enrononline\", \"enronxgate\", \"eog\", \"eol\", \"epexwx\", \"equipment\", \"equity\", \"equity\", \"establish\", \"estimate\", \"estimate\", \"estimate\", \"estimate\", \"even\", \"even\", \"evening\", \"evening\", \"event\", \"ever\", \"evh\", \"exact\", \"exact\", \"exact\", \"example\", \"example\", \"excel\", \"exclusive\", \"execute\", \"exercise\", \"exist\", \"exodus\", \"expect\", \"expect\", \"expect\", \"expect\", \"expense\", \"expense\", \"experience\", \"experience\", \"experience\", \"experience\", \"extension\", \"extension_office\", \"facility\", \"fact\", \"fall\", \"fall\", \"favorite\", \"fax\", \"fax\", \"feature\", \"fee\", \"feedback\", \"feedback\", \"file\", \"file\", \"fill\", \"filtration_pond\", \"financial\", \"financial\", \"financing\", \"financing\", \"find\", \"find\", \"find\", \"find\", \"fine\", \"finish\", \"finish\", \"first\", \"first\", \"first\", \"first\", \"first\", \"first\", \"fixed_price\", \"fixed_price\", \"fletch\", \"floor\", \"floor\", \"follow\", \"follow\", \"follow\", \"follow\", \"follow\", \"follow\", \"foot\", \"forecast\", \"format\", \"forward\", \"forward\", \"forward\", \"forward\", \"forward\", \"forward\", \"forward\", \"forward\", \"forwarded\", \"forwarded\", \"friday\", \"friday\", \"friend\", \"front\", \"front\", \"fsd\", \"fsddatasvc\", \"full\", \"full\", \"fund\", \"future\", \"future\", \"future\", \"fx\", \"fyi\", \"game\", \"game\", \"gas\", \"gas\", \"gas\", \"gas\", \"gas\", \"gas\", \"gather\", \"general\", \"generation\", \"generation\", \"george\", \"george\", \"george_richard\", \"george_richard\", \"get\", \"get\", \"get\", \"get\", \"get\", \"get\", \"get\", \"give\", \"give\", \"give\", \"give\", \"glad\", \"glad\", \"glad\", \"go\", \"go\", \"go\", \"go\", \"go\", \"go_ahead\", \"goal\", \"good\", \"good\", \"good\", \"good\", \"good\", \"good\", \"good\", \"great\", \"great\", \"greg\", \"group\", \"group\", \"group\", \"guess\", \"guest\", \"half\", \"hand\", \"happen\", \"headcount\", \"hear\", \"help\", \"help\", \"help\", \"high\", \"high\", \"high\", \"high\", \"high\", \"high\", \"higher\", \"highlight\", \"hold\", \"hold\", \"hold\", \"home\", \"home\", \"hope\", \"hotmail\", \"hour\", \"hour\", \"hour\", \"house\", \"housing\", \"hr\", \"hubert\", \"hunter_shively\", \"hunter_shively\", \"i\", \"idea\", \"idea\", \"idea\", \"immediate\", \"important\", \"improve\", \"improve\", \"improvement\", \"improvement\", \"ina_rangel\", \"inc\", \"include\", \"include\", \"indece\", \"index\", \"indice\", \"individual\", \"industry\", \"information\", \"information\", \"information\", \"input\", \"input\", \"input\", \"install\", \"instruction\", \"instruction\", \"interest\", \"interest\", \"internet\", \"internet\", \"internet\", \"introduce\", \"invest\", \"investigate\", \"investment\", \"investment\", \"investor\", \"investor\", \"invitation\", \"invite\", \"issue\", \"issue\", \"item\", \"jame\", \"jeff\", \"jeff\", \"jeff\", \"joe_hartsoe\", \"john\", \"john\", \"john_arnold\", \"john_lavorato\", \"johnson\", \"jones\", \"july\", \"june\", \"kathy\", \"keep\", \"keep\", \"kid\", \"kind\", \"kipp_flore\", \"know\", \"know\", \"know\", \"know\", \"know\", \"know\", \"know\", \"know\", \"labor\", \"land\", \"land\", \"language\", \"last\", \"last\", \"last\", \"last\", \"last\", \"last\", \"late\", \"later\", \"laura\", \"layout\", \"layout\", \"learn\", \"lease\", \"lease\", \"lease\", \"leave\", \"leave\", \"lehman\", \"let\", \"let\", \"let\", \"let\", \"let\", \"lie\", \"light\", \"like\", \"like\", \"like\", \"likely\", \"likely\", \"line\", \"line\", \"line\", \"link\", \"list\", \"list\", \"list\", \"list\", \"list\", \"list\", \"list\", \"list\", \"list\", \"little\", \"little\", \"load\", \"loan\", \"loan\", \"location\", \"location\", \"location_eb\", \"location_eb\", \"log\", \"login_id\", \"long\", \"long\", \"long\", \"long\", \"look\", \"look\", \"look\", \"look\", \"look\", \"los_angele\", \"lot\", \"lot\", \"lot\", \"lot\", \"lotus\", \"love\", \"low\", \"low\", \"low\", \"luck\", \"lucy\", \"mail\", \"mail\", \"mailbox\", \"mailto\", \"main\", \"make\", \"make\", \"make\", \"make\", \"make\", \"make\", \"make_sense\", \"management\", \"management\", \"management\", \"manager\", \"manager\", \"manager\", \"map\", \"mark\", \"mark\", \"mark\", \"market\", \"market\", \"market\", \"market\", \"market\", \"market\", \"mary\", \"mary\", \"mass_mailing\", \"medium\", \"meeting\", \"meeting\", \"meeting\", \"meeting\", \"meeting_date\", \"meeting_repeat\", \"megawatt\", \"member\", \"mention\", \"message\", \"message\", \"message\", \"messaging_maintain\", \"mgusa\", \"mid\", \"mike\", \"mike\", \"mike_grigsby\", \"mike_grigsby\", \"mile\", \"miller\", \"mind\", \"model\", \"monica\", \"monitor\", \"month\", \"month\", \"month\", \"month\", \"month\", \"month\", \"month\", \"moore\", \"moratorium\", \"morning\", \"morning\", \"move\", \"msn\", \"mtg\", \"multifamily\", \"murphy\", \"music\", \"mw\", \"natural\", \"nd\", \"near\", \"need\", \"need\", \"need\", \"need\", \"need\", \"net\", \"net\", \"net\", \"network\", \"new\", \"new\", \"new\", \"new\", \"new\", \"new\", \"new\", \"new\", \"new\", \"next\", \"next\", \"next\", \"night\", \"noon\", \"normal\", \"north\", \"northwest\", \"northwest\", \"note\", \"note\", \"note\", \"note\", \"note\", \"notes_database\", \"notice\", \"number\", \"number\", \"number\", \"number\", \"number\", \"nwpl\", \"nyc_mgusa\", \"nymex\", \"nymex\", \"oct\", \"offer\", \"offer\", \"offer\", \"offer\", \"offer\", \"office\", \"office\", \"office\", \"office\", \"offline\", \"oil\", \"online\", \"online\", \"open\", \"open\", \"operate\", \"opportunity\", \"option\", \"option\", \"order\", \"order\", \"original\", \"original_message\", \"origination\", \"otherwise\", \"otherwise\", \"otherwise\", \"outlier\", \"outlook\", \"outlook_migration\", \"owa\", \"own\", \"package\", \"page\", \"page\", \"paine\", \"pallen\", \"pallen\", \"pallen\", \"pallen\", \"pallen\", \"palm_pilot\", \"parcel\", \"part\", \"part\", \"part\", \"part\", \"part\", \"participant\", \"participation\", \"partner\", \"partnership\", \"pass\", \"password\", \"past\", \"patti\", \"paula\", \"pay\", \"pay\", \"pay\", \"payment\", \"payment\", \"payout\", \"pda\", \"pdf\", \"pdx\", \"peak\", \"peer\", \"people\", \"people\", \"people\", \"per_lot\", \"perceive\", \"perceive\", \"percent\", \"permission\", \"person\", \"phase\", \"phillip\", \"phillip\", \"phillip\", \"phillip\", \"phillip\", \"phillip\", \"phillip\", \"phillip\", \"phillip\", \"phillip\", \"phone\", \"phone\", \"physical\", \"physical\", \"pipeline\", \"pipeline\", \"place\", \"plan\", \"plan\", \"plan\", \"plan\", \"plan\", \"plan\", \"plan\", \"plan\", \"plan\", \"planning\", \"planning\", \"planning\", \"plant\", \"play\", \"play\", \"please\", \"pocket\", \"point\", \"point\", \"point\", \"point\", \"portion\", \"position\", \"position\", \"position_manag\", \"posting\", \"power\", \"power\", \"power\", \"practice\", \"preferred\", \"present\", \"price\", \"price\", \"price\", \"price\", \"price\", \"price\", \"price\", \"price\", \"price_cap\", \"print\", \"print\", \"prior\", \"prior\", \"prior\", \"prior\", \"prior\", \"private_free\", \"problem\", \"problem\", \"proceed\", \"proceed\", \"process\", \"process\", \"product\", \"product\", \"product\", \"production\", \"professional\", \"profile\", \"profit\", \"profit\", \"profit\", \"proforma\", \"program\", \"program\", \"progress\", \"project\", \"project\", \"project\", \"project\", \"property\", \"property\", \"property\", \"proposal\", \"protect\", \"provide\", \"provide\", \"provide\", \"psf\", \"public\", \"purchase\", \"purchase\", \"quality\", \"question\", \"question\", \"question\", \"question\", \"question\", \"question\", \"rain\", \"randy\", \"rate\", \"rate\", \"rate\", \"rather\", \"ray\", \"rd\", \"real\", \"realize\", \"realize\", \"reason\", \"reason\", \"reason\", \"reason\", \"receipt\", \"receive\", \"receive\", \"record\", \"reference\", \"reflect\", \"regard\", \"regard\", \"regard\", \"regard\", \"region\", \"region\", \"release\", \"release\", \"reliable\", \"remember\", \"rent\", \"rent\", \"rental\", \"rental\", \"rentroll\", \"reply\", \"report\", \"report\", \"report\", \"report\", \"report\", \"report\", \"request\", \"request\", \"require\", \"require\", \"require\", \"require\", \"research\", \"reserve\", \"resolve\", \"resource\", \"response\", \"response\", \"responsible\", \"result\", \"resume\", \"retail\", \"retention\", \"return\", \"return\", \"retwell_mail\", \"retwell_mail\", \"reuter\", \"reveal\", \"review\", \"review\", \"review\", \"review\", \"review\", \"revise\", \"reward\", \"richard_burchfield\", \"richardson\", \"ride\", \"right\", \"right\", \"right\", \"rise\", \"risk\", \"rita\", \"rockie\", \"roll\", \"room\", \"room\", \"room\", \"room_eb\", \"roughly\", \"round\", \"rr\", \"rr\", \"rule\", \"run\", \"run\", \"run\", \"russ_severson\", \"sagewood\", \"sagewood\", \"salary\", \"san_antonio\", \"san_diego\", \"san_juan\", \"san_juan\", \"san_marco\", \"san_marcos\", \"sanmarcos_net\", \"save\", \"say\", \"say\", \"say\", \"schedule\", \"schedule\", \"schedule\", \"schedule\", \"scheduling\", \"school\", \"scott\", \"scott_mill\", \"scott_mill\", \"scott_neal\", \"scott_neal\", \"screen\", \"screen\", \"screen\", \"scrub\", \"seasonal\", \"security\", \"security\", \"see\", \"see\", \"see\", \"see\", \"see\", \"select\", \"sell\", \"sell\", \"sell\", \"sell\", \"sell\", \"sempra\", \"send\", \"send\", \"send\", \"send\", \"sensitive\", \"september\", \"september\", \"serious\", \"service\", \"service\", \"set\", \"set\", \"set\", \"several\", \"several\", \"sf\", \"sf\", \"shared_calendar\", \"sheet\", \"shockwave\", \"short\", \"short\", \"show\", \"show\", \"show\", \"show\", \"show\", \"shut\", \"shut\", \"side\", \"side\", \"side\", \"signature\", \"simply\", \"simply\", \"site\", \"site\", \"site\", \"site\", \"site\", \"slot\", \"small\", \"small\", \"small\", \"small\", \"smith\", \"smith\", \"socal\", \"socal\", \"soon\", \"soon\", \"sound\", \"south\", \"south\", \"space\", \"space\", \"sparse\", \"speak\", \"speak\", \"spec\", \"spec\", \"specific\", \"spend\", \"spread\", \"spread\", \"spread\", \"spreadsheet_detailing\", \"sq\", \"square_foot\", \"stage\", \"stagecoachmama_hotmail\", \"start\", \"start\", \"start\", \"start\", \"start\", \"start\", \"start\", \"station\", \"status\", \"stay\", \"step\", \"steve\", \"steve\", \"still\", \"still\", \"still\", \"still\", \"still\", \"stock\", \"stop\", \"storage\", \"store\", \"strategy\", \"street\", \"street\", \"street_widene\", \"structure\", \"student\", \"studio\", \"study\", \"style\", \"sub\", \"suggest\", \"suggestion\", \"summary\", \"summary\", \"summer\", \"supply\", \"surprised\", \"survey\", \"survey\", \"survey\", \"suzanne\", \"swap\", \"swap\", \"system\", \"table\", \"table\", \"take\", \"take\", \"take\", \"take\", \"take\", \"take\", \"talk\", \"talk\", \"task\", \"team\", \"team\", \"team\", \"team\", \"technical\", \"tell\", \"tell\", \"tenant\", \"term\", \"term\", \"term\", \"term\", \"thank\", \"think\", \"think\", \"think\", \"think\", \"think\", \"thought\", \"thought\", \"thursday\", \"thursday\", \"thursday\", \"tim\", \"tim_belden\", \"time\", \"time\", \"time\", \"time\", \"time\", \"time\", \"time\", \"time\", \"time\", \"today\", \"today\", \"together\", \"tomorrow\", \"tomorrow\", \"top\", \"topic\", \"toss\", \"total\", \"total\", \"total\", \"total\", \"touch\", \"town\", \"town_home\", \"track\", \"trade\", \"trade\", \"trader\", \"trader\", \"trades_submitte\", \"trading\", \"trading\", \"trading_vision\", \"trailblazer\", \"transfer\", \"transport\", \"transport\", \"transportation\", \"treat\", \"trim\", \"trim\", \"trip\", \"try\", \"try\", \"try\", \"tuesday\", \"tuesday\", \"turn\", \"turn\", \"type\", \"type\", \"type\", \"type\", \"type\", \"understand\", \"unique\", \"unit\", \"unit\", \"unit\", \"unit\", \"unit\", \"unit\", \"university\", \"update\", \"update\", \"updating\", \"updating_anyone\", \"usage\", \"use\", \"use\", \"use\", \"use\", \"use\", \"use\", \"user\", \"user\", \"usually\", \"utility\", \"utility\", \"utility\", \"utility\", \"vacation_leave\", \"vague\", \"value\", \"value\", \"value\", \"value\", \"var\", \"vendor\", \"view\", \"view\", \"visit\", \"volume\", \"vote\", \"vs_actual\", \"wade\", \"wait\", \"walmart\", \"want\", \"want\", \"want\", \"want\", \"want\", \"ward\", \"way\", \"way\", \"way\", \"web\", \"web\", \"week\", \"week\", \"week\", \"week\", \"weekend\", \"weekend\", \"well\", \"well\", \"well\", \"well\", \"well\", \"well\", \"west\", \"west\", \"west\", \"western\", \"westgate\", \"westgate\", \"wide\", \"willing\", \"window\", \"window\", \"winmail_dat\", \"work\", \"work\", \"work\", \"work\", \"work\", \"working\", \"write\", \"write\", \"wrong\", \"www\", \"www\", \"xls_enclose\", \"yahoo\", \"year\", \"year\", \"year\", \"year\", \"year\", \"year\", \"yellow\", \"yesterday\", \"yesterday\", \"yesterday\"]}, \"R\": 30, \"lambda.step\": 0.01, \"plot.opts\": {\"xlab\": \"PC1\", \"ylab\": \"PC2\"}, \"topic.order\": [19, 12, 2, 15, 14, 1, 6, 3, 5, 10, 4, 18, 11, 20, 7, 9, 17, 8, 16, 13]};\n",
       "\n",
       "function LDAvis_load_lib(url, callback){\n",
       "  var s = document.createElement('script');\n",
       "  s.src = url;\n",
       "  s.async = true;\n",
       "  s.onreadystatechange = s.onload = callback;\n",
       "  s.onerror = function(){console.warn(\"failed to load library \" + url);};\n",
       "  document.getElementsByTagName(\"head\")[0].appendChild(s);\n",
       "}\n",
       "\n",
       "if(typeof(LDAvis) !== \"undefined\"){\n",
       "   // already loaded: just create the visualization\n",
       "   !function(LDAvis){\n",
       "       new LDAvis(\"#\" + \"ldavis_el6709649215160961085889673\", ldavis_el6709649215160961085889673_data);\n",
       "   }(LDAvis);\n",
       "}else if(typeof define === \"function\" && define.amd){\n",
       "   // require.js is available: use it to load d3/LDAvis\n",
       "   require.config({paths: {d3: \"https://d3js.org/d3.v5\"}});\n",
       "   require([\"d3\"], function(d3){\n",
       "      window.d3 = d3;\n",
       "      LDAvis_load_lib(\"https://cdn.jsdelivr.net/gh/bmabey/pyLDAvis/pyLDAvis/js/ldavis.v3.0.0.js\", function(){\n",
       "        new LDAvis(\"#\" + \"ldavis_el6709649215160961085889673\", ldavis_el6709649215160961085889673_data);\n",
       "      });\n",
       "    });\n",
       "}else{\n",
       "    // require.js not available: dynamically load d3 & LDAvis\n",
       "    LDAvis_load_lib(\"https://d3js.org/d3.v5.js\", function(){\n",
       "         LDAvis_load_lib(\"https://cdn.jsdelivr.net/gh/bmabey/pyLDAvis/pyLDAvis/js/ldavis.v3.0.0.js\", function(){\n",
       "                 new LDAvis(\"#\" + \"ldavis_el6709649215160961085889673\", ldavis_el6709649215160961085889673_data);\n",
       "            })\n",
       "         });\n",
       "}\n",
       "</script>"
      ],
      "text/plain": [
       "<IPython.core.display.HTML object>"
      ]
     },
     "execution_count": 18,
     "metadata": {},
     "output_type": "execute_result"
    }
   ],
   "source": [
    "pyLDAvis.enable_notebook(sort=True)\n",
    "vis = pyLDAvis.gensim.prepare(lda_model, corpus, id2word)\n",
    "pyLDAvis.display(vis)"
   ]
  },
  {
   "cell_type": "markdown",
   "metadata": {},
   "source": [
    "#### Insights\n",
    "As we can see from the visualiation above, there are 20 topics proposed by the LDA model. As an overall result, words such as \"enron\", \"Power\", \"Gas\", \"loan\", \"energy\" are frenquently seen in those emails which make senses because enron was an American energy, commodities and service company. Words such as \"loan\", \"buy\", \"market\", \"trade\" are frequently seen so we could infer that those emails were sent from trade desk/covers conversations with trade desk. Name of \"Pillip Allen\" is also on top list which alligns with findings in network analysis -- he is the center of these conversations. "
   ]
  },
  {
   "cell_type": "markdown",
   "metadata": {},
   "source": [
    "### 5. Prediction: Use LDA model to segment topics across all documents"
   ]
  },
  {
   "cell_type": "code",
   "execution_count": 19,
   "metadata": {},
   "outputs": [],
   "source": [
    "def Segment_email_topics(ldamodel=lda_model, corpus=corpus, texts=content_data):\n",
    "    # Init output\n",
    "    sent_topics_df = pd.DataFrame()\n",
    "\n",
    "    # Get main topic in each document\n",
    "    for i, row in enumerate(ldamodel[corpus]):\n",
    "        row = sorted(row[0], key=lambda x: (x[1]), reverse=True)\n",
    "        # Get the Dominant topic, Percentage of Contribution and Keywords for each document\n",
    "        for j, (topic_num, prop_topic) in enumerate(row):\n",
    "            if j == 0:\n",
    "                wp = ldamodel.show_topic(topic_num)\n",
    "                topic_keywords = \", \".join([word for word, prop in wp])\n",
    "                sent_topics_df = sent_topics_df.append(pd.Series([int(topic_num), round(prop_topic,4), topic_keywords]), ignore_index=True)\n",
    "            else:\n",
    "                break\n",
    "    sent_topics_df.columns = ['Dominant_Topic', 'Perc_Contribution', 'Topic_Keywords']\n",
    "\n",
    "    # Add original text to the end of the output\n",
    "    contents = pd.Series(texts)\n",
    "    sent_topics_df = pd.concat([sent_topics_df, contents], axis=1)\n",
    "    return(sent_topics_df)"
   ]
  },
  {
   "cell_type": "code",
   "execution_count": 20,
   "metadata": {},
   "outputs": [],
   "source": [
    "df_email_topics = Segment_email_topics(ldamodel=lda_model, corpus=corpus, texts=content_data)\n",
    "df_email_dominant_topics = df_email_topics.reset_index()\n",
    "df_email_dominant_topics.columns = ['Document_No', 'Dominant_Topic', 'Topic_Likelihood', 'Keywords_for_Predicted_Topic', 'Email_Content']"
   ]
  },
  {
   "cell_type": "code",
   "execution_count": 21,
   "metadata": {},
   "outputs": [
    {
     "data": {
      "text/html": [
       "<div>\n",
       "<style scoped>\n",
       "    .dataframe tbody tr th:only-of-type {\n",
       "        vertical-align: middle;\n",
       "    }\n",
       "\n",
       "    .dataframe tbody tr th {\n",
       "        vertical-align: top;\n",
       "    }\n",
       "\n",
       "    .dataframe thead th {\n",
       "        text-align: right;\n",
       "    }\n",
       "</style>\n",
       "<table border=\"1\" class=\"dataframe\">\n",
       "  <thead>\n",
       "    <tr style=\"text-align: right;\">\n",
       "      <th></th>\n",
       "      <th>Document_No</th>\n",
       "      <th>Dominant_Topic</th>\n",
       "      <th>Topic_Likelihood</th>\n",
       "      <th>Keywords_for_Predicted_Topic</th>\n",
       "      <th>Email_Content</th>\n",
       "    </tr>\n",
       "  </thead>\n",
       "  <tbody>\n",
       "    <tr>\n",
       "      <th>0</th>\n",
       "      <td>0</td>\n",
       "      <td>11.0</td>\n",
       "      <td>0.4005</td>\n",
       "      <td>phillip, allen, forward, enron, mail, pdx, req...</td>\n",
       "      <td>Here is our forecast</td>\n",
       "    </tr>\n",
       "    <tr>\n",
       "      <th>1</th>\n",
       "      <td>1</td>\n",
       "      <td>5.0</td>\n",
       "      <td>0.9429</td>\n",
       "      <td>plant, line, plan, fall, take, company, house,...</td>\n",
       "      <td>Traveling to have a business meeting takes the...</td>\n",
       "    </tr>\n",
       "    <tr>\n",
       "      <th>2</th>\n",
       "      <td>2</td>\n",
       "      <td>1.0</td>\n",
       "      <td>0.5022</td>\n",
       "      <td>change, let, issue, time, list, position, desk...</td>\n",
       "      <td>test successful.  way to go!!!</td>\n",
       "    </tr>\n",
       "    <tr>\n",
       "      <th>3</th>\n",
       "      <td>3</td>\n",
       "      <td>7.0</td>\n",
       "      <td>0.3724</td>\n",
       "      <td>basis, kid, map, bruce, stop, print, patti, nw...</td>\n",
       "      <td>Randy,  Can you send me a schedule of the sala...</td>\n",
       "    </tr>\n",
       "    <tr>\n",
       "      <th>4</th>\n",
       "      <td>4</td>\n",
       "      <td>1.0</td>\n",
       "      <td>0.2554</td>\n",
       "      <td>change, let, issue, time, list, position, desk...</td>\n",
       "      <td>Let's shoot for Tuesday at 11:45.</td>\n",
       "    </tr>\n",
       "    <tr>\n",
       "      <th>5</th>\n",
       "      <td>5</td>\n",
       "      <td>11.0</td>\n",
       "      <td>0.3470</td>\n",
       "      <td>phillip, allen, forward, enron, mail, pdx, req...</td>\n",
       "      <td>Greg,  How about either next Tuesday or Thursd...</td>\n",
       "    </tr>\n",
       "    <tr>\n",
       "      <th>6</th>\n",
       "      <td>6</td>\n",
       "      <td>11.0</td>\n",
       "      <td>0.4316</td>\n",
       "      <td>phillip, allen, forward, enron, mail, pdx, req...</td>\n",
       "      <td>Please cc the following distribution list with...</td>\n",
       "    </tr>\n",
       "    <tr>\n",
       "      <th>7</th>\n",
       "      <td>7</td>\n",
       "      <td>17.0</td>\n",
       "      <td>0.2442</td>\n",
       "      <td>morning, full, normal, phillip, else, permissi...</td>\n",
       "      <td>any morning between 10 and 11:30</td>\n",
       "    </tr>\n",
       "    <tr>\n",
       "      <th>8</th>\n",
       "      <td>8</td>\n",
       "      <td>11.0</td>\n",
       "      <td>0.7265</td>\n",
       "      <td>phillip, allen, forward, enron, mail, pdx, req...</td>\n",
       "      <td>1. login:  pallen pw: ke9davis  I don't think ...</td>\n",
       "    </tr>\n",
       "    <tr>\n",
       "      <th>9</th>\n",
       "      <td>9</td>\n",
       "      <td>0.0</td>\n",
       "      <td>0.5480</td>\n",
       "      <td>power, price, energy, market, gas, california,...</td>\n",
       "      <td>---------------------- Forwarded by Phillip K ...</td>\n",
       "    </tr>\n",
       "  </tbody>\n",
       "</table>\n",
       "</div>"
      ],
      "text/plain": [
       "   Document_No  Dominant_Topic  Topic_Likelihood  \\\n",
       "0            0            11.0            0.4005   \n",
       "1            1             5.0            0.9429   \n",
       "2            2             1.0            0.5022   \n",
       "3            3             7.0            0.3724   \n",
       "4            4             1.0            0.2554   \n",
       "5            5            11.0            0.3470   \n",
       "6            6            11.0            0.4316   \n",
       "7            7            17.0            0.2442   \n",
       "8            8            11.0            0.7265   \n",
       "9            9             0.0            0.5480   \n",
       "\n",
       "                        Keywords_for_Predicted_Topic  \\\n",
       "0  phillip, allen, forward, enron, mail, pdx, req...   \n",
       "1  plant, line, plan, fall, take, company, house,...   \n",
       "2  change, let, issue, time, list, position, desk...   \n",
       "3  basis, kid, map, bruce, stop, print, patti, nw...   \n",
       "4  change, let, issue, time, list, position, desk...   \n",
       "5  phillip, allen, forward, enron, mail, pdx, req...   \n",
       "6  phillip, allen, forward, enron, mail, pdx, req...   \n",
       "7  morning, full, normal, phillip, else, permissi...   \n",
       "8  phillip, allen, forward, enron, mail, pdx, req...   \n",
       "9  power, price, energy, market, gas, california,...   \n",
       "\n",
       "                                       Email_Content  \n",
       "0                             Here is our forecast    \n",
       "1  Traveling to have a business meeting takes the...  \n",
       "2                     test successful.  way to go!!!  \n",
       "3  Randy,  Can you send me a schedule of the sala...  \n",
       "4                Let's shoot for Tuesday at 11:45.    \n",
       "5  Greg,  How about either next Tuesday or Thursd...  \n",
       "6  Please cc the following distribution list with...  \n",
       "7                   any morning between 10 and 11:30  \n",
       "8  1. login:  pallen pw: ke9davis  I don't think ...  \n",
       "9  ---------------------- Forwarded by Phillip K ...  "
      ]
     },
     "execution_count": 21,
     "metadata": {},
     "output_type": "execute_result"
    }
   ],
   "source": [
    "df_email_dominant_topics.head(10)"
   ]
  },
  {
   "cell_type": "markdown",
   "metadata": {},
   "source": [
    "### 6. Some Further Insights: Find the Most Representative Email Content for Each Topic"
   ]
  },
  {
   "cell_type": "code",
   "execution_count": 39,
   "metadata": {},
   "outputs": [],
   "source": [
    "# Get most representative document under each topic\n",
    "df_topic_top_email = pd.DataFrame()\n",
    "email_by_topic_grp = df_email_topics.groupby('Dominant_Topic')\n",
    "\n",
    "for i, grp in email_by_topic_grp:\n",
    "    df_topic_top_email = pd.concat([df_topic_top_email, \n",
    "                                    grp.sort_values(['Perc_Contribution'], ascending=[0]).head(1)], \n",
    "                                   axis=0)\n",
    "df_topic_top_email = df_topic_top_email.reset_index()\n",
    "df_topic_top_email.columns = ['Document_ID','Topic_ID', 'Topic Likelihood', 'Keywords_Contribute_to_Topic', 'Email_Content']\n",
    "df_topic_top_email.Topic_ID= df_topic_top_email.Topic_ID.astype(int)"
   ]
  },
  {
   "cell_type": "code",
   "execution_count": 40,
   "metadata": {},
   "outputs": [
    {
     "data": {
      "text/html": [
       "<div>\n",
       "<style scoped>\n",
       "    .dataframe tbody tr th:only-of-type {\n",
       "        vertical-align: middle;\n",
       "    }\n",
       "\n",
       "    .dataframe tbody tr th {\n",
       "        vertical-align: top;\n",
       "    }\n",
       "\n",
       "    .dataframe thead th {\n",
       "        text-align: right;\n",
       "    }\n",
       "</style>\n",
       "<table border=\"1\" class=\"dataframe\">\n",
       "  <thead>\n",
       "    <tr style=\"text-align: right;\">\n",
       "      <th></th>\n",
       "      <th>Document_ID</th>\n",
       "      <th>Topic_ID</th>\n",
       "      <th>Topic Likelihood</th>\n",
       "      <th>Keywords_Contribute_to_Topic</th>\n",
       "      <th>Email_Content</th>\n",
       "    </tr>\n",
       "  </thead>\n",
       "  <tbody>\n",
       "    <tr>\n",
       "      <th>0</th>\n",
       "      <td>650</td>\n",
       "      <td>0</td>\n",
       "      <td>0.6279</td>\n",
       "      <td>power, price, energy, market, gas, california,...</td>\n",
       "      <td>Larry,  Just a note to touch base on the sagew...</td>\n",
       "    </tr>\n",
       "    <tr>\n",
       "      <th>1</th>\n",
       "      <td>604</td>\n",
       "      <td>1</td>\n",
       "      <td>0.9734</td>\n",
       "      <td>change, let, issue, time, list, position, desk...</td>\n",
       "      <td>---------------------- Forwarded by Phillip K ...</td>\n",
       "    </tr>\n",
       "    <tr>\n",
       "      <th>2</th>\n",
       "      <td>41</td>\n",
       "      <td>2</td>\n",
       "      <td>0.8612</td>\n",
       "      <td>project, austin, plan, week, site, property, a...</td>\n",
       "      <td>---------------------- Forwarded by Phillip K ...</td>\n",
       "    </tr>\n",
       "    <tr>\n",
       "      <th>3</th>\n",
       "      <td>616</td>\n",
       "      <td>3</td>\n",
       "      <td>0.7103</td>\n",
       "      <td>trade, gas, index, daily, natural, price, trad...</td>\n",
       "      <td>Liane,  As we discussed yesterday, I am concer...</td>\n",
       "    </tr>\n",
       "    <tr>\n",
       "      <th>4</th>\n",
       "      <td>81</td>\n",
       "      <td>4</td>\n",
       "      <td>0.9432</td>\n",
       "      <td>click, question, www, access, site, web, follo...</td>\n",
       "      <td>Mark,  The following is a guest password that ...</td>\n",
       "    </tr>\n",
       "    <tr>\n",
       "      <th>5</th>\n",
       "      <td>1</td>\n",
       "      <td>5</td>\n",
       "      <td>0.9429</td>\n",
       "      <td>plant, line, plan, fall, take, company, house,...</td>\n",
       "      <td>Traveling to have a business meeting takes the...</td>\n",
       "    </tr>\n",
       "    <tr>\n",
       "      <th>6</th>\n",
       "      <td>642</td>\n",
       "      <td>6</td>\n",
       "      <td>0.7983</td>\n",
       "      <td>socal, notice, mary, detail, short, language, ...</td>\n",
       "      <td>9/8  9/7  diff Socal  36,600  37,200  -600 N...</td>\n",
       "    </tr>\n",
       "    <tr>\n",
       "      <th>7</th>\n",
       "      <td>54</td>\n",
       "      <td>7</td>\n",
       "      <td>0.6944</td>\n",
       "      <td>basis, kid, map, bruce, stop, print, patti, nw...</td>\n",
       "      <td>why is aeco basis so low on the list?  Is NWPL...</td>\n",
       "    </tr>\n",
       "    <tr>\n",
       "      <th>8</th>\n",
       "      <td>18</td>\n",
       "      <td>8</td>\n",
       "      <td>0.5613</td>\n",
       "      <td>approval, rent, approve, study, deposit, let, ...</td>\n",
       "      <td>---------------------- Forwarded by Phillip K ...</td>\n",
       "    </tr>\n",
       "    <tr>\n",
       "      <th>9</th>\n",
       "      <td>44</td>\n",
       "      <td>9</td>\n",
       "      <td>0.7655</td>\n",
       "      <td>buy, yahoo, see, risk, visit, late, good, soon...</td>\n",
       "      <td>Jeff,  I need to see the site plan for Burnet....</td>\n",
       "    </tr>\n",
       "    <tr>\n",
       "      <th>10</th>\n",
       "      <td>14</td>\n",
       "      <td>10</td>\n",
       "      <td>0.6221</td>\n",
       "      <td>book, rentroll, new, member, save, already, ga...</td>\n",
       "      <td>Dave,   Here are the names of the west desk me...</td>\n",
       "    </tr>\n",
       "    <tr>\n",
       "      <th>11</th>\n",
       "      <td>71</td>\n",
       "      <td>11</td>\n",
       "      <td>0.9744</td>\n",
       "      <td>phillip, allen, forward, enron, mail, pdx, req...</td>\n",
       "      <td>---------------------- Forwarded by Phillip K ...</td>\n",
       "    </tr>\n",
       "    <tr>\n",
       "      <th>12</th>\n",
       "      <td>91</td>\n",
       "      <td>13</td>\n",
       "      <td>0.8669</td>\n",
       "      <td>get, phillip, go, work, today, need, week, fil...</td>\n",
       "      <td>Lucy,  We can discuss your email later.  How i...</td>\n",
       "    </tr>\n",
       "    <tr>\n",
       "      <th>13</th>\n",
       "      <td>25</td>\n",
       "      <td>14</td>\n",
       "      <td>0.9703</td>\n",
       "      <td>cost, loan, construction, land, fee, cash, amo...</td>\n",
       "      <td>---------------------- Forwarded by Phillip K ...</td>\n",
       "    </tr>\n",
       "    <tr>\n",
       "      <th>14</th>\n",
       "      <td>141</td>\n",
       "      <td>15</td>\n",
       "      <td>0.4747</td>\n",
       "      <td>front, floor, tuesday, mind, spec, design, att...</td>\n",
       "      <td>How about Tuesday at 11:15 in front of the bui...</td>\n",
       "    </tr>\n",
       "    <tr>\n",
       "      <th>15</th>\n",
       "      <td>59</td>\n",
       "      <td>16</td>\n",
       "      <td>0.6340</td>\n",
       "      <td>program, feedback, process, style, participant...</td>\n",
       "      <td>---------------------- Forwarded by Phillip K ...</td>\n",
       "    </tr>\n",
       "    <tr>\n",
       "      <th>16</th>\n",
       "      <td>50</td>\n",
       "      <td>17</td>\n",
       "      <td>0.9303</td>\n",
       "      <td>morning, full, normal, phillip, else, permissi...</td>\n",
       "      <td>\\n---------------------- Forwarded by Phillip ...</td>\n",
       "    </tr>\n",
       "    <tr>\n",
       "      <th>17</th>\n",
       "      <td>292</td>\n",
       "      <td>18</td>\n",
       "      <td>0.9113</td>\n",
       "      <td>enron, corp, enronxgate, ee, communication, hr...</td>\n",
       "      <td>---------------------- Forwarded by Phillip K ...</td>\n",
       "    </tr>\n",
       "    <tr>\n",
       "      <th>18</th>\n",
       "      <td>27</td>\n",
       "      <td>19</td>\n",
       "      <td>0.9334</td>\n",
       "      <td>response, meeting, allen, phillip, start, rise...</td>\n",
       "      <td>---------------------- Forwarded by Phillip K ...</td>\n",
       "    </tr>\n",
       "  </tbody>\n",
       "</table>\n",
       "</div>"
      ],
      "text/plain": [
       "    Document_ID  Topic_ID  Topic Likelihood  \\\n",
       "0           650         0            0.6279   \n",
       "1           604         1            0.9734   \n",
       "2            41         2            0.8612   \n",
       "3           616         3            0.7103   \n",
       "4            81         4            0.9432   \n",
       "5             1         5            0.9429   \n",
       "6           642         6            0.7983   \n",
       "7            54         7            0.6944   \n",
       "8            18         8            0.5613   \n",
       "9            44         9            0.7655   \n",
       "10           14        10            0.6221   \n",
       "11           71        11            0.9744   \n",
       "12           91        13            0.8669   \n",
       "13           25        14            0.9703   \n",
       "14          141        15            0.4747   \n",
       "15           59        16            0.6340   \n",
       "16           50        17            0.9303   \n",
       "17          292        18            0.9113   \n",
       "18           27        19            0.9334   \n",
       "\n",
       "                         Keywords_Contribute_to_Topic  \\\n",
       "0   power, price, energy, market, gas, california,...   \n",
       "1   change, let, issue, time, list, position, desk...   \n",
       "2   project, austin, plan, week, site, property, a...   \n",
       "3   trade, gas, index, daily, natural, price, trad...   \n",
       "4   click, question, www, access, site, web, follo...   \n",
       "5   plant, line, plan, fall, take, company, house,...   \n",
       "6   socal, notice, mary, detail, short, language, ...   \n",
       "7   basis, kid, map, bruce, stop, print, patti, nw...   \n",
       "8   approval, rent, approve, study, deposit, let, ...   \n",
       "9   buy, yahoo, see, risk, visit, late, good, soon...   \n",
       "10  book, rentroll, new, member, save, already, ga...   \n",
       "11  phillip, allen, forward, enron, mail, pdx, req...   \n",
       "12  get, phillip, go, work, today, need, week, fil...   \n",
       "13  cost, loan, construction, land, fee, cash, amo...   \n",
       "14  front, floor, tuesday, mind, spec, design, att...   \n",
       "15  program, feedback, process, style, participant...   \n",
       "16  morning, full, normal, phillip, else, permissi...   \n",
       "17  enron, corp, enronxgate, ee, communication, hr...   \n",
       "18  response, meeting, allen, phillip, start, rise...   \n",
       "\n",
       "                                        Email_Content  \n",
       "0   Larry,  Just a note to touch base on the sagew...  \n",
       "1   ---------------------- Forwarded by Phillip K ...  \n",
       "2   ---------------------- Forwarded by Phillip K ...  \n",
       "3   Liane,  As we discussed yesterday, I am concer...  \n",
       "4   Mark,  The following is a guest password that ...  \n",
       "5   Traveling to have a business meeting takes the...  \n",
       "6     9/8  9/7  diff Socal  36,600  37,200  -600 N...  \n",
       "7   why is aeco basis so low on the list?  Is NWPL...  \n",
       "8   ---------------------- Forwarded by Phillip K ...  \n",
       "9   Jeff,  I need to see the site plan for Burnet....  \n",
       "10  Dave,   Here are the names of the west desk me...  \n",
       "11  ---------------------- Forwarded by Phillip K ...  \n",
       "12  Lucy,  We can discuss your email later.  How i...  \n",
       "13  ---------------------- Forwarded by Phillip K ...  \n",
       "14  How about Tuesday at 11:15 in front of the bui...  \n",
       "15  ---------------------- Forwarded by Phillip K ...  \n",
       "16  \\n---------------------- Forwarded by Phillip ...  \n",
       "17  ---------------------- Forwarded by Phillip K ...  \n",
       "18  ---------------------- Forwarded by Phillip K ...  "
      ]
     },
     "execution_count": 40,
     "metadata": {},
     "output_type": "execute_result"
    }
   ],
   "source": [
    "df_topic_top_email"
   ]
  },
  {
   "cell_type": "markdown",
   "metadata": {},
   "source": [
    "#### Insights\n",
    "Let's take Topic # 1 as an example. In its most representative email, it mentioned about the pricing of trades, which is aligned with the most important keywords in this topics. By combining the key words along with the most representative email content, we could infer that this topic is more related to trading activities."
   ]
  },
  {
   "cell_type": "code",
   "execution_count": 41,
   "metadata": {},
   "outputs": [
    {
     "data": {
      "text/plain": [
       "\"Larry,  Just a note to touch base on the sagewood townhomes and other development \\nopportunities.  I stumbled across some other duplexes for sale on the same street. that were \\nbuilt by Reagan Lehmann.  22 Units were sold for \\n around $2 million. ($182,000/duplex).  I spoke to Reagan and he indicated \\nthat he had more units under construction that would be \\n available in the 180's.  Are the units he is selling significantly different \\nfrom yours?  He mentioned some of the units are the 1308 floor\\n plan.  My bid of 2.7 million is almost $193,000/duplex.    As far as being an investor in a new project, I am still very interested.    Call or email with your thoughts. Phillip\""
      ]
     },
     "execution_count": 41,
     "metadata": {},
     "output_type": "execute_result"
    }
   ],
   "source": [
    "df_topic_top_email.Email_Content[0]"
   ]
  },
  {
   "cell_type": "markdown",
   "metadata": {},
   "source": [
    "### 7. Some Further Insights: Distribution of Emails across All Topics"
   ]
  },
  {
   "cell_type": "code",
   "execution_count": 42,
   "metadata": {},
   "outputs": [],
   "source": [
    "distribution_across_topic = df_email_topics.groupby(['Dominant_Topic']).agg({'Topic_Keywords':'first',\n",
    "                                                                             0: 'count'}).reset_index()\n",
    "distribution_across_topic.columns = ['Topic_ID', 'Top_Keywords', 'Document_Count']\n",
    "distribution_across_topic['Document_Percentage'] = distribution_across_topic['Document_Count'] / len(df_email_topics) * 100"
   ]
  },
  {
   "cell_type": "code",
   "execution_count": 43,
   "metadata": {},
   "outputs": [
    {
     "data": {
      "text/html": [
       "<div>\n",
       "<style scoped>\n",
       "    .dataframe tbody tr th:only-of-type {\n",
       "        vertical-align: middle;\n",
       "    }\n",
       "\n",
       "    .dataframe tbody tr th {\n",
       "        vertical-align: top;\n",
       "    }\n",
       "\n",
       "    .dataframe thead th {\n",
       "        text-align: right;\n",
       "    }\n",
       "</style>\n",
       "<table border=\"1\" class=\"dataframe\">\n",
       "  <thead>\n",
       "    <tr style=\"text-align: right;\">\n",
       "      <th></th>\n",
       "      <th>Topic_ID</th>\n",
       "      <th>Top_Keywords</th>\n",
       "      <th>Document_Count</th>\n",
       "      <th>Document_Percentage</th>\n",
       "    </tr>\n",
       "  </thead>\n",
       "  <tbody>\n",
       "    <tr>\n",
       "      <th>0</th>\n",
       "      <td>0.0</td>\n",
       "      <td>power, price, energy, market, gas, california,...</td>\n",
       "      <td>47</td>\n",
       "      <td>4.7</td>\n",
       "    </tr>\n",
       "    <tr>\n",
       "      <th>1</th>\n",
       "      <td>1.0</td>\n",
       "      <td>change, let, issue, time, list, position, desk...</td>\n",
       "      <td>91</td>\n",
       "      <td>9.1</td>\n",
       "    </tr>\n",
       "    <tr>\n",
       "      <th>2</th>\n",
       "      <td>2.0</td>\n",
       "      <td>project, austin, plan, week, site, property, a...</td>\n",
       "      <td>23</td>\n",
       "      <td>2.3</td>\n",
       "    </tr>\n",
       "    <tr>\n",
       "      <th>3</th>\n",
       "      <td>3.0</td>\n",
       "      <td>trade, gas, index, daily, natural, price, trad...</td>\n",
       "      <td>30</td>\n",
       "      <td>3.0</td>\n",
       "    </tr>\n",
       "    <tr>\n",
       "      <th>4</th>\n",
       "      <td>4.0</td>\n",
       "      <td>click, question, www, access, site, web, follo...</td>\n",
       "      <td>37</td>\n",
       "      <td>3.7</td>\n",
       "    </tr>\n",
       "    <tr>\n",
       "      <th>5</th>\n",
       "      <td>5.0</td>\n",
       "      <td>plant, line, plan, fall, take, company, house,...</td>\n",
       "      <td>38</td>\n",
       "      <td>3.8</td>\n",
       "    </tr>\n",
       "    <tr>\n",
       "      <th>6</th>\n",
       "      <td>6.0</td>\n",
       "      <td>socal, notice, mary, detail, short, language, ...</td>\n",
       "      <td>4</td>\n",
       "      <td>0.4</td>\n",
       "    </tr>\n",
       "    <tr>\n",
       "      <th>7</th>\n",
       "      <td>7.0</td>\n",
       "      <td>basis, kid, map, bruce, stop, print, patti, nw...</td>\n",
       "      <td>15</td>\n",
       "      <td>1.5</td>\n",
       "    </tr>\n",
       "    <tr>\n",
       "      <th>8</th>\n",
       "      <td>8.0</td>\n",
       "      <td>approval, rent, approve, study, deposit, let, ...</td>\n",
       "      <td>10</td>\n",
       "      <td>1.0</td>\n",
       "    </tr>\n",
       "    <tr>\n",
       "      <th>9</th>\n",
       "      <td>9.0</td>\n",
       "      <td>buy, yahoo, see, risk, visit, late, good, soon...</td>\n",
       "      <td>28</td>\n",
       "      <td>2.8</td>\n",
       "    </tr>\n",
       "    <tr>\n",
       "      <th>10</th>\n",
       "      <td>10.0</td>\n",
       "      <td>book, rentroll, new, member, save, already, ga...</td>\n",
       "      <td>13</td>\n",
       "      <td>1.3</td>\n",
       "    </tr>\n",
       "    <tr>\n",
       "      <th>11</th>\n",
       "      <td>11.0</td>\n",
       "      <td>phillip, allen, forward, enron, mail, pdx, req...</td>\n",
       "      <td>323</td>\n",
       "      <td>32.3</td>\n",
       "    </tr>\n",
       "    <tr>\n",
       "      <th>12</th>\n",
       "      <td>13.0</td>\n",
       "      <td>get, phillip, go, work, today, need, week, fil...</td>\n",
       "      <td>202</td>\n",
       "      <td>20.2</td>\n",
       "    </tr>\n",
       "    <tr>\n",
       "      <th>13</th>\n",
       "      <td>14.0</td>\n",
       "      <td>cost, loan, construction, land, fee, cash, amo...</td>\n",
       "      <td>61</td>\n",
       "      <td>6.1</td>\n",
       "    </tr>\n",
       "    <tr>\n",
       "      <th>14</th>\n",
       "      <td>15.0</td>\n",
       "      <td>front, floor, tuesday, mind, spec, design, att...</td>\n",
       "      <td>2</td>\n",
       "      <td>0.2</td>\n",
       "    </tr>\n",
       "    <tr>\n",
       "      <th>15</th>\n",
       "      <td>16.0</td>\n",
       "      <td>program, feedback, process, style, participant...</td>\n",
       "      <td>7</td>\n",
       "      <td>0.7</td>\n",
       "    </tr>\n",
       "    <tr>\n",
       "      <th>16</th>\n",
       "      <td>17.0</td>\n",
       "      <td>morning, full, normal, phillip, else, permissi...</td>\n",
       "      <td>13</td>\n",
       "      <td>1.3</td>\n",
       "    </tr>\n",
       "    <tr>\n",
       "      <th>17</th>\n",
       "      <td>18.0</td>\n",
       "      <td>enron, corp, enronxgate, ee, communication, hr...</td>\n",
       "      <td>44</td>\n",
       "      <td>4.4</td>\n",
       "    </tr>\n",
       "    <tr>\n",
       "      <th>18</th>\n",
       "      <td>19.0</td>\n",
       "      <td>response, meeting, allen, phillip, start, rise...</td>\n",
       "      <td>12</td>\n",
       "      <td>1.2</td>\n",
       "    </tr>\n",
       "  </tbody>\n",
       "</table>\n",
       "</div>"
      ],
      "text/plain": [
       "    Topic_ID                                       Top_Keywords  \\\n",
       "0        0.0  power, price, energy, market, gas, california,...   \n",
       "1        1.0  change, let, issue, time, list, position, desk...   \n",
       "2        2.0  project, austin, plan, week, site, property, a...   \n",
       "3        3.0  trade, gas, index, daily, natural, price, trad...   \n",
       "4        4.0  click, question, www, access, site, web, follo...   \n",
       "5        5.0  plant, line, plan, fall, take, company, house,...   \n",
       "6        6.0  socal, notice, mary, detail, short, language, ...   \n",
       "7        7.0  basis, kid, map, bruce, stop, print, patti, nw...   \n",
       "8        8.0  approval, rent, approve, study, deposit, let, ...   \n",
       "9        9.0  buy, yahoo, see, risk, visit, late, good, soon...   \n",
       "10      10.0  book, rentroll, new, member, save, already, ga...   \n",
       "11      11.0  phillip, allen, forward, enron, mail, pdx, req...   \n",
       "12      13.0  get, phillip, go, work, today, need, week, fil...   \n",
       "13      14.0  cost, loan, construction, land, fee, cash, amo...   \n",
       "14      15.0  front, floor, tuesday, mind, spec, design, att...   \n",
       "15      16.0  program, feedback, process, style, participant...   \n",
       "16      17.0  morning, full, normal, phillip, else, permissi...   \n",
       "17      18.0  enron, corp, enronxgate, ee, communication, hr...   \n",
       "18      19.0  response, meeting, allen, phillip, start, rise...   \n",
       "\n",
       "    Document_Count  Document_Percentage  \n",
       "0               47                  4.7  \n",
       "1               91                  9.1  \n",
       "2               23                  2.3  \n",
       "3               30                  3.0  \n",
       "4               37                  3.7  \n",
       "5               38                  3.8  \n",
       "6                4                  0.4  \n",
       "7               15                  1.5  \n",
       "8               10                  1.0  \n",
       "9               28                  2.8  \n",
       "10              13                  1.3  \n",
       "11             323                 32.3  \n",
       "12             202                 20.2  \n",
       "13              61                  6.1  \n",
       "14               2                  0.2  \n",
       "15               7                  0.7  \n",
       "16              13                  1.3  \n",
       "17              44                  4.4  \n",
       "18              12                  1.2  "
      ]
     },
     "execution_count": 43,
     "metadata": {},
     "output_type": "execute_result"
    }
   ],
   "source": [
    "distribution_across_topic"
   ]
  },
  {
   "cell_type": "markdown",
   "metadata": {},
   "source": [
    "#### Insights\n",
    "As we can see from the table above, topic 11 and topic 13 are topics covered most in those documents. If we trace back to emails tagged as these two topic, we will find that most of them are Enron's internal email to phillip or forwarded by phillip, and mostly covered daily operational stuffs. Those emails take up high percentages in email dataset. Such analysis will help us better understand what are the major popularities in email topic groups."
   ]
  },
  {
   "cell_type": "markdown",
   "metadata": {},
   "source": [
    "#### Some insights for further Enhancement:\n",
    "1. Enhance the model: LDA model has limited capability in case when there're very short email and long email mixed together in dataset. The short email content will cause sparse issue. An atlernative could be BTM model.\n",
    "2. Bring in more dataset for learning."
   ]
  },
  {
   "cell_type": "markdown",
   "metadata": {},
   "source": [
    "# Other Email Topic Modeling Approaches: Email Segmentation with Clustering"
   ]
  },
  {
   "cell_type": "markdown",
   "metadata": {},
   "source": [
    "#### Note:\n",
    "Below analysis basically gives you some tastes of how to generally implement an email segementation use case by clustering on emails' content. Please note that due to limited amount of data, the clustering results below didn't really provide very helpful insights. Feature engineering(add more feature) will not be very much helpful in this case as well.\n",
    "If given more dataset with label, superivsed learning would be always considered as priority."
   ]
  },
  {
   "cell_type": "code",
   "execution_count": 44,
   "metadata": {},
   "outputs": [],
   "source": [
    "from sklearn.feature_extraction.text import TfidfVectorizer,CountVectorizer\n",
    "from sklearn.cluster import KMeans\n",
    "from sklearn.decomposition import PCA"
   ]
  },
  {
   "cell_type": "markdown",
   "metadata": {},
   "source": [
    "### Method 1. TFI-DF + Word Embedding + Kmeans Clustering"
   ]
  },
  {
   "cell_type": "code",
   "execution_count": 45,
   "metadata": {},
   "outputs": [],
   "source": [
    "clean_truncated_enron_df = truncated_enron_df.dropna(subset=['To'])"
   ]
  },
  {
   "cell_type": "code",
   "execution_count": 46,
   "metadata": {},
   "outputs": [],
   "source": [
    "tfidf_vectorizer = TfidfVectorizer(stop_words=stop_words, token_pattern=r'(?u)\\b[A-Za-z]+\\b') #Remove numbers\n",
    "ngrams = tfidf_vectorizer.fit_transform(clean_truncated_enron_df.content)"
   ]
  },
  {
   "cell_type": "code",
   "execution_count": 47,
   "metadata": {},
   "outputs": [],
   "source": [
    "# Each document find top 20 words with highest TFIDF score\n",
    "feature_array = np.array(tfidf_vectorizer.get_feature_names())\n",
    "tfidf_sorting = np.argsort(ngrams.toarray())\n",
    "n = 20\n",
    "top_n_list = []\n",
    "for tfidf_sorted in tfidf_sorting:\n",
    "    top_n = list(feature_array[tfidf_sorted[-n:][::-1]])\n",
    "    top_n_list.append(top_n)"
   ]
  },
  {
   "cell_type": "code",
   "execution_count": 48,
   "metadata": {},
   "outputs": [],
   "source": [
    "# Use pre-trained word2vec to map words into 300 dim-numerical vector\n",
    "# Load pre-train word2vec\n",
    "model = gensim.models.KeyedVectors.load_word2vec_format('GoogleNews-vectors-negative300.bin', binary=True)\n",
    "# Map words into word2vec features\n",
    "tfidf_doc_embedding_list = []\n",
    "for top_n in top_n_list:\n",
    "    embeding_vec = np.zeros(300)\n",
    "    for word in top_n:\n",
    "        if word in model:\n",
    "            embeding_vec += model[word]\n",
    "    tfidf_doc_embedding_list.append(embeding_vec)"
   ]
  },
  {
   "cell_type": "code",
   "execution_count": 49,
   "metadata": {},
   "outputs": [
    {
     "data": {
      "image/png": "[encoded data removed]",
      "text/plain": [
       "<Figure size 432x288 with 1 Axes>"
      ]
     },
     "metadata": {
      "needs_background": "light"
     },
     "output_type": "display_data"
    }
   ],
   "source": [
    "# Find optimal K to cluster\n",
    "X = np.array(tfidf_doc_embedding_list)\n",
    "wcss = []\n",
    "for i in range(1, 11):\n",
    "    kmeans = KMeans(n_clusters=i, init='k-means++', max_iter=300, n_init=10, random_state=0)\n",
    "    kmeans.fit(X)\n",
    "    wcss.append(kmeans.inertia_)\n",
    "plt.plot(range(1, 11), wcss)\n",
    "plt.title('Elbow Method')\n",
    "plt.xlabel('Number of clusters')\n",
    "plt.ylabel('WCSS')\n",
    "plt.show()"
   ]
  },
  {
   "cell_type": "code",
   "execution_count": 50,
   "metadata": {},
   "outputs": [],
   "source": [
    "kmeans = KMeans(n_clusters=3, init='k-means++', max_iter=300, n_init=10, random_state=0)\n",
    "pred_y = kmeans.fit_predict(X)\n",
    "clean_truncated_enron_df['kmeans_pred'] = pred_y"
   ]
  },
  {
   "cell_type": "code",
   "execution_count": 51,
   "metadata": {},
   "outputs": [
    {
     "data": {
      "text/html": [
       "<div>\n",
       "<style scoped>\n",
       "    .dataframe tbody tr th:only-of-type {\n",
       "        vertical-align: middle;\n",
       "    }\n",
       "\n",
       "    .dataframe tbody tr th {\n",
       "        vertical-align: top;\n",
       "    }\n",
       "\n",
       "    .dataframe thead th {\n",
       "        text-align: right;\n",
       "    }\n",
       "</style>\n",
       "<table border=\"1\" class=\"dataframe\">\n",
       "  <thead>\n",
       "    <tr style=\"text-align: right;\">\n",
       "      <th></th>\n",
       "      <th>Date</th>\n",
       "      <th>From</th>\n",
       "      <th>To</th>\n",
       "      <th>Subject</th>\n",
       "      <th>content</th>\n",
       "      <th>new_date</th>\n",
       "      <th>kmeans_pred</th>\n",
       "    </tr>\n",
       "  </thead>\n",
       "  <tbody>\n",
       "    <tr>\n",
       "      <th>0</th>\n",
       "      <td>Mon, 14 May 2001 16:39:00 -0700 (PDT)</td>\n",
       "      <td>phillip.allen@enron.com</td>\n",
       "      <td>tim.belden@enron.com</td>\n",
       "      <td>NaN</td>\n",
       "      <td>Here is our forecast</td>\n",
       "      <td>2001-05-14 23:39:00</td>\n",
       "      <td>0</td>\n",
       "    </tr>\n",
       "    <tr>\n",
       "      <th>1</th>\n",
       "      <td>Fri, 4 May 2001 13:51:00 -0700 (PDT)</td>\n",
       "      <td>phillip.allen@enron.com</td>\n",
       "      <td>john.lavorato@enron.com</td>\n",
       "      <td>Re:</td>\n",
       "      <td>Traveling to have a business meeting takes the...</td>\n",
       "      <td>2001-05-04 20:51:00</td>\n",
       "      <td>1</td>\n",
       "    </tr>\n",
       "    <tr>\n",
       "      <th>2</th>\n",
       "      <td>Wed, 18 Oct 2000 03:00:00 -0700 (PDT)</td>\n",
       "      <td>phillip.allen@enron.com</td>\n",
       "      <td>leah.arsdall@enron.com</td>\n",
       "      <td>Re: test</td>\n",
       "      <td>test successful.  way to go!!!</td>\n",
       "      <td>2000-10-18 10:00:00</td>\n",
       "      <td>0</td>\n",
       "    </tr>\n",
       "    <tr>\n",
       "      <th>3</th>\n",
       "      <td>Mon, 23 Oct 2000 06:13:00 -0700 (PDT)</td>\n",
       "      <td>phillip.allen@enron.com</td>\n",
       "      <td>randall.gay@enron.com</td>\n",
       "      <td>NaN</td>\n",
       "      <td>Randy,  Can you send me a schedule of the sala...</td>\n",
       "      <td>2000-10-23 13:13:00</td>\n",
       "      <td>1</td>\n",
       "    </tr>\n",
       "    <tr>\n",
       "      <th>4</th>\n",
       "      <td>Thu, 31 Aug 2000 05:07:00 -0700 (PDT)</td>\n",
       "      <td>phillip.allen@enron.com</td>\n",
       "      <td>greg.piper@enron.com</td>\n",
       "      <td>Re: Hello</td>\n",
       "      <td>Let's shoot for Tuesday at 11:45.</td>\n",
       "      <td>2000-08-31 12:07:00</td>\n",
       "      <td>0</td>\n",
       "    </tr>\n",
       "  </tbody>\n",
       "</table>\n",
       "</div>"
      ],
      "text/plain": [
       "                                    Date                     From  \\\n",
       "0  Mon, 14 May 2001 16:39:00 -0700 (PDT)  phillip.allen@enron.com   \n",
       "1   Fri, 4 May 2001 13:51:00 -0700 (PDT)  phillip.allen@enron.com   \n",
       "2  Wed, 18 Oct 2000 03:00:00 -0700 (PDT)  phillip.allen@enron.com   \n",
       "3  Mon, 23 Oct 2000 06:13:00 -0700 (PDT)  phillip.allen@enron.com   \n",
       "4  Thu, 31 Aug 2000 05:07:00 -0700 (PDT)  phillip.allen@enron.com   \n",
       "\n",
       "                        To    Subject  \\\n",
       "0     tim.belden@enron.com        NaN   \n",
       "1  john.lavorato@enron.com        Re:   \n",
       "2   leah.arsdall@enron.com   Re: test   \n",
       "3    randall.gay@enron.com        NaN   \n",
       "4     greg.piper@enron.com  Re: Hello   \n",
       "\n",
       "                                             content             new_date  \\\n",
       "0                             Here is our forecast    2001-05-14 23:39:00   \n",
       "1  Traveling to have a business meeting takes the...  2001-05-04 20:51:00   \n",
       "2                     test successful.  way to go!!!  2000-10-18 10:00:00   \n",
       "3  Randy,  Can you send me a schedule of the sala...  2000-10-23 13:13:00   \n",
       "4                Let's shoot for Tuesday at 11:45.    2000-08-31 12:07:00   \n",
       "\n",
       "   kmeans_pred  \n",
       "0            0  \n",
       "1            1  \n",
       "2            0  \n",
       "3            1  \n",
       "4            0  "
      ]
     },
     "execution_count": 51,
     "metadata": {},
     "output_type": "execute_result"
    }
   ],
   "source": [
    "clean_truncated_enron_df.head()"
   ]
  },
  {
   "cell_type": "code",
   "execution_count": 52,
   "metadata": {},
   "outputs": [],
   "source": [
    "# Get top word features for each cluster\n",
    "def get_top_features_cluster(tf_idf_array, prediction, n_feats):\n",
    "    labels = np.unique(prediction)\n",
    "    dfs = []\n",
    "    for label in labels:\n",
    "        id_temp = np.where(prediction==label) # indices for each cluster\n",
    "        x_means = np.mean(tf_idf_array[id_temp], axis = 0) # returns average score across cluster\n",
    "        sorted_means = np.argsort(x_means)[::-1][:n_feats] # indices with top 20 scores\n",
    "        features = tfidf_vectorizer.get_feature_names()\n",
    "        best_features = [(features[i], x_means[i]) for i in sorted_means]\n",
    "        df = pd.DataFrame(best_features, columns = ['features', 'score'])\n",
    "        dfs.append(df)\n",
    "    return dfs\n",
    "dfs = get_top_features_cluster(ngrams.toarray(), pred_y, 15)"
   ]
  },
  {
   "cell_type": "code",
   "execution_count": 53,
   "metadata": {},
   "outputs": [
    {
     "data": {
      "text/plain": [
       "[    features     score\n",
       " 0    phillip  0.049910\n",
       " 1     please  0.029563\n",
       " 2     thanks  0.022627\n",
       " 3      allen  0.017915\n",
       " 4      email  0.016893\n",
       " 5      still  0.016763\n",
       " 6       call  0.016310\n",
       " 7       file  0.016234\n",
       " 8       west  0.016100\n",
       " 9   received  0.015582\n",
       " 10      send  0.015542\n",
       " 11         k  0.014579\n",
       " 12       get  0.014392\n",
       " 13      good  0.014125\n",
       " 14       try  0.013613,\n",
       "    features     score\n",
       " 0   phillip  0.037701\n",
       " 1     would  0.035258\n",
       " 2     enron  0.025650\n",
       " 3      need  0.024751\n",
       " 4       gas  0.024171\n",
       " 5     allen  0.021600\n",
       " 6      like  0.020362\n",
       " 7   project  0.019714\n",
       " 8       get  0.019362\n",
       " 9      know  0.018823\n",
       " 10     work  0.018696\n",
       " 11    email  0.018338\n",
       " 12      let  0.017972\n",
       " 13     call  0.017949\n",
       " 14     week  0.017855,\n",
       "      features     score\n",
       " 0       enron  0.139360\n",
       " 1       allen  0.086209\n",
       " 2           k  0.082025\n",
       " 3     phillip  0.073296\n",
       " 4   forwarded  0.045328\n",
       " 5        corp  0.041191\n",
       " 6          na  0.033617\n",
       " 7     meeting  0.029548\n",
       " 8      please  0.028402\n",
       " 9        john  0.024836\n",
       " 10        gas  0.024522\n",
       " 11        pdx  0.023850\n",
       " 12        ees  0.022640\n",
       " 13        tim  0.021914\n",
       " 14    request  0.021276]"
      ]
     },
     "execution_count": 53,
     "metadata": {},
     "output_type": "execute_result"
    }
   ],
   "source": [
    "dfs"
   ]
  },
  {
   "cell_type": "markdown",
   "metadata": {},
   "source": [
    "### Method 2. TFI-DF + PCA + Kmeans Clustering"
   ]
  },
  {
   "cell_type": "code",
   "execution_count": 54,
   "metadata": {},
   "outputs": [],
   "source": [
    "X_dense = ngrams.todense()"
   ]
  },
  {
   "cell_type": "code",
   "execution_count": 55,
   "metadata": {},
   "outputs": [
    {
     "data": {
      "image/png": "[encoded data removed]",
      "text/plain": [
       "<Figure size 432x288 with 1 Axes>"
      ]
     },
     "metadata": {
      "needs_background": "light"
     },
     "output_type": "display_data"
    }
   ],
   "source": [
    "# Dimension Reduction on TF-IDFed features\n",
    "coords = PCA(n_components=2).fit_transform(X_dense)\n",
    "plt.scatter(coords[:, 0], coords[:, 1], c='m')\n",
    "plt.show()"
   ]
  },
  {
   "cell_type": "code",
   "execution_count": 56,
   "metadata": {},
   "outputs": [
    {
     "data": {
      "image/png": "[encoded data removed]",
      "text/plain": [
       "<Figure size 432x288 with 1 Axes>"
      ]
     },
     "metadata": {
      "needs_background": "light"
     },
     "output_type": "display_data"
    }
   ],
   "source": [
    "# Find best K \n",
    "X = coords\n",
    "wcss = []\n",
    "for i in range(1, 11):\n",
    "    kmeans = KMeans(n_clusters=i, init='k-means++', max_iter=300, n_init=10, random_state=0)\n",
    "    kmeans.fit(X)\n",
    "    wcss.append(kmeans.inertia_)\n",
    "plt.plot(range(1, 11), wcss)\n",
    "plt.title('Elbow Method')\n",
    "plt.xlabel('Number of clusters')\n",
    "plt.ylabel('WCSS')\n",
    "plt.show()"
   ]
  },
  {
   "cell_type": "code",
   "execution_count": 57,
   "metadata": {},
   "outputs": [],
   "source": [
    "PCA_kmeans = KMeans(n_clusters=3, init='k-means++', max_iter=300, n_init=10, random_state=0)\n",
    "PCA_pred_y = PCA_kmeans.fit_predict(coords)"
   ]
  },
  {
   "cell_type": "code",
   "execution_count": 58,
   "metadata": {},
   "outputs": [],
   "source": [
    "PCA_dfs = get_top_features_cluster(ngrams.toarray(), PCA_pred_y, 15)"
   ]
  },
  {
   "cell_type": "code",
   "execution_count": 59,
   "metadata": {},
   "outputs": [
    {
     "data": {
      "text/plain": [
       "[   features     score\n",
       " 0   phillip  0.040105\n",
       " 1    please  0.023643\n",
       " 2     would  0.022513\n",
       " 3     email  0.018436\n",
       " 4       get  0.017967\n",
       " 5      need  0.017618\n",
       " 6      call  0.016654\n",
       " 7     allen  0.016075\n",
       " 8       gas  0.016007\n",
       " 9      lucy  0.015152\n",
       " 10    enron  0.014527\n",
       " 11      let  0.013958\n",
       " 12      new  0.012931\n",
       " 13   thanks  0.012911\n",
       " 14     west  0.012838,\n",
       "        features     score\n",
       " 0             k  0.188304\n",
       " 1         allen  0.180552\n",
       " 2       phillip  0.133939\n",
       " 3     forwarded  0.093022\n",
       " 4       meeting  0.053319\n",
       " 5           tim  0.051292\n",
       " 6         enron  0.050415\n",
       " 7        hunter  0.042166\n",
       " 8       shively  0.041459\n",
       " 9           pdx  0.036031\n",
       " 10     attached  0.034998\n",
       " 11  heizenrader  0.033409\n",
       " 12     strategy  0.031762\n",
       " 13        scott  0.027820\n",
       " 14          gas  0.027702,\n",
       "      features     score\n",
       " 0       enron  0.432927\n",
       " 1          na  0.135841\n",
       " 2        corp  0.125630\n",
       " 3         ees  0.067580\n",
       " 4     request  0.065025\n",
       " 5           k  0.053409\n",
       " 6       allen  0.053101\n",
       " 7     phillip  0.043701\n",
       " 8        alan  0.035381\n",
       " 9         gas  0.034496\n",
       " 10          j  0.033209\n",
       " 11     please  0.033070\n",
       " 12  forwarded  0.032741\n",
       " 13      steve  0.030860\n",
       " 14     comnes  0.030390]"
      ]
     },
     "execution_count": 59,
     "metadata": {},
     "output_type": "execute_result"
    }
   ],
   "source": [
    "#Get top features for each cluster\n",
    "PCA_dfs"
   ]
  },
  {
   "cell_type": "code",
   "execution_count": 60,
   "metadata": {},
   "outputs": [
    {
     "data": {
      "image/png": "[encoded data removed]",
      "text/plain": [
       "<Figure size 432x288 with 1 Axes>"
      ]
     },
     "metadata": {
      "needs_background": "light"
     },
     "output_type": "display_data"
    }
   ],
   "source": [
    "coords = PCA(n_components=2).fit_transform(X_dense)\n",
    "plt.scatter(coords[:, 0], coords[:, 1], c=PCA_pred_y)\n",
    "plt.show()"
   ]
  }
 ],
 "metadata": {
  "kernelspec": {
   "display_name": "Python 3",
   "language": "python",
   "name": "python3"
  },
  "language_info": {
   "codemirror_mode": {
    "name": "ipython",
    "version": 3
   },
   "file_extension": ".py",
   "mimetype": "text/x-python",
   "name": "python",
   "nbconvert_exporter": "python",
   "pygments_lexer": "ipython3",
   "version": "3.8.5"
  }
 },
 "nbformat": 4,
 "nbformat_minor": 4
}
